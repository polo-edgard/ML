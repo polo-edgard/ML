{
 "cells": [
  {
   "cell_type": "markdown",
   "metadata": {},
   "source": [
    "# Proyecto: Ingeniería de features, Modelos avanzados e Interpretación de modelos"
   ]
  },
  {
   "cell_type": "markdown",
   "metadata": {},
   "source": [
    "##### Dataset: Usaremos el mismo del Proyecto01 `DS_Proyecto_01_Datos_Properati.csv`\n",
    "Ver entrega del Proyecto01 `DS_Proyecto_01-Edgard_Polo.ipynb` en:\n",
    "\n",
    "(https://upbeduco-my.sharepoint.com/:u:/g/personal/edgardenrique_polo_upb_edu_co/EQUr4IEEMndAsvNvqJfYMFsBB9klNlI7kyJ9pcWXbNeCjg?e=dZLSFe)\n",
    "\n",
    "Resultado de la evaluación de la entrega del Proyecto01:\n",
    "\n",
    "(https://parrot.acamica.com/proyectos/27249/entrega)"
   ]
  },
  {
   "cell_type": "code",
   "execution_count": 171,
   "metadata": {},
   "outputs": [],
   "source": [
    "# Importar librerías\n",
    "import numpy as np\n",
    "import matplotlib.pyplot as plt\n",
    "import pandas as pd\n",
    "import seaborn as sns"
   ]
  },
  {
   "cell_type": "code",
   "execution_count": 172,
   "metadata": {},
   "outputs": [],
   "source": [
    "# Imagenes dentro del notebook\n",
    "%matplotlib inline\n",
    "# Configuración del tamaño de las figuras\n",
    "plt.rcParams['figure.figsize'] = (12,8)\n",
    "# Establecer opciones de pandas sobre las columnas y su ancho\n",
    "pd.set_option('max_columns', 120)\n",
    "pd.set_option('max_colwidth', 5000)"
   ]
  },
  {
   "cell_type": "code",
   "execution_count": 173,
   "metadata": {},
   "outputs": [
    {
     "name": "stdout",
     "output_type": "stream",
     "text": [
      "Dataset cargado desde recurso local\n"
     ]
    }
   ],
   "source": [
    "# Cargar el dataset\n",
    "try:\n",
    "    # Leer el dataset localmente \n",
    "    data = pd.read_csv('DS_Proyecto_01_Datos_Properati.csv')\n",
    "    print(\"Dataset cargado desde recurso local\")\n",
    "except:\n",
    "    #Leer el dataset desde un repositorio Google Drive (Aplica para uso del notebook en Colab)\n",
    "    print(\"En caso de error recordar autenticarse con una cuenta Google para ejecutar el notebook en Colab \\nEspere...\")\n",
    "    !pip install -U -q PyDrive ## you will have install for every colab session\n",
    "    from pydrive.auth import GoogleAuth\n",
    "    from pydrive.drive import GoogleDrive\n",
    "    from google.colab import auth\n",
    "    from oauth2client.client import GoogleCredentials\n",
    "    import pandas as pd\n",
    "    # 1. Authenticate and create the PyDrive client.\n",
    "    auth.authenticate_user()\n",
    "    gauth = GoogleAuth()\n",
    "    gauth.credentials = GoogleCredentials.get_application_default()\n",
    "    drive = GoogleDrive(gauth)\n",
    "    # Compartir el dataset en Drive de Google y establecer el ID del archivo\n",
    "    json_import = drive.CreateFile({'id':'1smd2MWqmav1y5shtc99hKEDC2SF8Nt9Q'}) #Si no se tiene acceso puede compartir su propio dataset y reemplazar el ID\n",
    "    json_import.GetContentFile('DS_Proyecto_01_Datos_Properati.csv') # - leer el archivo compartido desde Google Drive\n",
    "    data = pd.read_csv('DS_Proyecto_01_Datos_Properati.csv')\n",
    "    print(\"Dataset cargado desde Google Drive\")"
   ]
  },
  {
   "cell_type": "code",
   "execution_count": 174,
   "metadata": {},
   "outputs": [
    {
     "name": "stdout",
     "output_type": "stream",
     "text": [
      "El dataset tiene 146660 filas\n",
      "El dataset tiene 19 columnas\n"
     ]
    }
   ],
   "source": [
    "# Número de filas y columnas del dataset\n",
    "print(\"El dataset tiene {} filas\".format(data.shape[0]))\n",
    "print(\"El dataset tiene {} columnas\".format(data.shape[1]))"
   ]
  },
  {
   "cell_type": "code",
   "execution_count": 175,
   "metadata": {},
   "outputs": [
    {
     "name": "stdout",
     "output_type": "stream",
     "text": [
      "Las cinco primeras instancias son:\n"
     ]
    },
    {
     "data": {
      "text/html": [
       "<div>\n",
       "<style scoped>\n",
       "    .dataframe tbody tr th:only-of-type {\n",
       "        vertical-align: middle;\n",
       "    }\n",
       "\n",
       "    .dataframe tbody tr th {\n",
       "        vertical-align: top;\n",
       "    }\n",
       "\n",
       "    .dataframe thead th {\n",
       "        text-align: right;\n",
       "    }\n",
       "</style>\n",
       "<table border=\"1\" class=\"dataframe\">\n",
       "  <thead>\n",
       "    <tr style=\"text-align: right;\">\n",
       "      <th></th>\n",
       "      <th>start_date</th>\n",
       "      <th>end_date</th>\n",
       "      <th>created_on</th>\n",
       "      <th>lat</th>\n",
       "      <th>lon</th>\n",
       "      <th>l1</th>\n",
       "      <th>l2</th>\n",
       "      <th>l3</th>\n",
       "      <th>rooms</th>\n",
       "      <th>bedrooms</th>\n",
       "      <th>bathrooms</th>\n",
       "      <th>surface_total</th>\n",
       "      <th>surface_covered</th>\n",
       "      <th>price</th>\n",
       "      <th>currency</th>\n",
       "      <th>title</th>\n",
       "      <th>description</th>\n",
       "      <th>property_type</th>\n",
       "      <th>operation_type</th>\n",
       "    </tr>\n",
       "  </thead>\n",
       "  <tbody>\n",
       "    <tr>\n",
       "      <th>0</th>\n",
       "      <td>2019-10-17</td>\n",
       "      <td>2019-12-23</td>\n",
       "      <td>2019-10-17</td>\n",
       "      <td>-34.605880</td>\n",
       "      <td>-58.384949</td>\n",
       "      <td>Argentina</td>\n",
       "      <td>Capital Federal</td>\n",
       "      <td>San Cristobal</td>\n",
       "      <td>7.0</td>\n",
       "      <td>7.0</td>\n",
       "      <td>2.0</td>\n",
       "      <td>140.0</td>\n",
       "      <td>140.0</td>\n",
       "      <td>153000.0</td>\n",
       "      <td>USD</td>\n",
       "      <td>***Venta semipiso centro, ideal hostel*****</td>\n",
       "      <td>DESCRIPCION DE LA PROPIEDAD: Departamento de 140,65 metros cubiertos según escritura. Segundo piso por escalera. Dormitorios siete  /</td>\n",
       "      <td>Departamento</td>\n",
       "      <td>Venta</td>\n",
       "    </tr>\n",
       "    <tr>\n",
       "      <th>1</th>\n",
       "      <td>2019-10-17</td>\n",
       "      <td>2019-11-21</td>\n",
       "      <td>2019-10-17</td>\n",
       "      <td>-34.624056</td>\n",
       "      <td>-58.412110</td>\n",
       "      <td>Argentina</td>\n",
       "      <td>Capital Federal</td>\n",
       "      <td>Boedo</td>\n",
       "      <td>2.0</td>\n",
       "      <td>1.0</td>\n",
       "      <td>2.0</td>\n",
       "      <td>70.0</td>\n",
       "      <td>58.0</td>\n",
       "      <td>159000.0</td>\n",
       "      <td>USD</td>\n",
       "      <td>Espectacular PH reciclado en Boedo sin expensas.</td>\n",
       "      <td>PH reciclado en Boedo a una cuadra de la plaza sin expensas, solo 4 propietarios en el edificio en muy buen estado.58 m2 cubiertos + 12 m2 de patioabajo: living comedor doble altura patio, toilette, cocina y lavaderoarriba: dormitorio con buen placard y baño completo.Impecable. Luz, sol y verde.Claudia Mascitti CMCPSI 6019</td>\n",
       "      <td>PH</td>\n",
       "      <td>Venta</td>\n",
       "    </tr>\n",
       "    <tr>\n",
       "      <th>2</th>\n",
       "      <td>2019-10-17</td>\n",
       "      <td>2019-11-01</td>\n",
       "      <td>2019-10-17</td>\n",
       "      <td>-34.593569</td>\n",
       "      <td>-58.427474</td>\n",
       "      <td>Argentina</td>\n",
       "      <td>Capital Federal</td>\n",
       "      <td>Palermo</td>\n",
       "      <td>2.0</td>\n",
       "      <td>1.0</td>\n",
       "      <td>1.0</td>\n",
       "      <td>45.0</td>\n",
       "      <td>45.0</td>\n",
       "      <td>125000.0</td>\n",
       "      <td>USD</td>\n",
       "      <td>Depto.tipo casa de 2 ambientes en Venta en Palermo</td>\n",
       "      <td>2 ambienets amplio , excelente estado , patio  , cocina comedor . 45 mts. Migliorisi VE - Se deja constancia que las caracteristicas, medidas, expensas y superficies  consignadas son aproximadas, sujetos a verificación y/o ajuste. El precio del inmueble puede ser modificado sin previo aviso. Fotos de carácter no contractual. Las unidades publicadas están sujetas a disponibilidad.</td>\n",
       "      <td>PH</td>\n",
       "      <td>Venta</td>\n",
       "    </tr>\n",
       "    <tr>\n",
       "      <th>3</th>\n",
       "      <td>2019-10-17</td>\n",
       "      <td>2019-12-23</td>\n",
       "      <td>2019-10-17</td>\n",
       "      <td>-34.581294</td>\n",
       "      <td>-58.436754</td>\n",
       "      <td>Argentina</td>\n",
       "      <td>Capital Federal</td>\n",
       "      <td>Palermo</td>\n",
       "      <td>2.0</td>\n",
       "      <td>1.0</td>\n",
       "      <td>1.0</td>\n",
       "      <td>85.0</td>\n",
       "      <td>50.0</td>\n",
       "      <td>295000.0</td>\n",
       "      <td>USD</td>\n",
       "      <td>COSTA RICA 5800 / PALERMO HOLLYWOOD / VENTA PH 2 AMBIENTES</td>\n",
       "      <td>HERMOSO PH EN PALERMO!!!2 AMBIENTES TOTALMENTE RECICLADOS!!!LIVING/COMEDOR AL CONTRAFRENTE CON SALIDA A PATIO CON ADOQUINES Y PALMERA-DORMITORIO CON BALCON-COCINA Y BAÑO-TERRAZA//SUPER LUMINOSO Y CON EXCELENTE VENTILACION!!!ESTA UBICADO EN PLANTA BAJA, ES EL DEPTO DEL MEDIO POR PASILLOEXCELENTE UBICACION, DONDE NO SE PERMITEN LA CONSTRUCCION DE EDIFICIOS, POR LO QUE SE GARANTIZA EL AIRE Y EL SOL.APTO PROFESIONALNO PAGA EXPENSAS!!!Sup.Total: 85 MtsSup.Cub: 50 MtsSup.desc: 35 MtsSe deja constancia que las medidas (tanto totales como parciales), superficies, m2 y proporciones indicadas en el presente son aproximadas y sujetas a verificación, variación y/o ajuste. Las expensas pueden sufrir variaciones.</td>\n",
       "      <td>PH</td>\n",
       "      <td>Venta</td>\n",
       "    </tr>\n",
       "    <tr>\n",
       "      <th>4</th>\n",
       "      <td>2019-10-17</td>\n",
       "      <td>2020-03-11</td>\n",
       "      <td>2019-10-17</td>\n",
       "      <td>-34.914194</td>\n",
       "      <td>-57.938219</td>\n",
       "      <td>Argentina</td>\n",
       "      <td>Bs.As. G.B.A. Zona Sur</td>\n",
       "      <td>La Plata</td>\n",
       "      <td>2.0</td>\n",
       "      <td>1.0</td>\n",
       "      <td>1.0</td>\n",
       "      <td>50.0</td>\n",
       "      <td>35.0</td>\n",
       "      <td>40000.0</td>\n",
       "      <td>USD</td>\n",
       "      <td>58 entre 1 y 2  Venta de departamento en ph.1 Dormitorio , La Plata</td>\n",
       "      <td>58 entre 1 y 2  Venta de departamento en PH. Primer piso por escaleras. Living comedor, cocina integrada, 1 dormitorio , baño con ducha, terraza de 15 metros, tipo de calefacción por tiro balanceado, ventilación cruzada, zona de facultades. SIN EXPENSAS</td>\n",
       "      <td>PH</td>\n",
       "      <td>Venta</td>\n",
       "    </tr>\n",
       "  </tbody>\n",
       "</table>\n",
       "</div>"
      ],
      "text/plain": [
       "   start_date    end_date  created_on        lat        lon         l1  \\\n",
       "0  2019-10-17  2019-12-23  2019-10-17 -34.605880 -58.384949  Argentina   \n",
       "1  2019-10-17  2019-11-21  2019-10-17 -34.624056 -58.412110  Argentina   \n",
       "2  2019-10-17  2019-11-01  2019-10-17 -34.593569 -58.427474  Argentina   \n",
       "3  2019-10-17  2019-12-23  2019-10-17 -34.581294 -58.436754  Argentina   \n",
       "4  2019-10-17  2020-03-11  2019-10-17 -34.914194 -57.938219  Argentina   \n",
       "\n",
       "                       l2             l3  rooms  bedrooms  bathrooms  \\\n",
       "0         Capital Federal  San Cristobal    7.0       7.0        2.0   \n",
       "1         Capital Federal          Boedo    2.0       1.0        2.0   \n",
       "2         Capital Federal        Palermo    2.0       1.0        1.0   \n",
       "3         Capital Federal        Palermo    2.0       1.0        1.0   \n",
       "4  Bs.As. G.B.A. Zona Sur       La Plata    2.0       1.0        1.0   \n",
       "\n",
       "   surface_total  surface_covered     price currency  \\\n",
       "0          140.0            140.0  153000.0      USD   \n",
       "1           70.0             58.0  159000.0      USD   \n",
       "2           45.0             45.0  125000.0      USD   \n",
       "3           85.0             50.0  295000.0      USD   \n",
       "4           50.0             35.0   40000.0      USD   \n",
       "\n",
       "                                                                 title  \\\n",
       "0                          ***Venta semipiso centro, ideal hostel*****   \n",
       "1                     Espectacular PH reciclado en Boedo sin expensas.   \n",
       "2                   Depto.tipo casa de 2 ambientes en Venta en Palermo   \n",
       "3           COSTA RICA 5800 / PALERMO HOLLYWOOD / VENTA PH 2 AMBIENTES   \n",
       "4  58 entre 1 y 2  Venta de departamento en ph.1 Dormitorio , La Plata   \n",
       "\n",
       "                                                                                                                                                                                                                                                                                                                                                                                                                                                                                                                                                                                                                                                                                                                            description  \\\n",
       "0                                                                                                                                                                                                                                                                                                                                                                                                                                                                                                                                                                                                DESCRIPCION DE LA PROPIEDAD: Departamento de 140,65 metros cubiertos según escritura. Segundo piso por escalera. Dormitorios siete  /    \n",
       "1                                                                                                                                                                                                                                                                                                                                                                                                  PH reciclado en Boedo a una cuadra de la plaza sin expensas, solo 4 propietarios en el edificio en muy buen estado.58 m2 cubiertos + 12 m2 de patioabajo: living comedor doble altura patio, toilette, cocina y lavaderoarriba: dormitorio con buen placard y baño completo.Impecable. Luz, sol y verde.Claudia Mascitti CMCPSI 6019   \n",
       "2                                                                                                                                                                                                                                                                                                                                        2 ambienets amplio , excelente estado , patio  , cocina comedor . 45 mts. Migliorisi VE - Se deja constancia que las caracteristicas, medidas, expensas y superficies  consignadas son aproximadas, sujetos a verificación y/o ajuste. El precio del inmueble puede ser modificado sin previo aviso. Fotos de carácter no contractual. Las unidades publicadas están sujetas a disponibilidad.   \n",
       "3  HERMOSO PH EN PALERMO!!!2 AMBIENTES TOTALMENTE RECICLADOS!!!LIVING/COMEDOR AL CONTRAFRENTE CON SALIDA A PATIO CON ADOQUINES Y PALMERA-DORMITORIO CON BALCON-COCINA Y BAÑO-TERRAZA//SUPER LUMINOSO Y CON EXCELENTE VENTILACION!!!ESTA UBICADO EN PLANTA BAJA, ES EL DEPTO DEL MEDIO POR PASILLOEXCELENTE UBICACION, DONDE NO SE PERMITEN LA CONSTRUCCION DE EDIFICIOS, POR LO QUE SE GARANTIZA EL AIRE Y EL SOL.APTO PROFESIONALNO PAGA EXPENSAS!!!Sup.Total: 85 MtsSup.Cub: 50 MtsSup.desc: 35 MtsSe deja constancia que las medidas (tanto totales como parciales), superficies, m2 y proporciones indicadas en el presente son aproximadas y sujetas a verificación, variación y/o ajuste. Las expensas pueden sufrir variaciones.   \n",
       "4                                                                                                                                                                                                                                                                                                                                                                                                                                                                         58 entre 1 y 2  Venta de departamento en PH. Primer piso por escaleras. Living comedor, cocina integrada, 1 dormitorio , baño con ducha, terraza de 15 metros, tipo de calefacción por tiro balanceado, ventilación cruzada, zona de facultades. SIN EXPENSAS   \n",
       "\n",
       "  property_type operation_type  \n",
       "0  Departamento          Venta  \n",
       "1            PH          Venta  \n",
       "2            PH          Venta  \n",
       "3            PH          Venta  \n",
       "4            PH          Venta  "
      ]
     },
     "execution_count": 175,
     "metadata": {},
     "output_type": "execute_result"
    }
   ],
   "source": [
    "# Primeras instancias\n",
    "print(\"Las cinco primeras instancias son:\")\n",
    "data.head()"
   ]
  },
  {
   "cell_type": "code",
   "execution_count": 176,
   "metadata": {},
   "outputs": [
    {
     "name": "stdout",
     "output_type": "stream",
     "text": [
      "los nombres de las columnas son\n",
      "['start_date', 'end_date', 'created_on', 'lat', 'lon', 'l1', 'l2', 'l3', 'rooms', 'bedrooms', 'bathrooms', 'surface_total', 'surface_covered', 'price', 'currency', 'title', 'description', 'property_type', 'operation_type']\n"
     ]
    }
   ],
   "source": [
    "# Nombre de las columnas\n",
    "print(\"los nombres de las columnas son\")\n",
    "print(list(data.columns.values))"
   ]
  },
  {
   "cell_type": "markdown",
   "metadata": {},
   "source": [
    "### Eliminamos duplicados del dataframe en este punto antes de hacer cualquier transformación adicional"
   ]
  },
  {
   "cell_type": "code",
   "execution_count": 177,
   "metadata": {},
   "outputs": [
    {
     "name": "stdout",
     "output_type": "stream",
     "text": [
      "El número de registros duplicados son: 2358\n"
     ]
    }
   ],
   "source": [
    "# Duplicados del DataFrame\n",
    "print(\"El número de registros duplicados son: {}\".format(data.duplicated().sum()))"
   ]
  },
  {
   "cell_type": "code",
   "execution_count": 178,
   "metadata": {},
   "outputs": [],
   "source": [
    "# Eliminamos registros duplicados\n",
    "data = data.drop_duplicates()"
   ]
  },
  {
   "cell_type": "markdown",
   "metadata": {},
   "source": [
    "### Valores Faltantes"
   ]
  },
  {
   "cell_type": "code",
   "execution_count": 179,
   "metadata": {},
   "outputs": [
    {
     "name": "stdout",
     "output_type": "stream",
     "text": [
      "los valores faltantes de cada una de las columnas son\n",
      "start_date             0\n",
      "end_date               0\n",
      "created_on             0\n",
      "lat                 9572\n",
      "lon                 9606\n",
      "l1                     0\n",
      "l2                     0\n",
      "l3                     0\n",
      "rooms                  0\n",
      "bedrooms               0\n",
      "bathrooms           5924\n",
      "surface_total      20261\n",
      "surface_covered    21339\n",
      "price                  0\n",
      "currency               0\n",
      "title                  0\n",
      "description            0\n",
      "property_type          0\n",
      "operation_type         0\n",
      "dtype: int64\n"
     ]
    }
   ],
   "source": [
    "# Valores faltantes por cada columna\n",
    "missing_values_count = data.isnull().sum()\n",
    "print(\"los valores faltantes de cada una de las columnas son\")\n",
    "print(missing_values_count[0:19])"
   ]
  },
  {
   "cell_type": "code",
   "execution_count": 180,
   "metadata": {},
   "outputs": [
    {
     "name": "stdout",
     "output_type": "stream",
     "text": [
      "El porcentaje de valores faltantes sobre el total de los valores es de 2.43 %\n"
     ]
    }
   ],
   "source": [
    "# Porcentaje de valores faltantes\n",
    "total_cells = np.product(data.shape)\n",
    "total_missing = missing_values_count.sum()\n",
    "print(\"El porcentaje de valores faltantes sobre el total de los valores es de\", round(total_missing / total_cells*100, 2), \"%\")"
   ]
  },
  {
   "cell_type": "code",
   "execution_count": 181,
   "metadata": {},
   "outputs": [
    {
     "name": "stdout",
     "output_type": "stream",
     "text": [
      "Hay 10 tipos de propiedades\n",
      "Las cuáles son ['Departamento', 'PH', 'Casa', 'Lote', 'Casa de campo', 'Oficina', 'Otro', 'Local comercial', 'Cochera', 'Depósito']\n"
     ]
    }
   ],
   "source": [
    "# Tipos de propiedad\n",
    "print(\"Hay {} tipos de propiedades\".format(len(data[\"property_type\"].unique())))\n",
    "print (\"Las cuáles son {}\".format(list(data[\"property_type\"].unique())))"
   ]
  },
  {
   "cell_type": "markdown",
   "metadata": {},
   "source": [
    "### Filtrando las categorías"
   ]
  },
  {
   "cell_type": "code",
   "execution_count": 182,
   "metadata": {},
   "outputs": [
    {
     "name": "stdout",
     "output_type": "stream",
     "text": [
      "El dataset tiene 140822 filas\n",
      "El dataset tiene 19 columnas\n"
     ]
    }
   ],
   "source": [
    "# Creamos el nuevo Data Frame con los datos filtrados\n",
    "df_filtered = pd.DataFrame(data.query('property_type in [\"Departamento\", \"PH\", \"Casa\"]'))\n",
    "\n",
    "# Número de filas y columnas Data Frame con los datos filtrados\n",
    "print(\"El dataset tiene {} filas\".format(df_filtered.shape[0]))\n",
    "print(\"El dataset tiene {} columnas\".format(df_filtered.shape[1]))"
   ]
  },
  {
   "cell_type": "code",
   "execution_count": 183,
   "metadata": {},
   "outputs": [
    {
     "data": {
      "text/plain": [
       "<AxesSubplot:xlabel='property_type', ylabel='count'>"
      ]
     },
     "execution_count": 183,
     "metadata": {},
     "output_type": "execute_result"
    },
    {
     "data": {
      "image/png": "[encoded data removed]",
      "text/plain": [
       "<Figure size 864x576 with 1 Axes>"
      ]
     },
     "metadata": {},
     "output_type": "display_data"
    }
   ],
   "source": [
    "# Visualizá las categorías en esta celda\n",
    "\n",
    "sns.set(style=\"darkgrid\")\n",
    "sns.countplot(\"property_type\", data=df_filtered)"
   ]
  },
  {
   "cell_type": "markdown",
   "metadata": {},
   "source": [
    "## PARTE A - Transformación de Datos"
   ]
  },
  {
   "cell_type": "markdown",
   "metadata": {},
   "source": [
    "#### 1. Eliminamos del dataframe las instancias que no tengan ningún valor en los campos relevantes para el análisis del mercado `surface_total`, `rooms`, `surface_covered`, `price`."
   ]
  },
  {
   "cell_type": "code",
   "execution_count": 184,
   "metadata": {},
   "outputs": [
    {
     "name": "stdout",
     "output_type": "stream",
     "text": [
      "El dataset tiene 121672 filas\n",
      "El dataset tiene 19 columnas\n"
     ]
    },
    {
     "data": {
      "text/html": [
       "<div>\n",
       "<style scoped>\n",
       "    .dataframe tbody tr th:only-of-type {\n",
       "        vertical-align: middle;\n",
       "    }\n",
       "\n",
       "    .dataframe tbody tr th {\n",
       "        vertical-align: top;\n",
       "    }\n",
       "\n",
       "    .dataframe thead th {\n",
       "        text-align: right;\n",
       "    }\n",
       "</style>\n",
       "<table border=\"1\" class=\"dataframe\">\n",
       "  <thead>\n",
       "    <tr style=\"text-align: right;\">\n",
       "      <th></th>\n",
       "      <th>start_date</th>\n",
       "      <th>end_date</th>\n",
       "      <th>created_on</th>\n",
       "      <th>lat</th>\n",
       "      <th>lon</th>\n",
       "      <th>l1</th>\n",
       "      <th>l2</th>\n",
       "      <th>l3</th>\n",
       "      <th>rooms</th>\n",
       "      <th>bedrooms</th>\n",
       "      <th>bathrooms</th>\n",
       "      <th>surface_total</th>\n",
       "      <th>surface_covered</th>\n",
       "      <th>price</th>\n",
       "      <th>currency</th>\n",
       "      <th>title</th>\n",
       "      <th>description</th>\n",
       "      <th>property_type</th>\n",
       "      <th>operation_type</th>\n",
       "    </tr>\n",
       "  </thead>\n",
       "  <tbody>\n",
       "    <tr>\n",
       "      <th>0</th>\n",
       "      <td>2019-10-17</td>\n",
       "      <td>2019-12-23</td>\n",
       "      <td>2019-10-17</td>\n",
       "      <td>-34.605880</td>\n",
       "      <td>-58.384949</td>\n",
       "      <td>Argentina</td>\n",
       "      <td>Capital Federal</td>\n",
       "      <td>San Cristobal</td>\n",
       "      <td>7.0</td>\n",
       "      <td>7.0</td>\n",
       "      <td>2.0</td>\n",
       "      <td>140.0</td>\n",
       "      <td>140.0</td>\n",
       "      <td>153000.0</td>\n",
       "      <td>USD</td>\n",
       "      <td>***Venta semipiso centro, ideal hostel*****</td>\n",
       "      <td>DESCRIPCION DE LA PROPIEDAD: Departamento de 140,65 metros cubiertos según escritura. Segundo piso por escalera. Dormitorios siete  /</td>\n",
       "      <td>Departamento</td>\n",
       "      <td>Venta</td>\n",
       "    </tr>\n",
       "    <tr>\n",
       "      <th>1</th>\n",
       "      <td>2019-10-17</td>\n",
       "      <td>2019-11-21</td>\n",
       "      <td>2019-10-17</td>\n",
       "      <td>-34.624056</td>\n",
       "      <td>-58.412110</td>\n",
       "      <td>Argentina</td>\n",
       "      <td>Capital Federal</td>\n",
       "      <td>Boedo</td>\n",
       "      <td>2.0</td>\n",
       "      <td>1.0</td>\n",
       "      <td>2.0</td>\n",
       "      <td>70.0</td>\n",
       "      <td>58.0</td>\n",
       "      <td>159000.0</td>\n",
       "      <td>USD</td>\n",
       "      <td>Espectacular PH reciclado en Boedo sin expensas.</td>\n",
       "      <td>PH reciclado en Boedo a una cuadra de la plaza sin expensas, solo 4 propietarios en el edificio en muy buen estado.58 m2 cubiertos + 12 m2 de patioabajo: living comedor doble altura patio, toilette, cocina y lavaderoarriba: dormitorio con buen placard y baño completo.Impecable. Luz, sol y verde.Claudia Mascitti CMCPSI 6019</td>\n",
       "      <td>PH</td>\n",
       "      <td>Venta</td>\n",
       "    </tr>\n",
       "    <tr>\n",
       "      <th>2</th>\n",
       "      <td>2019-10-17</td>\n",
       "      <td>2019-11-01</td>\n",
       "      <td>2019-10-17</td>\n",
       "      <td>-34.593569</td>\n",
       "      <td>-58.427474</td>\n",
       "      <td>Argentina</td>\n",
       "      <td>Capital Federal</td>\n",
       "      <td>Palermo</td>\n",
       "      <td>2.0</td>\n",
       "      <td>1.0</td>\n",
       "      <td>1.0</td>\n",
       "      <td>45.0</td>\n",
       "      <td>45.0</td>\n",
       "      <td>125000.0</td>\n",
       "      <td>USD</td>\n",
       "      <td>Depto.tipo casa de 2 ambientes en Venta en Palermo</td>\n",
       "      <td>2 ambienets amplio , excelente estado , patio  , cocina comedor . 45 mts. Migliorisi VE - Se deja constancia que las caracteristicas, medidas, expensas y superficies  consignadas son aproximadas, sujetos a verificación y/o ajuste. El precio del inmueble puede ser modificado sin previo aviso. Fotos de carácter no contractual. Las unidades publicadas están sujetas a disponibilidad.</td>\n",
       "      <td>PH</td>\n",
       "      <td>Venta</td>\n",
       "    </tr>\n",
       "    <tr>\n",
       "      <th>3</th>\n",
       "      <td>2019-10-17</td>\n",
       "      <td>2019-12-23</td>\n",
       "      <td>2019-10-17</td>\n",
       "      <td>-34.581294</td>\n",
       "      <td>-58.436754</td>\n",
       "      <td>Argentina</td>\n",
       "      <td>Capital Federal</td>\n",
       "      <td>Palermo</td>\n",
       "      <td>2.0</td>\n",
       "      <td>1.0</td>\n",
       "      <td>1.0</td>\n",
       "      <td>85.0</td>\n",
       "      <td>50.0</td>\n",
       "      <td>295000.0</td>\n",
       "      <td>USD</td>\n",
       "      <td>COSTA RICA 5800 / PALERMO HOLLYWOOD / VENTA PH 2 AMBIENTES</td>\n",
       "      <td>HERMOSO PH EN PALERMO!!!2 AMBIENTES TOTALMENTE RECICLADOS!!!LIVING/COMEDOR AL CONTRAFRENTE CON SALIDA A PATIO CON ADOQUINES Y PALMERA-DORMITORIO CON BALCON-COCINA Y BAÑO-TERRAZA//SUPER LUMINOSO Y CON EXCELENTE VENTILACION!!!ESTA UBICADO EN PLANTA BAJA, ES EL DEPTO DEL MEDIO POR PASILLOEXCELENTE UBICACION, DONDE NO SE PERMITEN LA CONSTRUCCION DE EDIFICIOS, POR LO QUE SE GARANTIZA EL AIRE Y EL SOL.APTO PROFESIONALNO PAGA EXPENSAS!!!Sup.Total: 85 MtsSup.Cub: 50 MtsSup.desc: 35 MtsSe deja constancia que las medidas (tanto totales como parciales), superficies, m2 y proporciones indicadas en el presente son aproximadas y sujetas a verificación, variación y/o ajuste. Las expensas pueden sufrir variaciones.</td>\n",
       "      <td>PH</td>\n",
       "      <td>Venta</td>\n",
       "    </tr>\n",
       "    <tr>\n",
       "      <th>4</th>\n",
       "      <td>2019-10-17</td>\n",
       "      <td>2020-03-11</td>\n",
       "      <td>2019-10-17</td>\n",
       "      <td>-34.914194</td>\n",
       "      <td>-57.938219</td>\n",
       "      <td>Argentina</td>\n",
       "      <td>Bs.As. G.B.A. Zona Sur</td>\n",
       "      <td>La Plata</td>\n",
       "      <td>2.0</td>\n",
       "      <td>1.0</td>\n",
       "      <td>1.0</td>\n",
       "      <td>50.0</td>\n",
       "      <td>35.0</td>\n",
       "      <td>40000.0</td>\n",
       "      <td>USD</td>\n",
       "      <td>58 entre 1 y 2  Venta de departamento en ph.1 Dormitorio , La Plata</td>\n",
       "      <td>58 entre 1 y 2  Venta de departamento en PH. Primer piso por escaleras. Living comedor, cocina integrada, 1 dormitorio , baño con ducha, terraza de 15 metros, tipo de calefacción por tiro balanceado, ventilación cruzada, zona de facultades. SIN EXPENSAS</td>\n",
       "      <td>PH</td>\n",
       "      <td>Venta</td>\n",
       "    </tr>\n",
       "  </tbody>\n",
       "</table>\n",
       "</div>"
      ],
      "text/plain": [
       "   start_date    end_date  created_on        lat        lon         l1  \\\n",
       "0  2019-10-17  2019-12-23  2019-10-17 -34.605880 -58.384949  Argentina   \n",
       "1  2019-10-17  2019-11-21  2019-10-17 -34.624056 -58.412110  Argentina   \n",
       "2  2019-10-17  2019-11-01  2019-10-17 -34.593569 -58.427474  Argentina   \n",
       "3  2019-10-17  2019-12-23  2019-10-17 -34.581294 -58.436754  Argentina   \n",
       "4  2019-10-17  2020-03-11  2019-10-17 -34.914194 -57.938219  Argentina   \n",
       "\n",
       "                       l2             l3  rooms  bedrooms  bathrooms  \\\n",
       "0         Capital Federal  San Cristobal    7.0       7.0        2.0   \n",
       "1         Capital Federal          Boedo    2.0       1.0        2.0   \n",
       "2         Capital Federal        Palermo    2.0       1.0        1.0   \n",
       "3         Capital Federal        Palermo    2.0       1.0        1.0   \n",
       "4  Bs.As. G.B.A. Zona Sur       La Plata    2.0       1.0        1.0   \n",
       "\n",
       "   surface_total  surface_covered     price currency  \\\n",
       "0          140.0            140.0  153000.0      USD   \n",
       "1           70.0             58.0  159000.0      USD   \n",
       "2           45.0             45.0  125000.0      USD   \n",
       "3           85.0             50.0  295000.0      USD   \n",
       "4           50.0             35.0   40000.0      USD   \n",
       "\n",
       "                                                                 title  \\\n",
       "0                          ***Venta semipiso centro, ideal hostel*****   \n",
       "1                     Espectacular PH reciclado en Boedo sin expensas.   \n",
       "2                   Depto.tipo casa de 2 ambientes en Venta en Palermo   \n",
       "3           COSTA RICA 5800 / PALERMO HOLLYWOOD / VENTA PH 2 AMBIENTES   \n",
       "4  58 entre 1 y 2  Venta de departamento en ph.1 Dormitorio , La Plata   \n",
       "\n",
       "                                                                                                                                                                                                                                                                                                                                                                                                                                                                                                                                                                                                                                                                                                                            description  \\\n",
       "0                                                                                                                                                                                                                                                                                                                                                                                                                                                                                                                                                                                                DESCRIPCION DE LA PROPIEDAD: Departamento de 140,65 metros cubiertos según escritura. Segundo piso por escalera. Dormitorios siete  /    \n",
       "1                                                                                                                                                                                                                                                                                                                                                                                                  PH reciclado en Boedo a una cuadra de la plaza sin expensas, solo 4 propietarios en el edificio en muy buen estado.58 m2 cubiertos + 12 m2 de patioabajo: living comedor doble altura patio, toilette, cocina y lavaderoarriba: dormitorio con buen placard y baño completo.Impecable. Luz, sol y verde.Claudia Mascitti CMCPSI 6019   \n",
       "2                                                                                                                                                                                                                                                                                                                                        2 ambienets amplio , excelente estado , patio  , cocina comedor . 45 mts. Migliorisi VE - Se deja constancia que las caracteristicas, medidas, expensas y superficies  consignadas son aproximadas, sujetos a verificación y/o ajuste. El precio del inmueble puede ser modificado sin previo aviso. Fotos de carácter no contractual. Las unidades publicadas están sujetas a disponibilidad.   \n",
       "3  HERMOSO PH EN PALERMO!!!2 AMBIENTES TOTALMENTE RECICLADOS!!!LIVING/COMEDOR AL CONTRAFRENTE CON SALIDA A PATIO CON ADOQUINES Y PALMERA-DORMITORIO CON BALCON-COCINA Y BAÑO-TERRAZA//SUPER LUMINOSO Y CON EXCELENTE VENTILACION!!!ESTA UBICADO EN PLANTA BAJA, ES EL DEPTO DEL MEDIO POR PASILLOEXCELENTE UBICACION, DONDE NO SE PERMITEN LA CONSTRUCCION DE EDIFICIOS, POR LO QUE SE GARANTIZA EL AIRE Y EL SOL.APTO PROFESIONALNO PAGA EXPENSAS!!!Sup.Total: 85 MtsSup.Cub: 50 MtsSup.desc: 35 MtsSe deja constancia que las medidas (tanto totales como parciales), superficies, m2 y proporciones indicadas en el presente son aproximadas y sujetas a verificación, variación y/o ajuste. Las expensas pueden sufrir variaciones.   \n",
       "4                                                                                                                                                                                                                                                                                                                                                                                                                                                                         58 entre 1 y 2  Venta de departamento en PH. Primer piso por escaleras. Living comedor, cocina integrada, 1 dormitorio , baño con ducha, terraza de 15 metros, tipo de calefacción por tiro balanceado, ventilación cruzada, zona de facultades. SIN EXPENSAS   \n",
       "\n",
       "  property_type operation_type  \n",
       "0  Departamento          Venta  \n",
       "1            PH          Venta  \n",
       "2            PH          Venta  \n",
       "3            PH          Venta  \n",
       "4            PH          Venta  "
      ]
     },
     "execution_count": 184,
     "metadata": {},
     "output_type": "execute_result"
    }
   ],
   "source": [
    "df_filtered.dropna(subset=['surface_total', 'rooms', \"surface_covered\", \"price\" ], inplace = True)\n",
    "# Número de filas y columnas Data Frame con los datos filtrados\n",
    "print(\"El dataset tiene {} filas\".format(df_filtered.shape[0]))\n",
    "print(\"El dataset tiene {} columnas\".format(df_filtered.shape[1]))\n",
    "df_filtered.head()"
   ]
  },
  {
   "cell_type": "code",
   "execution_count": 185,
   "metadata": {},
   "outputs": [
    {
     "name": "stdout",
     "output_type": "stream",
     "text": [
      "Valores faltantes totales\n",
      "start_date            0\n",
      "end_date              0\n",
      "created_on            0\n",
      "lat                8092\n",
      "lon                8092\n",
      "l1                    0\n",
      "l2                    0\n",
      "l3                    0\n",
      "rooms                 0\n",
      "bedrooms              0\n",
      "bathrooms          1675\n",
      "surface_total         0\n",
      "surface_covered       0\n",
      "price                 0\n",
      "currency              0\n",
      "title                 0\n",
      "description           0\n",
      "property_type         0\n",
      "operation_type        0\n",
      "dtype: int64\n"
     ]
    }
   ],
   "source": [
    "# Otros atributos con valores faltantes\n",
    "\n",
    "print(\"Valores faltantes totales\")\n",
    "print(pd.isna(df_filtered).sum())"
   ]
  },
  {
   "cell_type": "code",
   "execution_count": 186,
   "metadata": {},
   "outputs": [
    {
     "name": "stdout",
     "output_type": "stream",
     "text": [
      "Total de instancias con errores en la superficie: 1419\n"
     ]
    }
   ],
   "source": [
    "# Instancias que contienen errores en la superficie\n",
    "wrong_surface_rows = df_filtered[df_filtered[\"surface_total\"] < df_filtered[\"surface_covered\"]]\n",
    "print(\"Total de instancias con errores en la superficie:\", wrong_surface_rows.shape[0])"
   ]
  },
  {
   "cell_type": "markdown",
   "metadata": {},
   "source": [
    "#### 2. Intercambiamos los valores de **superficie total** con **superficie cubierta** siempre que se cumpla la condición ya que pudo deberse a un error de digitación o interpretación"
   ]
  },
  {
   "cell_type": "code",
   "execution_count": 187,
   "metadata": {},
   "outputs": [
    {
     "name": "stdout",
     "output_type": "stream",
     "text": [
      "Total de instancias con errores en la superficie: 0\n"
     ]
    }
   ],
   "source": [
    "# Ajuste de valores de superficies en la columna que corresponde\n",
    "df_filtered.at[wrong_surface_rows.index, 'surface_total'] = wrong_surface_rows.surface_covered\n",
    "df_filtered.at[wrong_surface_rows.index, 'surface_covered'] = wrong_surface_rows.surface_total\n",
    "\n",
    "# Instancias que contienen errores en la superficie\n",
    "wrong_surface_rows = df_filtered[df_filtered[\"surface_total\"] < df_filtered[\"surface_covered\"]]\n",
    "print(\"Total de instancias con errores en la superficie:\", wrong_surface_rows.shape[0])"
   ]
  },
  {
   "cell_type": "markdown",
   "metadata": {},
   "source": [
    "#### 3. Agregamos al dataset una nueva columna de precio en dólares por m2 "
   ]
  },
  {
   "cell_type": "code",
   "execution_count": 188,
   "metadata": {},
   "outputs": [
    {
     "name": "stdout",
     "output_type": "stream",
     "text": [
      "El dataset tiene 121672 filas\n",
      "El dataset tiene 20 columnas\n"
     ]
    },
    {
     "data": {
      "text/html": [
       "<div>\n",
       "<style scoped>\n",
       "    .dataframe tbody tr th:only-of-type {\n",
       "        vertical-align: middle;\n",
       "    }\n",
       "\n",
       "    .dataframe tbody tr th {\n",
       "        vertical-align: top;\n",
       "    }\n",
       "\n",
       "    .dataframe thead th {\n",
       "        text-align: right;\n",
       "    }\n",
       "</style>\n",
       "<table border=\"1\" class=\"dataframe\">\n",
       "  <thead>\n",
       "    <tr style=\"text-align: right;\">\n",
       "      <th></th>\n",
       "      <th>start_date</th>\n",
       "      <th>end_date</th>\n",
       "      <th>created_on</th>\n",
       "      <th>lat</th>\n",
       "      <th>lon</th>\n",
       "      <th>l1</th>\n",
       "      <th>l2</th>\n",
       "      <th>l3</th>\n",
       "      <th>rooms</th>\n",
       "      <th>bedrooms</th>\n",
       "      <th>bathrooms</th>\n",
       "      <th>surface_total</th>\n",
       "      <th>surface_covered</th>\n",
       "      <th>price</th>\n",
       "      <th>currency</th>\n",
       "      <th>title</th>\n",
       "      <th>description</th>\n",
       "      <th>property_type</th>\n",
       "      <th>operation_type</th>\n",
       "      <th>price_usd_x_m2</th>\n",
       "    </tr>\n",
       "  </thead>\n",
       "  <tbody>\n",
       "    <tr>\n",
       "      <th>0</th>\n",
       "      <td>2019-10-17</td>\n",
       "      <td>2019-12-23</td>\n",
       "      <td>2019-10-17</td>\n",
       "      <td>-34.605880</td>\n",
       "      <td>-58.384949</td>\n",
       "      <td>Argentina</td>\n",
       "      <td>Capital Federal</td>\n",
       "      <td>San Cristobal</td>\n",
       "      <td>7.0</td>\n",
       "      <td>7.0</td>\n",
       "      <td>2.0</td>\n",
       "      <td>140.0</td>\n",
       "      <td>140.0</td>\n",
       "      <td>153000.0</td>\n",
       "      <td>USD</td>\n",
       "      <td>***Venta semipiso centro, ideal hostel*****</td>\n",
       "      <td>DESCRIPCION DE LA PROPIEDAD: Departamento de 140,65 metros cubiertos según escritura. Segundo piso por escalera. Dormitorios siete  /</td>\n",
       "      <td>Departamento</td>\n",
       "      <td>Venta</td>\n",
       "      <td>1092.857143</td>\n",
       "    </tr>\n",
       "    <tr>\n",
       "      <th>1</th>\n",
       "      <td>2019-10-17</td>\n",
       "      <td>2019-11-21</td>\n",
       "      <td>2019-10-17</td>\n",
       "      <td>-34.624056</td>\n",
       "      <td>-58.412110</td>\n",
       "      <td>Argentina</td>\n",
       "      <td>Capital Federal</td>\n",
       "      <td>Boedo</td>\n",
       "      <td>2.0</td>\n",
       "      <td>1.0</td>\n",
       "      <td>2.0</td>\n",
       "      <td>70.0</td>\n",
       "      <td>58.0</td>\n",
       "      <td>159000.0</td>\n",
       "      <td>USD</td>\n",
       "      <td>Espectacular PH reciclado en Boedo sin expensas.</td>\n",
       "      <td>PH reciclado en Boedo a una cuadra de la plaza sin expensas, solo 4 propietarios en el edificio en muy buen estado.58 m2 cubiertos + 12 m2 de patioabajo: living comedor doble altura patio, toilette, cocina y lavaderoarriba: dormitorio con buen placard y baño completo.Impecable. Luz, sol y verde.Claudia Mascitti CMCPSI 6019</td>\n",
       "      <td>PH</td>\n",
       "      <td>Venta</td>\n",
       "      <td>2271.428571</td>\n",
       "    </tr>\n",
       "    <tr>\n",
       "      <th>2</th>\n",
       "      <td>2019-10-17</td>\n",
       "      <td>2019-11-01</td>\n",
       "      <td>2019-10-17</td>\n",
       "      <td>-34.593569</td>\n",
       "      <td>-58.427474</td>\n",
       "      <td>Argentina</td>\n",
       "      <td>Capital Federal</td>\n",
       "      <td>Palermo</td>\n",
       "      <td>2.0</td>\n",
       "      <td>1.0</td>\n",
       "      <td>1.0</td>\n",
       "      <td>45.0</td>\n",
       "      <td>45.0</td>\n",
       "      <td>125000.0</td>\n",
       "      <td>USD</td>\n",
       "      <td>Depto.tipo casa de 2 ambientes en Venta en Palermo</td>\n",
       "      <td>2 ambienets amplio , excelente estado , patio  , cocina comedor . 45 mts. Migliorisi VE - Se deja constancia que las caracteristicas, medidas, expensas y superficies  consignadas son aproximadas, sujetos a verificación y/o ajuste. El precio del inmueble puede ser modificado sin previo aviso. Fotos de carácter no contractual. Las unidades publicadas están sujetas a disponibilidad.</td>\n",
       "      <td>PH</td>\n",
       "      <td>Venta</td>\n",
       "      <td>2777.777778</td>\n",
       "    </tr>\n",
       "    <tr>\n",
       "      <th>3</th>\n",
       "      <td>2019-10-17</td>\n",
       "      <td>2019-12-23</td>\n",
       "      <td>2019-10-17</td>\n",
       "      <td>-34.581294</td>\n",
       "      <td>-58.436754</td>\n",
       "      <td>Argentina</td>\n",
       "      <td>Capital Federal</td>\n",
       "      <td>Palermo</td>\n",
       "      <td>2.0</td>\n",
       "      <td>1.0</td>\n",
       "      <td>1.0</td>\n",
       "      <td>85.0</td>\n",
       "      <td>50.0</td>\n",
       "      <td>295000.0</td>\n",
       "      <td>USD</td>\n",
       "      <td>COSTA RICA 5800 / PALERMO HOLLYWOOD / VENTA PH 2 AMBIENTES</td>\n",
       "      <td>HERMOSO PH EN PALERMO!!!2 AMBIENTES TOTALMENTE RECICLADOS!!!LIVING/COMEDOR AL CONTRAFRENTE CON SALIDA A PATIO CON ADOQUINES Y PALMERA-DORMITORIO CON BALCON-COCINA Y BAÑO-TERRAZA//SUPER LUMINOSO Y CON EXCELENTE VENTILACION!!!ESTA UBICADO EN PLANTA BAJA, ES EL DEPTO DEL MEDIO POR PASILLOEXCELENTE UBICACION, DONDE NO SE PERMITEN LA CONSTRUCCION DE EDIFICIOS, POR LO QUE SE GARANTIZA EL AIRE Y EL SOL.APTO PROFESIONALNO PAGA EXPENSAS!!!Sup.Total: 85 MtsSup.Cub: 50 MtsSup.desc: 35 MtsSe deja constancia que las medidas (tanto totales como parciales), superficies, m2 y proporciones indicadas en el presente son aproximadas y sujetas a verificación, variación y/o ajuste. Las expensas pueden sufrir variaciones.</td>\n",
       "      <td>PH</td>\n",
       "      <td>Venta</td>\n",
       "      <td>3470.588235</td>\n",
       "    </tr>\n",
       "    <tr>\n",
       "      <th>4</th>\n",
       "      <td>2019-10-17</td>\n",
       "      <td>2020-03-11</td>\n",
       "      <td>2019-10-17</td>\n",
       "      <td>-34.914194</td>\n",
       "      <td>-57.938219</td>\n",
       "      <td>Argentina</td>\n",
       "      <td>Bs.As. G.B.A. Zona Sur</td>\n",
       "      <td>La Plata</td>\n",
       "      <td>2.0</td>\n",
       "      <td>1.0</td>\n",
       "      <td>1.0</td>\n",
       "      <td>50.0</td>\n",
       "      <td>35.0</td>\n",
       "      <td>40000.0</td>\n",
       "      <td>USD</td>\n",
       "      <td>58 entre 1 y 2  Venta de departamento en ph.1 Dormitorio , La Plata</td>\n",
       "      <td>58 entre 1 y 2  Venta de departamento en PH. Primer piso por escaleras. Living comedor, cocina integrada, 1 dormitorio , baño con ducha, terraza de 15 metros, tipo de calefacción por tiro balanceado, ventilación cruzada, zona de facultades. SIN EXPENSAS</td>\n",
       "      <td>PH</td>\n",
       "      <td>Venta</td>\n",
       "      <td>800.000000</td>\n",
       "    </tr>\n",
       "  </tbody>\n",
       "</table>\n",
       "</div>"
      ],
      "text/plain": [
       "   start_date    end_date  created_on        lat        lon         l1  \\\n",
       "0  2019-10-17  2019-12-23  2019-10-17 -34.605880 -58.384949  Argentina   \n",
       "1  2019-10-17  2019-11-21  2019-10-17 -34.624056 -58.412110  Argentina   \n",
       "2  2019-10-17  2019-11-01  2019-10-17 -34.593569 -58.427474  Argentina   \n",
       "3  2019-10-17  2019-12-23  2019-10-17 -34.581294 -58.436754  Argentina   \n",
       "4  2019-10-17  2020-03-11  2019-10-17 -34.914194 -57.938219  Argentina   \n",
       "\n",
       "                       l2             l3  rooms  bedrooms  bathrooms  \\\n",
       "0         Capital Federal  San Cristobal    7.0       7.0        2.0   \n",
       "1         Capital Federal          Boedo    2.0       1.0        2.0   \n",
       "2         Capital Federal        Palermo    2.0       1.0        1.0   \n",
       "3         Capital Federal        Palermo    2.0       1.0        1.0   \n",
       "4  Bs.As. G.B.A. Zona Sur       La Plata    2.0       1.0        1.0   \n",
       "\n",
       "   surface_total  surface_covered     price currency  \\\n",
       "0          140.0            140.0  153000.0      USD   \n",
       "1           70.0             58.0  159000.0      USD   \n",
       "2           45.0             45.0  125000.0      USD   \n",
       "3           85.0             50.0  295000.0      USD   \n",
       "4           50.0             35.0   40000.0      USD   \n",
       "\n",
       "                                                                 title  \\\n",
       "0                          ***Venta semipiso centro, ideal hostel*****   \n",
       "1                     Espectacular PH reciclado en Boedo sin expensas.   \n",
       "2                   Depto.tipo casa de 2 ambientes en Venta en Palermo   \n",
       "3           COSTA RICA 5800 / PALERMO HOLLYWOOD / VENTA PH 2 AMBIENTES   \n",
       "4  58 entre 1 y 2  Venta de departamento en ph.1 Dormitorio , La Plata   \n",
       "\n",
       "                                                                                                                                                                                                                                                                                                                                                                                                                                                                                                                                                                                                                                                                                                                            description  \\\n",
       "0                                                                                                                                                                                                                                                                                                                                                                                                                                                                                                                                                                                                DESCRIPCION DE LA PROPIEDAD: Departamento de 140,65 metros cubiertos según escritura. Segundo piso por escalera. Dormitorios siete  /    \n",
       "1                                                                                                                                                                                                                                                                                                                                                                                                  PH reciclado en Boedo a una cuadra de la plaza sin expensas, solo 4 propietarios en el edificio en muy buen estado.58 m2 cubiertos + 12 m2 de patioabajo: living comedor doble altura patio, toilette, cocina y lavaderoarriba: dormitorio con buen placard y baño completo.Impecable. Luz, sol y verde.Claudia Mascitti CMCPSI 6019   \n",
       "2                                                                                                                                                                                                                                                                                                                                        2 ambienets amplio , excelente estado , patio  , cocina comedor . 45 mts. Migliorisi VE - Se deja constancia que las caracteristicas, medidas, expensas y superficies  consignadas son aproximadas, sujetos a verificación y/o ajuste. El precio del inmueble puede ser modificado sin previo aviso. Fotos de carácter no contractual. Las unidades publicadas están sujetas a disponibilidad.   \n",
       "3  HERMOSO PH EN PALERMO!!!2 AMBIENTES TOTALMENTE RECICLADOS!!!LIVING/COMEDOR AL CONTRAFRENTE CON SALIDA A PATIO CON ADOQUINES Y PALMERA-DORMITORIO CON BALCON-COCINA Y BAÑO-TERRAZA//SUPER LUMINOSO Y CON EXCELENTE VENTILACION!!!ESTA UBICADO EN PLANTA BAJA, ES EL DEPTO DEL MEDIO POR PASILLOEXCELENTE UBICACION, DONDE NO SE PERMITEN LA CONSTRUCCION DE EDIFICIOS, POR LO QUE SE GARANTIZA EL AIRE Y EL SOL.APTO PROFESIONALNO PAGA EXPENSAS!!!Sup.Total: 85 MtsSup.Cub: 50 MtsSup.desc: 35 MtsSe deja constancia que las medidas (tanto totales como parciales), superficies, m2 y proporciones indicadas en el presente son aproximadas y sujetas a verificación, variación y/o ajuste. Las expensas pueden sufrir variaciones.   \n",
       "4                                                                                                                                                                                                                                                                                                                                                                                                                                                                         58 entre 1 y 2  Venta de departamento en PH. Primer piso por escaleras. Living comedor, cocina integrada, 1 dormitorio , baño con ducha, terraza de 15 metros, tipo de calefacción por tiro balanceado, ventilación cruzada, zona de facultades. SIN EXPENSAS   \n",
       "\n",
       "  property_type operation_type  price_usd_x_m2  \n",
       "0  Departamento          Venta     1092.857143  \n",
       "1            PH          Venta     2271.428571  \n",
       "2            PH          Venta     2777.777778  \n",
       "3            PH          Venta     3470.588235  \n",
       "4            PH          Venta      800.000000  "
      ]
     },
     "execution_count": 188,
     "metadata": {},
     "output_type": "execute_result"
    }
   ],
   "source": [
    "df_filtered['price_usd_x_m2'] = df_filtered['price'] / df_filtered['surface_total']\n",
    "print(\"El dataset tiene {} filas\".format(df_filtered.shape[0]))\n",
    "print(\"El dataset tiene {} columnas\".format(df_filtered.shape[1]))\n",
    "df_filtered.head()"
   ]
  },
  {
   "cell_type": "code",
   "execution_count": 189,
   "metadata": {},
   "outputs": [
    {
     "data": {
      "text/plain": [
       "count    121672.000000\n",
       "mean       2363.412828\n",
       "std        2507.287222\n",
       "min           0.552264\n",
       "25%        1619.047619\n",
       "50%        2310.344828\n",
       "75%        2952.380952\n",
       "max      754284.465116\n",
       "Name: price_usd_x_m2, dtype: float64"
      ]
     },
     "execution_count": 189,
     "metadata": {},
     "output_type": "execute_result"
    }
   ],
   "source": [
    "# Con el atributo Precio x m2 'price_usd_x_m2' calculamos su mínimo, máximo, promedio (mean), mediana (median) y desvío estándar (std)\n",
    "df_filtered.price_usd_x_m2.describe()"
   ]
  },
  {
   "cell_type": "code",
   "execution_count": 190,
   "metadata": {},
   "outputs": [
    {
     "name": "stdout",
     "output_type": "stream",
     "text": [
      "2310.344827586207\n"
     ]
    }
   ],
   "source": [
    "mediana = df_filtered[\"price_usd_x_m2\"].median()\n",
    "print(mediana)"
   ]
  },
  {
   "cell_type": "code",
   "execution_count": 191,
   "metadata": {},
   "outputs": [
    {
     "name": "stdout",
     "output_type": "stream",
     "text": [
      "Primer cuartil: 1619.047619047619\n",
      "Segundo cuartil: 2952.3809523809523\n",
      "Rango intercuartílico: 1333.3333333333333\n"
     ]
    }
   ],
   "source": [
    "# Calculamos los cuartiles en esta celda\n",
    "\n",
    "q1 = df_filtered.price_usd_x_m2.quantile(0.25)\n",
    "q2 = df_filtered.price_usd_x_m2.quantile(0.75)\n",
    "ri = q2 - q1\n",
    "print(\"Primer cuartil:\", q1)\n",
    "print(\"Segundo cuartil:\", q2)\n",
    "print(\"Rango intercuartílico:\", ri)"
   ]
  },
  {
   "cell_type": "code",
   "execution_count": 192,
   "metadata": {},
   "outputs": [],
   "source": [
    "#  Remover valores extremos \n",
    "percentil10 = np.percentile(df_filtered.price_usd_x_m2, 10)\n",
    "percentil90 = np.percentile(df_filtered.price_usd_x_m2, 90)\n",
    "df_filtered = df_filtered[(df_filtered.price_usd_x_m2 >= percentil10) & (df_filtered.price_usd_x_m2 <= percentil90)]"
   ]
  },
  {
   "cell_type": "code",
   "execution_count": 193,
   "metadata": {},
   "outputs": [
    {
     "data": {
      "text/plain": [
       "count    97455.000000\n",
       "mean      2284.376843\n",
       "std        696.766837\n",
       "min        800.000000\n",
       "25%       1790.000000\n",
       "50%       2308.823529\n",
       "75%       2800.000000\n",
       "max       3679.245283\n",
       "Name: price_usd_x_m2, dtype: float64"
      ]
     },
     "execution_count": 193,
     "metadata": {},
     "output_type": "execute_result"
    }
   ],
   "source": [
    "# Volvemos a calcular\n",
    "\n",
    "df_filtered.price_usd_x_m2.describe()"
   ]
  },
  {
   "cell_type": "code",
   "execution_count": 194,
   "metadata": {},
   "outputs": [
    {
     "name": "stdout",
     "output_type": "stream",
     "text": [
      "2308.823529411765\n"
     ]
    }
   ],
   "source": [
    "nueva_mediana = df_filtered[\"price_usd_x_m2\"].median()\n",
    "print(nueva_mediana)"
   ]
  },
  {
   "cell_type": "code",
   "execution_count": 195,
   "metadata": {},
   "outputs": [
    {
     "data": {
      "image/png": "[encoded data removed]",
      "text/plain": [
       "<Figure size 864x576 with 1 Axes>"
      ]
     },
     "metadata": {},
     "output_type": "display_data"
    }
   ],
   "source": [
    "plt.xticks(rotation = 90)\n",
    "barrios = df_filtered.groupby('l3').mean().sort_values('price_usd_x_m2', ascending=False).index\n",
    "sns.barplot(x=\"l3\", y=\"price_usd_x_m2\", order=barrios, data=df_filtered);"
   ]
  },
  {
   "cell_type": "code",
   "execution_count": 196,
   "metadata": {},
   "outputs": [
    {
     "data": {
      "image/png": "[encoded data removed]",
      "text/plain": [
       "<Figure size 864x576 with 1 Axes>"
      ]
     },
     "metadata": {},
     "output_type": "display_data"
    }
   ],
   "source": [
    "# Comparamos con la variable objetivo\n",
    "plt.xticks(rotation = 90)\n",
    "barrios = df_filtered.groupby('l3').mean().sort_values('price', ascending=False).index\n",
    "sns.barplot(x=\"l3\", y=\"price\", order=barrios, data=df_filtered);"
   ]
  },
  {
   "cell_type": "code",
   "execution_count": 197,
   "metadata": {},
   "outputs": [
    {
     "data": {
      "text/html": [
       "<div>\n",
       "<style scoped>\n",
       "    .dataframe tbody tr th:only-of-type {\n",
       "        vertical-align: middle;\n",
       "    }\n",
       "\n",
       "    .dataframe tbody tr th {\n",
       "        vertical-align: top;\n",
       "    }\n",
       "\n",
       "    .dataframe thead th {\n",
       "        text-align: right;\n",
       "    }\n",
       "</style>\n",
       "<table border=\"1\" class=\"dataframe\">\n",
       "  <thead>\n",
       "    <tr style=\"text-align: right;\">\n",
       "      <th></th>\n",
       "      <th>price_usd_x_m2</th>\n",
       "    </tr>\n",
       "    <tr>\n",
       "      <th>l3</th>\n",
       "      <th></th>\n",
       "    </tr>\n",
       "  </thead>\n",
       "  <tbody>\n",
       "    <tr>\n",
       "      <th>Puerto Madero</th>\n",
       "      <td>3023.936286</td>\n",
       "    </tr>\n",
       "    <tr>\n",
       "      <th>Las Cañitas</th>\n",
       "      <td>2972.832217</td>\n",
       "    </tr>\n",
       "    <tr>\n",
       "      <th>Recoleta</th>\n",
       "      <td>2917.542466</td>\n",
       "    </tr>\n",
       "    <tr>\n",
       "      <th>Belgrano</th>\n",
       "      <td>2898.515015</td>\n",
       "    </tr>\n",
       "    <tr>\n",
       "      <th>Palermo</th>\n",
       "      <td>2860.503488</td>\n",
       "    </tr>\n",
       "  </tbody>\n",
       "</table>\n",
       "</div>"
      ],
      "text/plain": [
       "               price_usd_x_m2\n",
       "l3                           \n",
       "Puerto Madero     3023.936286\n",
       "Las Cañitas       2972.832217\n",
       "Recoleta          2917.542466\n",
       "Belgrano          2898.515015\n",
       "Palermo           2860.503488"
      ]
     },
     "execution_count": 197,
     "metadata": {},
     "output_type": "execute_result"
    }
   ],
   "source": [
    "table = pd.pivot_table(df_filtered, values='price_usd_x_m2', index=['l3'], aggfunc=np.mean)\n",
    "mas_caros = table.sort_values('price_usd_x_m2', ascending=False).iloc[:5]\n",
    "mas_caros"
   ]
  },
  {
   "cell_type": "code",
   "execution_count": 198,
   "metadata": {},
   "outputs": [
    {
     "data": {
      "text/html": [
       "<div>\n",
       "<style scoped>\n",
       "    .dataframe tbody tr th:only-of-type {\n",
       "        vertical-align: middle;\n",
       "    }\n",
       "\n",
       "    .dataframe tbody tr th {\n",
       "        vertical-align: top;\n",
       "    }\n",
       "\n",
       "    .dataframe thead th {\n",
       "        text-align: right;\n",
       "    }\n",
       "</style>\n",
       "<table border=\"1\" class=\"dataframe\">\n",
       "  <thead>\n",
       "    <tr style=\"text-align: right;\">\n",
       "      <th></th>\n",
       "      <th>price_usd_x_m2</th>\n",
       "    </tr>\n",
       "    <tr>\n",
       "      <th>l3</th>\n",
       "      <th></th>\n",
       "    </tr>\n",
       "  </thead>\n",
       "  <tbody>\n",
       "    <tr>\n",
       "      <th>Villa Soldati</th>\n",
       "      <td>1079.543988</td>\n",
       "    </tr>\n",
       "    <tr>\n",
       "      <th>Hurlingham</th>\n",
       "      <td>1144.625853</td>\n",
       "    </tr>\n",
       "    <tr>\n",
       "      <th>José C Paz</th>\n",
       "      <td>1234.392061</td>\n",
       "    </tr>\n",
       "    <tr>\n",
       "      <th>Villa Lugano</th>\n",
       "      <td>1273.522826</td>\n",
       "    </tr>\n",
       "    <tr>\n",
       "      <th>Marcos Paz</th>\n",
       "      <td>1292.321674</td>\n",
       "    </tr>\n",
       "  </tbody>\n",
       "</table>\n",
       "</div>"
      ],
      "text/plain": [
       "               price_usd_x_m2\n",
       "l3                           \n",
       "Villa Soldati     1079.543988\n",
       "Hurlingham        1144.625853\n",
       "José C Paz        1234.392061\n",
       "Villa Lugano      1273.522826\n",
       "Marcos Paz        1292.321674"
      ]
     },
     "execution_count": 198,
     "metadata": {},
     "output_type": "execute_result"
    }
   ],
   "source": [
    "table = pd.pivot_table(df_filtered, values='price_usd_x_m2', index=['l3'], aggfunc=np.mean)\n",
    "mas_baratos = table.sort_values('price_usd_x_m2', ascending=True).iloc[:5]\n",
    "mas_baratos"
   ]
  },
  {
   "cell_type": "code",
   "execution_count": 199,
   "metadata": {},
   "outputs": [
    {
     "data": {
      "text/plain": [
       "<matplotlib.legend.Legend at 0x22849ebf850>"
      ]
     },
     "execution_count": 199,
     "metadata": {},
     "output_type": "execute_result"
    },
    {
     "data": {
      "image/png": "[encoded data removed]",
      "text/plain": [
       "<Figure size 864x576 with 1 Axes>"
      ]
     },
     "metadata": {},
     "output_type": "display_data"
    }
   ],
   "source": [
    "barrios_caros = mas_caros.index \n",
    "barrios_baratos = mas_baratos.index\n",
    "\n",
    "# distribuciones según superficie total\n",
    "g = sns.distplot(df_filtered[df_filtered.l3.isin(barrios_baratos)].surface_total, label=\"Barrios baratos\")\n",
    "sns.distplot(df_filtered[df_filtered.l3.isin(barrios_caros)].surface_total, label=\"Barrios caros\")\n",
    "g.set_xlim(0, 400)\n",
    "plt.legend()"
   ]
  },
  {
   "cell_type": "code",
   "execution_count": 200,
   "metadata": {},
   "outputs": [
    {
     "data": {
      "text/plain": [
       "<matplotlib.legend.Legend at 0x228004efa60>"
      ]
     },
     "execution_count": 200,
     "metadata": {},
     "output_type": "execute_result"
    },
    {
     "data": {
      "image/png": "[encoded data removed]",
      "text/plain": [
       "<Figure size 864x576 with 1 Axes>"
      ]
     },
     "metadata": {},
     "output_type": "display_data"
    }
   ],
   "source": [
    "# distribuciones según Cuartos totales\n",
    "g = sns.distplot(df_filtered[df_filtered.l3.isin(barrios_baratos)].rooms, label=\"Barrios baratos\")\n",
    "sns.distplot(df_filtered[df_filtered.l3.isin(barrios_caros)].rooms, label=\"Barrios caros\")\n",
    "g.set_xlim(0, 10)\n",
    "plt.legend()"
   ]
  },
  {
   "cell_type": "code",
   "execution_count": 201,
   "metadata": {},
   "outputs": [
    {
     "data": {
      "text/plain": [
       "<matplotlib.legend.Legend at 0x22800bdf2b0>"
      ]
     },
     "execution_count": 201,
     "metadata": {},
     "output_type": "execute_result"
    },
    {
     "data": {
      "image/png": "[encoded data removed]",
      "text/plain": [
       "<Figure size 864x576 with 1 Axes>"
      ]
     },
     "metadata": {},
     "output_type": "display_data"
    }
   ],
   "source": [
    "# distribuciones según precio por metro cuadrado \n",
    "g = sns.distplot(df_filtered[df_filtered.l3.isin(barrios_baratos)].price_usd_x_m2, label=\"Barrios baratos\")\n",
    "sns.distplot(df_filtered[df_filtered.l3.isin(barrios_caros)].price_usd_x_m2, label=\"Barrios caros\")\n",
    "plt.legend()"
   ]
  },
  {
   "cell_type": "markdown",
   "metadata": {},
   "source": [
    "#### 4. Outliers"
   ]
  },
  {
   "cell_type": "code",
   "execution_count": 202,
   "metadata": {},
   "outputs": [
    {
     "data": {
      "image/png": "[encoded data removed]",
      "text/plain": [
       "<Figure size 864x576 with 1 Axes>"
      ]
     },
     "metadata": {},
     "output_type": "display_data"
    }
   ],
   "source": [
    "# Mostrar la figura \n",
    "df_filtered.dropna(subset=['price_usd_x_m2'], inplace=True)\n",
    "df_filtered.price_usd_x_m2.isnull().value_counts()\n",
    "\n",
    "ax = sns.distplot(df_filtered['price_usd_x_m2'])"
   ]
  },
  {
   "cell_type": "code",
   "execution_count": 203,
   "metadata": {},
   "outputs": [
    {
     "data": {
      "text/plain": [
       "<AxesSubplot:xlabel='price_usd_x_m2'>"
      ]
     },
     "execution_count": 203,
     "metadata": {},
     "output_type": "execute_result"
    },
    {
     "data": {
      "image/png": "[encoded data removed]",
      "text/plain": [
       "<Figure size 864x576 with 1 Axes>"
      ]
     },
     "metadata": {},
     "output_type": "display_data"
    }
   ],
   "source": [
    "# boxplot de la columna price_usd_x_m2\n",
    "sns.boxplot(x=df_filtered['price_usd_x_m2'])"
   ]
  },
  {
   "cell_type": "code",
   "execution_count": 204,
   "metadata": {},
   "outputs": [
    {
     "data": {
      "text/plain": [
       "count    97455.000000\n",
       "mean      2284.376843\n",
       "std        696.766837\n",
       "min        800.000000\n",
       "25%       1790.000000\n",
       "50%       2308.823529\n",
       "75%       2800.000000\n",
       "max       3679.245283\n",
       "Name: price_usd_x_m2, dtype: float64"
      ]
     },
     "execution_count": 204,
     "metadata": {},
     "output_type": "execute_result"
    }
   ],
   "source": [
    "# Describimos price_usd_x_m2 mostrando sus estadísticos\n",
    "df_filtered.price_usd_x_m2.describe()"
   ]
  },
  {
   "cell_type": "code",
   "execution_count": 205,
   "metadata": {},
   "outputs": [
    {
     "name": "stdout",
     "output_type": "stream",
     "text": [
      "Los porcentajes  de valores faltantes -expresados sobre uno- en cada categoría son:\n"
     ]
    },
    {
     "data": {
      "text/plain": [
       "start_date         0.000000\n",
       "end_date           0.000000\n",
       "created_on         0.000000\n",
       "lat                0.061526\n",
       "lon                0.061526\n",
       "l1                 0.000000\n",
       "l2                 0.000000\n",
       "l3                 0.000000\n",
       "rooms              0.000000\n",
       "bedrooms           0.000000\n",
       "bathrooms          0.013647\n",
       "surface_total      0.000000\n",
       "surface_covered    0.000000\n",
       "price              0.000000\n",
       "currency           0.000000\n",
       "title              0.000000\n",
       "description        0.000000\n",
       "property_type      0.000000\n",
       "operation_type     0.000000\n",
       "price_usd_x_m2     0.000000\n",
       "dtype: float64"
      ]
     },
     "execution_count": 205,
     "metadata": {},
     "output_type": "execute_result"
    }
   ],
   "source": [
    "df_faltantes = df_filtered.isna()\n",
    "df_num_faltantes = df_faltantes.sum()\n",
    "print(\"Los porcentajes  de valores faltantes -expresados sobre uno- en cada categoría son:\")\n",
    "df_num_faltantes/len(df_filtered)"
   ]
  },
  {
   "cell_type": "markdown",
   "metadata": {},
   "source": [
    "#### 5. Imputación de valores faltantes"
   ]
  },
  {
   "cell_type": "code",
   "execution_count": 206,
   "metadata": {},
   "outputs": [
    {
     "name": "stdout",
     "output_type": "stream",
     "text": [
      "[[2.]\n",
      " [2.]\n",
      " [1.]\n",
      " ...\n",
      " [1.]\n",
      " [1.]\n",
      " [1.]]\n"
     ]
    }
   ],
   "source": [
    "# Imputar con la mediana en bathrooms\n",
    "from sklearn.impute import SimpleImputer\n",
    "imp = SimpleImputer(strategy='median')\n",
    "imp.fit(df_filtered[[\"bathrooms\"]])\n",
    "\n",
    "df_filtered[\"bathrooms\"]=imp.transform(df_filtered[[\"bathrooms\"]])\n",
    "print(imp.transform(df_filtered[[\"bathrooms\"]]))"
   ]
  },
  {
   "cell_type": "code",
   "execution_count": 207,
   "metadata": {},
   "outputs": [
    {
     "name": "stdout",
     "output_type": "stream",
     "text": [
      "Los porcentajes  de valores faltantes -expresados sobre uno- en cada categoría son:\n"
     ]
    },
    {
     "data": {
      "text/plain": [
       "start_date         0.000000\n",
       "end_date           0.000000\n",
       "created_on         0.000000\n",
       "lat                0.061526\n",
       "lon                0.061526\n",
       "l1                 0.000000\n",
       "l2                 0.000000\n",
       "l3                 0.000000\n",
       "rooms              0.000000\n",
       "bedrooms           0.000000\n",
       "bathrooms          0.000000\n",
       "surface_total      0.000000\n",
       "surface_covered    0.000000\n",
       "price              0.000000\n",
       "currency           0.000000\n",
       "title              0.000000\n",
       "description        0.000000\n",
       "property_type      0.000000\n",
       "operation_type     0.000000\n",
       "price_usd_x_m2     0.000000\n",
       "dtype: float64"
      ]
     },
     "execution_count": 207,
     "metadata": {},
     "output_type": "execute_result"
    }
   ],
   "source": [
    "df_faltantes = df_filtered.isna()\n",
    "df_num_faltantes = df_faltantes.sum()\n",
    "print(\"Los porcentajes  de valores faltantes -expresados sobre uno- en cada categoría son:\")\n",
    "df_num_faltantes/len(df_filtered)"
   ]
  },
  {
   "cell_type": "markdown",
   "metadata": {},
   "source": [
    "#### 6. Variables binarias "
   ]
  },
  {
   "cell_type": "markdown",
   "metadata": {},
   "source": [
    "###### Convertimos las variables de property_type utilizando LabelEncoder"
   ]
  },
  {
   "cell_type": "code",
   "execution_count": 208,
   "metadata": {},
   "outputs": [
    {
     "name": "stderr",
     "output_type": "stream",
     "text": [
      "C:\\Anaconda\\lib\\site-packages\\sklearn\\utils\\validation.py:72: DataConversionWarning: A column-vector y was passed when a 1d array was expected. Please change the shape of y to (n_samples, ), for example using ravel().\n",
      "  return f(**kwargs)\n"
     ]
    }
   ],
   "source": [
    "from sklearn.preprocessing import LabelEncoder\n",
    "\n",
    "le = LabelEncoder()\n",
    "le.fit(df_filtered[[\"property_type\"]])\n",
    "df_filtered[\"property_type\"] = le.transform(df_filtered[[\"property_type\"]])"
   ]
  },
  {
   "cell_type": "code",
   "execution_count": 209,
   "metadata": {},
   "outputs": [
    {
     "data": {
      "text/plain": [
       "['Casa', 'Departamento', 'PH']"
      ]
     },
     "execution_count": 209,
     "metadata": {},
     "output_type": "execute_result"
    }
   ],
   "source": [
    "# Mostrar la propiedad classes_ del LabelEncoder\n",
    "list(le.classes_)"
   ]
  },
  {
   "cell_type": "code",
   "execution_count": 210,
   "metadata": {},
   "outputs": [
    {
     "data": {
      "text/html": [
       "<div>\n",
       "<style scoped>\n",
       "    .dataframe tbody tr th:only-of-type {\n",
       "        vertical-align: middle;\n",
       "    }\n",
       "\n",
       "    .dataframe tbody tr th {\n",
       "        vertical-align: top;\n",
       "    }\n",
       "\n",
       "    .dataframe thead th {\n",
       "        text-align: right;\n",
       "    }\n",
       "</style>\n",
       "<table border=\"1\" class=\"dataframe\">\n",
       "  <thead>\n",
       "    <tr style=\"text-align: right;\">\n",
       "      <th></th>\n",
       "      <th>Property_type_0</th>\n",
       "      <th>Property_type_1</th>\n",
       "      <th>Property_type_2</th>\n",
       "    </tr>\n",
       "  </thead>\n",
       "  <tbody>\n",
       "    <tr>\n",
       "      <th>0</th>\n",
       "      <td>0.0</td>\n",
       "      <td>1.0</td>\n",
       "      <td>0.0</td>\n",
       "    </tr>\n",
       "    <tr>\n",
       "      <th>1</th>\n",
       "      <td>0.0</td>\n",
       "      <td>0.0</td>\n",
       "      <td>1.0</td>\n",
       "    </tr>\n",
       "    <tr>\n",
       "      <th>2</th>\n",
       "      <td>0.0</td>\n",
       "      <td>0.0</td>\n",
       "      <td>1.0</td>\n",
       "    </tr>\n",
       "    <tr>\n",
       "      <th>3</th>\n",
       "      <td>0.0</td>\n",
       "      <td>0.0</td>\n",
       "      <td>1.0</td>\n",
       "    </tr>\n",
       "    <tr>\n",
       "      <th>4</th>\n",
       "      <td>0.0</td>\n",
       "      <td>0.0</td>\n",
       "      <td>1.0</td>\n",
       "    </tr>\n",
       "  </tbody>\n",
       "</table>\n",
       "</div>"
      ],
      "text/plain": [
       "   Property_type_0  Property_type_1  Property_type_2\n",
       "0              0.0              1.0              0.0\n",
       "1              0.0              0.0              1.0\n",
       "2              0.0              0.0              1.0\n",
       "3              0.0              0.0              1.0\n",
       "4              0.0              0.0              1.0"
      ]
     },
     "execution_count": 210,
     "metadata": {},
     "output_type": "execute_result"
    }
   ],
   "source": [
    "# Utilizamos OneHotEncoder\n",
    "from sklearn.preprocessing import OneHotEncoder\n",
    "\n",
    "onehot_encoder = OneHotEncoder(sparse=False)\n",
    "X = onehot_encoder.fit_transform(df_filtered.property_type.values.reshape(-1,1))\n",
    "categorical_df = pd.DataFrame(X, columns = [\"Property_type_\"+str(int(i)) for i in range(X.shape[1])])\n",
    "categorical_df.head()"
   ]
  },
  {
   "cell_type": "code",
   "execution_count": 211,
   "metadata": {},
   "outputs": [
    {
     "data": {
      "text/html": [
       "<div>\n",
       "<style scoped>\n",
       "    .dataframe tbody tr th:only-of-type {\n",
       "        vertical-align: middle;\n",
       "    }\n",
       "\n",
       "    .dataframe tbody tr th {\n",
       "        vertical-align: top;\n",
       "    }\n",
       "\n",
       "    .dataframe thead th {\n",
       "        text-align: right;\n",
       "    }\n",
       "</style>\n",
       "<table border=\"1\" class=\"dataframe\">\n",
       "  <thead>\n",
       "    <tr style=\"text-align: right;\">\n",
       "      <th></th>\n",
       "      <th>start_date</th>\n",
       "      <th>end_date</th>\n",
       "      <th>created_on</th>\n",
       "      <th>lat</th>\n",
       "      <th>lon</th>\n",
       "      <th>l1</th>\n",
       "      <th>l2</th>\n",
       "      <th>l3</th>\n",
       "      <th>rooms</th>\n",
       "      <th>bedrooms</th>\n",
       "      <th>bathrooms</th>\n",
       "      <th>surface_total</th>\n",
       "      <th>surface_covered</th>\n",
       "      <th>price</th>\n",
       "      <th>currency</th>\n",
       "      <th>title</th>\n",
       "      <th>description</th>\n",
       "      <th>property_type</th>\n",
       "      <th>operation_type</th>\n",
       "      <th>price_usd_x_m2</th>\n",
       "      <th>Property_type_0</th>\n",
       "      <th>Property_type_1</th>\n",
       "      <th>Property_type_2</th>\n",
       "    </tr>\n",
       "  </thead>\n",
       "  <tbody>\n",
       "    <tr>\n",
       "      <th>0</th>\n",
       "      <td>2019-10-17</td>\n",
       "      <td>2019-12-23</td>\n",
       "      <td>2019-10-17</td>\n",
       "      <td>-34.605880</td>\n",
       "      <td>-58.384949</td>\n",
       "      <td>Argentina</td>\n",
       "      <td>Capital Federal</td>\n",
       "      <td>San Cristobal</td>\n",
       "      <td>7.0</td>\n",
       "      <td>7.0</td>\n",
       "      <td>2.0</td>\n",
       "      <td>140.0</td>\n",
       "      <td>140.0</td>\n",
       "      <td>153000.0</td>\n",
       "      <td>USD</td>\n",
       "      <td>***Venta semipiso centro, ideal hostel*****</td>\n",
       "      <td>DESCRIPCION DE LA PROPIEDAD: Departamento de 140,65 metros cubiertos según escritura. Segundo piso por escalera. Dormitorios siete  /</td>\n",
       "      <td>1</td>\n",
       "      <td>Venta</td>\n",
       "      <td>1092.857143</td>\n",
       "      <td>0.0</td>\n",
       "      <td>1.0</td>\n",
       "      <td>0.0</td>\n",
       "    </tr>\n",
       "    <tr>\n",
       "      <th>1</th>\n",
       "      <td>2019-10-17</td>\n",
       "      <td>2019-11-21</td>\n",
       "      <td>2019-10-17</td>\n",
       "      <td>-34.624056</td>\n",
       "      <td>-58.412110</td>\n",
       "      <td>Argentina</td>\n",
       "      <td>Capital Federal</td>\n",
       "      <td>Boedo</td>\n",
       "      <td>2.0</td>\n",
       "      <td>1.0</td>\n",
       "      <td>2.0</td>\n",
       "      <td>70.0</td>\n",
       "      <td>58.0</td>\n",
       "      <td>159000.0</td>\n",
       "      <td>USD</td>\n",
       "      <td>Espectacular PH reciclado en Boedo sin expensas.</td>\n",
       "      <td>PH reciclado en Boedo a una cuadra de la plaza sin expensas, solo 4 propietarios en el edificio en muy buen estado.58 m2 cubiertos + 12 m2 de patioabajo: living comedor doble altura patio, toilette, cocina y lavaderoarriba: dormitorio con buen placard y baño completo.Impecable. Luz, sol y verde.Claudia Mascitti CMCPSI 6019</td>\n",
       "      <td>2</td>\n",
       "      <td>Venta</td>\n",
       "      <td>2271.428571</td>\n",
       "      <td>0.0</td>\n",
       "      <td>0.0</td>\n",
       "      <td>1.0</td>\n",
       "    </tr>\n",
       "    <tr>\n",
       "      <th>2</th>\n",
       "      <td>2019-10-17</td>\n",
       "      <td>2019-11-01</td>\n",
       "      <td>2019-10-17</td>\n",
       "      <td>-34.593569</td>\n",
       "      <td>-58.427474</td>\n",
       "      <td>Argentina</td>\n",
       "      <td>Capital Federal</td>\n",
       "      <td>Palermo</td>\n",
       "      <td>2.0</td>\n",
       "      <td>1.0</td>\n",
       "      <td>1.0</td>\n",
       "      <td>45.0</td>\n",
       "      <td>45.0</td>\n",
       "      <td>125000.0</td>\n",
       "      <td>USD</td>\n",
       "      <td>Depto.tipo casa de 2 ambientes en Venta en Palermo</td>\n",
       "      <td>2 ambienets amplio , excelente estado , patio  , cocina comedor . 45 mts. Migliorisi VE - Se deja constancia que las caracteristicas, medidas, expensas y superficies  consignadas son aproximadas, sujetos a verificación y/o ajuste. El precio del inmueble puede ser modificado sin previo aviso. Fotos de carácter no contractual. Las unidades publicadas están sujetas a disponibilidad.</td>\n",
       "      <td>2</td>\n",
       "      <td>Venta</td>\n",
       "      <td>2777.777778</td>\n",
       "      <td>0.0</td>\n",
       "      <td>0.0</td>\n",
       "      <td>1.0</td>\n",
       "    </tr>\n",
       "    <tr>\n",
       "      <th>3</th>\n",
       "      <td>2019-10-17</td>\n",
       "      <td>2019-12-23</td>\n",
       "      <td>2019-10-17</td>\n",
       "      <td>-34.581294</td>\n",
       "      <td>-58.436754</td>\n",
       "      <td>Argentina</td>\n",
       "      <td>Capital Federal</td>\n",
       "      <td>Palermo</td>\n",
       "      <td>2.0</td>\n",
       "      <td>1.0</td>\n",
       "      <td>1.0</td>\n",
       "      <td>85.0</td>\n",
       "      <td>50.0</td>\n",
       "      <td>295000.0</td>\n",
       "      <td>USD</td>\n",
       "      <td>COSTA RICA 5800 / PALERMO HOLLYWOOD / VENTA PH 2 AMBIENTES</td>\n",
       "      <td>HERMOSO PH EN PALERMO!!!2 AMBIENTES TOTALMENTE RECICLADOS!!!LIVING/COMEDOR AL CONTRAFRENTE CON SALIDA A PATIO CON ADOQUINES Y PALMERA-DORMITORIO CON BALCON-COCINA Y BAÑO-TERRAZA//SUPER LUMINOSO Y CON EXCELENTE VENTILACION!!!ESTA UBICADO EN PLANTA BAJA, ES EL DEPTO DEL MEDIO POR PASILLOEXCELENTE UBICACION, DONDE NO SE PERMITEN LA CONSTRUCCION DE EDIFICIOS, POR LO QUE SE GARANTIZA EL AIRE Y EL SOL.APTO PROFESIONALNO PAGA EXPENSAS!!!Sup.Total: 85 MtsSup.Cub: 50 MtsSup.desc: 35 MtsSe deja constancia que las medidas (tanto totales como parciales), superficies, m2 y proporciones indicadas en el presente son aproximadas y sujetas a verificación, variación y/o ajuste. Las expensas pueden sufrir variaciones.</td>\n",
       "      <td>2</td>\n",
       "      <td>Venta</td>\n",
       "      <td>3470.588235</td>\n",
       "      <td>0.0</td>\n",
       "      <td>0.0</td>\n",
       "      <td>1.0</td>\n",
       "    </tr>\n",
       "    <tr>\n",
       "      <th>4</th>\n",
       "      <td>2019-10-17</td>\n",
       "      <td>2020-03-11</td>\n",
       "      <td>2019-10-17</td>\n",
       "      <td>-34.914194</td>\n",
       "      <td>-57.938219</td>\n",
       "      <td>Argentina</td>\n",
       "      <td>Bs.As. G.B.A. Zona Sur</td>\n",
       "      <td>La Plata</td>\n",
       "      <td>2.0</td>\n",
       "      <td>1.0</td>\n",
       "      <td>1.0</td>\n",
       "      <td>50.0</td>\n",
       "      <td>35.0</td>\n",
       "      <td>40000.0</td>\n",
       "      <td>USD</td>\n",
       "      <td>58 entre 1 y 2  Venta de departamento en ph.1 Dormitorio , La Plata</td>\n",
       "      <td>58 entre 1 y 2  Venta de departamento en PH. Primer piso por escaleras. Living comedor, cocina integrada, 1 dormitorio , baño con ducha, terraza de 15 metros, tipo de calefacción por tiro balanceado, ventilación cruzada, zona de facultades. SIN EXPENSAS</td>\n",
       "      <td>2</td>\n",
       "      <td>Venta</td>\n",
       "      <td>800.000000</td>\n",
       "      <td>0.0</td>\n",
       "      <td>0.0</td>\n",
       "      <td>1.0</td>\n",
       "    </tr>\n",
       "  </tbody>\n",
       "</table>\n",
       "</div>"
      ],
      "text/plain": [
       "   start_date    end_date  created_on        lat        lon         l1  \\\n",
       "0  2019-10-17  2019-12-23  2019-10-17 -34.605880 -58.384949  Argentina   \n",
       "1  2019-10-17  2019-11-21  2019-10-17 -34.624056 -58.412110  Argentina   \n",
       "2  2019-10-17  2019-11-01  2019-10-17 -34.593569 -58.427474  Argentina   \n",
       "3  2019-10-17  2019-12-23  2019-10-17 -34.581294 -58.436754  Argentina   \n",
       "4  2019-10-17  2020-03-11  2019-10-17 -34.914194 -57.938219  Argentina   \n",
       "\n",
       "                       l2             l3  rooms  bedrooms  bathrooms  \\\n",
       "0         Capital Federal  San Cristobal    7.0       7.0        2.0   \n",
       "1         Capital Federal          Boedo    2.0       1.0        2.0   \n",
       "2         Capital Federal        Palermo    2.0       1.0        1.0   \n",
       "3         Capital Federal        Palermo    2.0       1.0        1.0   \n",
       "4  Bs.As. G.B.A. Zona Sur       La Plata    2.0       1.0        1.0   \n",
       "\n",
       "   surface_total  surface_covered     price currency  \\\n",
       "0          140.0            140.0  153000.0      USD   \n",
       "1           70.0             58.0  159000.0      USD   \n",
       "2           45.0             45.0  125000.0      USD   \n",
       "3           85.0             50.0  295000.0      USD   \n",
       "4           50.0             35.0   40000.0      USD   \n",
       "\n",
       "                                                                 title  \\\n",
       "0                          ***Venta semipiso centro, ideal hostel*****   \n",
       "1                     Espectacular PH reciclado en Boedo sin expensas.   \n",
       "2                   Depto.tipo casa de 2 ambientes en Venta en Palermo   \n",
       "3           COSTA RICA 5800 / PALERMO HOLLYWOOD / VENTA PH 2 AMBIENTES   \n",
       "4  58 entre 1 y 2  Venta de departamento en ph.1 Dormitorio , La Plata   \n",
       "\n",
       "                                                                                                                                                                                                                                                                                                                                                                                                                                                                                                                                                                                                                                                                                                                            description  \\\n",
       "0                                                                                                                                                                                                                                                                                                                                                                                                                                                                                                                                                                                                DESCRIPCION DE LA PROPIEDAD: Departamento de 140,65 metros cubiertos según escritura. Segundo piso por escalera. Dormitorios siete  /    \n",
       "1                                                                                                                                                                                                                                                                                                                                                                                                  PH reciclado en Boedo a una cuadra de la plaza sin expensas, solo 4 propietarios en el edificio en muy buen estado.58 m2 cubiertos + 12 m2 de patioabajo: living comedor doble altura patio, toilette, cocina y lavaderoarriba: dormitorio con buen placard y baño completo.Impecable. Luz, sol y verde.Claudia Mascitti CMCPSI 6019   \n",
       "2                                                                                                                                                                                                                                                                                                                                        2 ambienets amplio , excelente estado , patio  , cocina comedor . 45 mts. Migliorisi VE - Se deja constancia que las caracteristicas, medidas, expensas y superficies  consignadas son aproximadas, sujetos a verificación y/o ajuste. El precio del inmueble puede ser modificado sin previo aviso. Fotos de carácter no contractual. Las unidades publicadas están sujetas a disponibilidad.   \n",
       "3  HERMOSO PH EN PALERMO!!!2 AMBIENTES TOTALMENTE RECICLADOS!!!LIVING/COMEDOR AL CONTRAFRENTE CON SALIDA A PATIO CON ADOQUINES Y PALMERA-DORMITORIO CON BALCON-COCINA Y BAÑO-TERRAZA//SUPER LUMINOSO Y CON EXCELENTE VENTILACION!!!ESTA UBICADO EN PLANTA BAJA, ES EL DEPTO DEL MEDIO POR PASILLOEXCELENTE UBICACION, DONDE NO SE PERMITEN LA CONSTRUCCION DE EDIFICIOS, POR LO QUE SE GARANTIZA EL AIRE Y EL SOL.APTO PROFESIONALNO PAGA EXPENSAS!!!Sup.Total: 85 MtsSup.Cub: 50 MtsSup.desc: 35 MtsSe deja constancia que las medidas (tanto totales como parciales), superficies, m2 y proporciones indicadas en el presente son aproximadas y sujetas a verificación, variación y/o ajuste. Las expensas pueden sufrir variaciones.   \n",
       "4                                                                                                                                                                                                                                                                                                                                                                                                                                                                         58 entre 1 y 2  Venta de departamento en PH. Primer piso por escaleras. Living comedor, cocina integrada, 1 dormitorio , baño con ducha, terraza de 15 metros, tipo de calefacción por tiro balanceado, ventilación cruzada, zona de facultades. SIN EXPENSAS   \n",
       "\n",
       "   property_type operation_type  price_usd_x_m2  Property_type_0  \\\n",
       "0              1          Venta     1092.857143              0.0   \n",
       "1              2          Venta     2271.428571              0.0   \n",
       "2              2          Venta     2777.777778              0.0   \n",
       "3              2          Venta     3470.588235              0.0   \n",
       "4              2          Venta      800.000000              0.0   \n",
       "\n",
       "   Property_type_1  Property_type_2  \n",
       "0              1.0              0.0  \n",
       "1              0.0              1.0  \n",
       "2              0.0              1.0  \n",
       "3              0.0              1.0  \n",
       "4              0.0              1.0  "
      ]
     },
     "execution_count": 211,
     "metadata": {},
     "output_type": "execute_result"
    }
   ],
   "source": [
    "# Unimos el nuevo dataframe categorical_df con el dataframe original\n",
    "categorical_df = categorical_df.set_index(df_filtered.index)\n",
    "df_filtered = pd.concat([df_filtered, categorical_df], axis=1)\n",
    "df_filtered.head()"
   ]
  },
  {
   "cell_type": "code",
   "execution_count": 212,
   "metadata": {},
   "outputs": [
    {
     "name": "stdout",
     "output_type": "stream",
     "text": [
      "Los tipos de datos del dataset son:\n"
     ]
    },
    {
     "data": {
      "text/plain": [
       "start_date          object\n",
       "end_date            object\n",
       "created_on          object\n",
       "lat                float64\n",
       "lon                float64\n",
       "l1                  object\n",
       "l2                  object\n",
       "l3                  object\n",
       "rooms              float64\n",
       "bedrooms           float64\n",
       "bathrooms          float64\n",
       "surface_total      float64\n",
       "surface_covered    float64\n",
       "price              float64\n",
       "currency            object\n",
       "title               object\n",
       "description         object\n",
       "property_type        int32\n",
       "operation_type      object\n",
       "price_usd_x_m2     float64\n",
       "Property_type_0    float64\n",
       "Property_type_1    float64\n",
       "Property_type_2    float64\n",
       "dtype: object"
      ]
     },
     "execution_count": 212,
     "metadata": {},
     "output_type": "execute_result"
    }
   ],
   "source": [
    "#  Validamos tipo de datos de cada columna del Dataframe \n",
    "print(\"Los tipos de datos del dataset son:\")\n",
    "df_filtered.dtypes"
   ]
  },
  {
   "cell_type": "code",
   "execution_count": 213,
   "metadata": {},
   "outputs": [],
   "source": [
    "# Creamos el nuevo Dataframe con los datos filtrados\n",
    "dataML = pd.DataFrame(df_filtered.query('l2 in \"Capital Federal\"'))[['rooms', 'bedrooms', 'bathrooms','surface_total','surface_covered','price_usd_x_m2','Property_type_0','Property_type_1', 'Property_type_2', 'price']]"
   ]
  },
  {
   "cell_type": "code",
   "execution_count": 214,
   "metadata": {},
   "outputs": [
    {
     "name": "stdout",
     "output_type": "stream",
     "text": [
      "Los tipos de datos del dataset son:\n"
     ]
    },
    {
     "data": {
      "text/plain": [
       "rooms              float64\n",
       "bedrooms           float64\n",
       "bathrooms          float64\n",
       "surface_total      float64\n",
       "surface_covered    float64\n",
       "price_usd_x_m2     float64\n",
       "Property_type_0    float64\n",
       "Property_type_1    float64\n",
       "Property_type_2    float64\n",
       "price              float64\n",
       "dtype: object"
      ]
     },
     "execution_count": 214,
     "metadata": {},
     "output_type": "execute_result"
    }
   ],
   "source": [
    "#  Validamos tipo de datos de cada columna del Dataframe \n",
    "print(\"Los tipos de datos del dataset son:\")\n",
    "dataML.dtypes"
   ]
  },
  {
   "cell_type": "code",
   "execution_count": 215,
   "metadata": {},
   "outputs": [
    {
     "name": "stdout",
     "output_type": "stream",
     "text": [
      "Los porcentajes  de valores faltantes -expresados sobre uno- en cada categoría son:\n"
     ]
    },
    {
     "data": {
      "text/plain": [
       "rooms              0.0\n",
       "bedrooms           0.0\n",
       "bathrooms          0.0\n",
       "surface_total      0.0\n",
       "surface_covered    0.0\n",
       "price_usd_x_m2     0.0\n",
       "Property_type_0    0.0\n",
       "Property_type_1    0.0\n",
       "Property_type_2    0.0\n",
       "price              0.0\n",
       "dtype: float64"
      ]
     },
     "execution_count": 215,
     "metadata": {},
     "output_type": "execute_result"
    }
   ],
   "source": [
    "df_faltantes = dataML.isna()\n",
    "df_num_faltantes = df_faltantes.sum()\n",
    "print(\"Los porcentajes  de valores faltantes -expresados sobre uno- en cada categoría son:\")\n",
    "df_num_faltantes/len(dataML)"
   ]
  },
  {
   "cell_type": "code",
   "execution_count": 216,
   "metadata": {},
   "outputs": [
    {
     "name": "stdout",
     "output_type": "stream",
     "text": [
      "El dataset tiene 69123 filas\n",
      "El dataset tiene 10 columnas\n"
     ]
    },
    {
     "data": {
      "text/html": [
       "<div>\n",
       "<style scoped>\n",
       "    .dataframe tbody tr th:only-of-type {\n",
       "        vertical-align: middle;\n",
       "    }\n",
       "\n",
       "    .dataframe tbody tr th {\n",
       "        vertical-align: top;\n",
       "    }\n",
       "\n",
       "    .dataframe thead th {\n",
       "        text-align: right;\n",
       "    }\n",
       "</style>\n",
       "<table border=\"1\" class=\"dataframe\">\n",
       "  <thead>\n",
       "    <tr style=\"text-align: right;\">\n",
       "      <th></th>\n",
       "      <th>rooms</th>\n",
       "      <th>bedrooms</th>\n",
       "      <th>bathrooms</th>\n",
       "      <th>surface_total</th>\n",
       "      <th>surface_covered</th>\n",
       "      <th>price_usd_x_m2</th>\n",
       "      <th>Property_type_0</th>\n",
       "      <th>Property_type_1</th>\n",
       "      <th>Property_type_2</th>\n",
       "      <th>price</th>\n",
       "    </tr>\n",
       "  </thead>\n",
       "  <tbody>\n",
       "    <tr>\n",
       "      <th>0</th>\n",
       "      <td>7.0</td>\n",
       "      <td>7.0</td>\n",
       "      <td>2.0</td>\n",
       "      <td>140.0</td>\n",
       "      <td>140.0</td>\n",
       "      <td>1092.857143</td>\n",
       "      <td>0.0</td>\n",
       "      <td>1.0</td>\n",
       "      <td>0.0</td>\n",
       "      <td>153000.0</td>\n",
       "    </tr>\n",
       "    <tr>\n",
       "      <th>1</th>\n",
       "      <td>2.0</td>\n",
       "      <td>1.0</td>\n",
       "      <td>2.0</td>\n",
       "      <td>70.0</td>\n",
       "      <td>58.0</td>\n",
       "      <td>2271.428571</td>\n",
       "      <td>0.0</td>\n",
       "      <td>0.0</td>\n",
       "      <td>1.0</td>\n",
       "      <td>159000.0</td>\n",
       "    </tr>\n",
       "    <tr>\n",
       "      <th>2</th>\n",
       "      <td>2.0</td>\n",
       "      <td>1.0</td>\n",
       "      <td>1.0</td>\n",
       "      <td>45.0</td>\n",
       "      <td>45.0</td>\n",
       "      <td>2777.777778</td>\n",
       "      <td>0.0</td>\n",
       "      <td>0.0</td>\n",
       "      <td>1.0</td>\n",
       "      <td>125000.0</td>\n",
       "    </tr>\n",
       "    <tr>\n",
       "      <th>3</th>\n",
       "      <td>2.0</td>\n",
       "      <td>1.0</td>\n",
       "      <td>1.0</td>\n",
       "      <td>85.0</td>\n",
       "      <td>50.0</td>\n",
       "      <td>3470.588235</td>\n",
       "      <td>0.0</td>\n",
       "      <td>0.0</td>\n",
       "      <td>1.0</td>\n",
       "      <td>295000.0</td>\n",
       "    </tr>\n",
       "    <tr>\n",
       "      <th>5</th>\n",
       "      <td>2.0</td>\n",
       "      <td>1.0</td>\n",
       "      <td>1.0</td>\n",
       "      <td>56.0</td>\n",
       "      <td>56.0</td>\n",
       "      <td>2678.571429</td>\n",
       "      <td>0.0</td>\n",
       "      <td>0.0</td>\n",
       "      <td>1.0</td>\n",
       "      <td>150000.0</td>\n",
       "    </tr>\n",
       "  </tbody>\n",
       "</table>\n",
       "</div>"
      ],
      "text/plain": [
       "   rooms  bedrooms  bathrooms  surface_total  surface_covered  price_usd_x_m2  \\\n",
       "0    7.0       7.0        2.0          140.0            140.0     1092.857143   \n",
       "1    2.0       1.0        2.0           70.0             58.0     2271.428571   \n",
       "2    2.0       1.0        1.0           45.0             45.0     2777.777778   \n",
       "3    2.0       1.0        1.0           85.0             50.0     3470.588235   \n",
       "5    2.0       1.0        1.0           56.0             56.0     2678.571429   \n",
       "\n",
       "   Property_type_0  Property_type_1  Property_type_2     price  \n",
       "0              0.0              1.0              0.0  153000.0  \n",
       "1              0.0              0.0              1.0  159000.0  \n",
       "2              0.0              0.0              1.0  125000.0  \n",
       "3              0.0              0.0              1.0  295000.0  \n",
       "5              0.0              0.0              1.0  150000.0  "
      ]
     },
     "execution_count": 216,
     "metadata": {},
     "output_type": "execute_result"
    }
   ],
   "source": [
    "# Descartar aquellas instacias con valores faltantes\n",
    "dataML = dataML.dropna()\n",
    "\n",
    "# Número de filas y columnas Data Frame con los datos filtrados\n",
    "print(\"El dataset tiene {} filas\".format(dataML.shape[0]))\n",
    "print(\"El dataset tiene {} columnas\".format(dataML.shape[1]))\n",
    "dataML.head()"
   ]
  },
  {
   "cell_type": "code",
   "execution_count": 217,
   "metadata": {},
   "outputs": [
    {
     "data": {
      "text/plain": [
       "price              1.000000\n",
       "surface_covered    0.846825\n",
       "surface_total      0.829459\n",
       "bathrooms          0.669209\n",
       "rooms              0.661174\n",
       "bedrooms           0.616615\n",
       "Property_type_0    0.239287\n",
       "price_usd_x_m2     0.165442\n",
       "Property_type_2    0.026907\n",
       "Property_type_1   -0.134226\n",
       "Name: price, dtype: float64"
      ]
     },
     "execution_count": 217,
     "metadata": {},
     "output_type": "execute_result"
    }
   ],
   "source": [
    "# Ordenamos y filtramos las correlaciones con el precio\n",
    "dataML.corr()['price'].sort_values(ascending = False)"
   ]
  },
  {
   "cell_type": "markdown",
   "metadata": {},
   "source": [
    "## PARTE B - Modelos Avanzados"
   ]
  },
  {
   "cell_type": "markdown",
   "metadata": {},
   "source": [
    "###### GridSearchCV nos permite testear a través de un espacio de búsqueda de parámetros la mejor combinación posible dado un estimador."
   ]
  },
  {
   "cell_type": "code",
   "execution_count": 218,
   "metadata": {},
   "outputs": [
    {
     "name": "stdout",
     "output_type": "stream",
     "text": [
      "48386 20737\n"
     ]
    }
   ],
   "source": [
    "# Hacemos la separación \n",
    "X = dataML.drop(['price'], axis=1)\n",
    "y = dataML['price']\n",
    "\n",
    "import numpy as np\n",
    "np.random.seed(123)\n",
    "from sklearn.model_selection import train_test_split\n",
    "\n",
    "X_train, X_test, y_train, y_test = train_test_split(\n",
    "    X, y, test_size=0.3, random_state=2)\n",
    "\n",
    "print(X_train.shape[0], X_test.shape[0])"
   ]
  },
  {
   "cell_type": "code",
   "execution_count": 219,
   "metadata": {},
   "outputs": [
    {
     "name": "stdout",
     "output_type": "stream",
     "text": [
      "X_train is (48386, 9)\n",
      "X_test shape is (20737, 9)\n",
      "y_train shape is (48386,)\n",
      "y_test shape is (20737,)\n"
     ]
    }
   ],
   "source": [
    "print(f\"X_train is {X_train.shape}\")\n",
    "print(f\"X_test shape is {X_test.shape}\")\n",
    "# print(f\"X_validate shape is {X_validate.shape}\")\n",
    "print(f\"y_train shape is {y_train.shape}\")\n",
    "# print(f\"y_validate shape is {y_validate.shape}\")\n",
    "print(f\"y_test shape is {y_test.shape}\")"
   ]
  },
  {
   "cell_type": "code",
   "execution_count": 220,
   "metadata": {},
   "outputs": [],
   "source": [
    "from sklearn.metrics import mean_squared_error\n",
    "def root_mean_squared_error(y_true, y_pred):\n",
    "    ''' Root mean squared error regression loss\n",
    "    \n",
    "    Parameters\n",
    "    ----------\n",
    "    y_true : array-like of shape = (n_samples) or (n_samples, n_outputs)\n",
    "    Ground truth (correct) target values.\n",
    "\n",
    "    y_pred : array-like of shape = (n_samples) or (n_samples, n_outputs)\n",
    "    Estimated target values.\n",
    "    '''\n",
    "    return np.sqrt(mean_squared_error(y_true, y_pred))"
   ]
  },
  {
   "cell_type": "code",
   "execution_count": 221,
   "metadata": {},
   "outputs": [],
   "source": [
    "from sklearn.model_selection import validation_curve\n",
    "from sklearn.pipeline import make_pipeline\n",
    "from sklearn.metrics import make_scorer\n",
    "from sklearn import tree"
   ]
  },
  {
   "cell_type": "code",
   "execution_count": 222,
   "metadata": {},
   "outputs": [],
   "source": [
    "rmse_scorer = make_scorer(root_mean_squared_error, greater_is_better=False)"
   ]
  },
  {
   "cell_type": "code",
   "execution_count": 223,
   "metadata": {},
   "outputs": [],
   "source": [
    "pipe_tree = make_pipeline(tree.DecisionTreeRegressor(random_state=2))"
   ]
  },
  {
   "cell_type": "code",
   "execution_count": 224,
   "metadata": {},
   "outputs": [
    {
     "data": {
      "text/plain": [
       "array([ 1,  2,  3,  4,  5,  6,  7,  8,  9, 10, 11, 12, 13, 14, 15, 16, 17,\n",
       "       18, 19, 20])"
      ]
     },
     "execution_count": 224,
     "metadata": {},
     "output_type": "execute_result"
    }
   ],
   "source": [
    "# Creamos arreglo con las profundidades a evaluares\n",
    "depths = np.arange(1, 21)\n",
    "depths"
   ]
  },
  {
   "cell_type": "code",
   "execution_count": 225,
   "metadata": {},
   "outputs": [],
   "source": [
    "num_leafs = [1, 5, 10, 20, 50, 100]"
   ]
  },
  {
   "cell_type": "code",
   "execution_count": 226,
   "metadata": {},
   "outputs": [],
   "source": [
    "from sklearn.model_selection import GridSearchCV"
   ]
  },
  {
   "cell_type": "code",
   "execution_count": 227,
   "metadata": {},
   "outputs": [],
   "source": [
    "param_grid = [{'decisiontreeregressor__max_depth':depths,\n",
    "              'decisiontreeregressor__min_samples_leaf':num_leafs}]"
   ]
  },
  {
   "cell_type": "code",
   "execution_count": 228,
   "metadata": {},
   "outputs": [],
   "source": [
    "gs = GridSearchCV(estimator=pipe_tree, param_grid=param_grid, scoring=rmse_scorer, cv=10)"
   ]
  },
  {
   "cell_type": "code",
   "execution_count": 229,
   "metadata": {},
   "outputs": [],
   "source": [
    "gs = gs.fit(X_train, y_train)"
   ]
  },
  {
   "cell_type": "code",
   "execution_count": 230,
   "metadata": {},
   "outputs": [
    {
     "name": "stdout",
     "output_type": "stream",
     "text": [
      "13310.568746127796\n"
     ]
    }
   ],
   "source": [
    "print(-gs.best_score_)"
   ]
  },
  {
   "cell_type": "code",
   "execution_count": 231,
   "metadata": {},
   "outputs": [
    {
     "name": "stdout",
     "output_type": "stream",
     "text": [
      "{'decisiontreeregressor__max_depth': 15, 'decisiontreeregressor__min_samples_leaf': 1}\n"
     ]
    }
   ],
   "source": [
    "print(gs.best_params_)"
   ]
  },
  {
   "cell_type": "code",
   "execution_count": 232,
   "metadata": {},
   "outputs": [],
   "source": [
    "my_model = gs.best_estimator_"
   ]
  },
  {
   "cell_type": "code",
   "execution_count": 233,
   "metadata": {},
   "outputs": [
    {
     "data": {
      "text/plain": [
       "Pipeline(steps=[('decisiontreeregressor',\n",
       "                 DecisionTreeRegressor(max_depth=15, random_state=2))])"
      ]
     },
     "execution_count": 233,
     "metadata": {},
     "output_type": "execute_result"
    }
   ],
   "source": [
    "my_model.fit(X_train, y_train)"
   ]
  },
  {
   "cell_type": "code",
   "execution_count": 234,
   "metadata": {},
   "outputs": [
    {
     "data": {
      "text/plain": [
       "16307.94085783753"
      ]
     },
     "execution_count": 234,
     "metadata": {},
     "output_type": "execute_result"
    }
   ],
   "source": [
    "y_predicted = my_model.predict(X_test)\n",
    "root_mean_squared_error(y_test, y_predicted)"
   ]
  },
  {
   "cell_type": "markdown",
   "metadata": {},
   "source": [
    "## Entrenar el modelo implementado en la Entrega 01 - en particular, el árbol de decisión - y evalúa su desempeño a partir del dataset obtenido luego de transformar los datos"
   ]
  },
  {
   "cell_type": "code",
   "execution_count": 235,
   "metadata": {},
   "outputs": [],
   "source": [
    "# Importamos librerías\n",
    "import numpy as np\n",
    "import matplotlib.pyplot as plt\n",
    "import pandas as pd\n",
    "import seaborn as sns\n",
    "from sklearn.model_selection import train_test_split #importar módulo Skl\n",
    "from sklearn.tree import DecisionTreeRegressor\n",
    "from sklearn.metrics import mean_squared_error\n",
    "from sklearn.neighbors import KNeighborsRegressor #importa la clase\n",
    "from sklearn.model_selection import cross_val_score\n",
    "from sklearn.linear_model import LinearRegression\n",
    "from sklearn import tree"
   ]
  },
  {
   "cell_type": "markdown",
   "metadata": {},
   "source": [
    "#### Ajuste de modelos y su posterior evaluación\n",
    "##### Divideremos el dataset en un conjunto de entrenamiento (70%) y un conjunto de pruebas (test) (30%).\n",
    "\n",
    "###### Separamos el dataset en `X_train`, `X_test`, `y_train` e `y_test` con el tamaño correspondiente"
   ]
  },
  {
   "cell_type": "code",
   "execution_count": 236,
   "metadata": {},
   "outputs": [
    {
     "name": "stdout",
     "output_type": "stream",
     "text": [
      "Train test size:  (48386, 9)\n",
      "Test train size:  (20737, 9)\n"
     ]
    },
    {
     "data": {
      "text/html": [
       "<div>\n",
       "<style scoped>\n",
       "    .dataframe tbody tr th:only-of-type {\n",
       "        vertical-align: middle;\n",
       "    }\n",
       "\n",
       "    .dataframe tbody tr th {\n",
       "        vertical-align: top;\n",
       "    }\n",
       "\n",
       "    .dataframe thead th {\n",
       "        text-align: right;\n",
       "    }\n",
       "</style>\n",
       "<table border=\"1\" class=\"dataframe\">\n",
       "  <thead>\n",
       "    <tr style=\"text-align: right;\">\n",
       "      <th></th>\n",
       "      <th>rooms</th>\n",
       "      <th>bedrooms</th>\n",
       "      <th>bathrooms</th>\n",
       "      <th>surface_total</th>\n",
       "      <th>surface_covered</th>\n",
       "      <th>price_usd_x_m2</th>\n",
       "      <th>Property_type_0</th>\n",
       "      <th>Property_type_1</th>\n",
       "      <th>Property_type_2</th>\n",
       "    </tr>\n",
       "  </thead>\n",
       "  <tbody>\n",
       "    <tr>\n",
       "      <th>0</th>\n",
       "      <td>7.0</td>\n",
       "      <td>7.0</td>\n",
       "      <td>2.0</td>\n",
       "      <td>140.0</td>\n",
       "      <td>140.0</td>\n",
       "      <td>1092.857143</td>\n",
       "      <td>0.0</td>\n",
       "      <td>1.0</td>\n",
       "      <td>0.0</td>\n",
       "    </tr>\n",
       "    <tr>\n",
       "      <th>1</th>\n",
       "      <td>2.0</td>\n",
       "      <td>1.0</td>\n",
       "      <td>2.0</td>\n",
       "      <td>70.0</td>\n",
       "      <td>58.0</td>\n",
       "      <td>2271.428571</td>\n",
       "      <td>0.0</td>\n",
       "      <td>0.0</td>\n",
       "      <td>1.0</td>\n",
       "    </tr>\n",
       "    <tr>\n",
       "      <th>2</th>\n",
       "      <td>2.0</td>\n",
       "      <td>1.0</td>\n",
       "      <td>1.0</td>\n",
       "      <td>45.0</td>\n",
       "      <td>45.0</td>\n",
       "      <td>2777.777778</td>\n",
       "      <td>0.0</td>\n",
       "      <td>0.0</td>\n",
       "      <td>1.0</td>\n",
       "    </tr>\n",
       "    <tr>\n",
       "      <th>3</th>\n",
       "      <td>2.0</td>\n",
       "      <td>1.0</td>\n",
       "      <td>1.0</td>\n",
       "      <td>85.0</td>\n",
       "      <td>50.0</td>\n",
       "      <td>3470.588235</td>\n",
       "      <td>0.0</td>\n",
       "      <td>0.0</td>\n",
       "      <td>1.0</td>\n",
       "    </tr>\n",
       "    <tr>\n",
       "      <th>5</th>\n",
       "      <td>2.0</td>\n",
       "      <td>1.0</td>\n",
       "      <td>1.0</td>\n",
       "      <td>56.0</td>\n",
       "      <td>56.0</td>\n",
       "      <td>2678.571429</td>\n",
       "      <td>0.0</td>\n",
       "      <td>0.0</td>\n",
       "      <td>1.0</td>\n",
       "    </tr>\n",
       "  </tbody>\n",
       "</table>\n",
       "</div>"
      ],
      "text/plain": [
       "   rooms  bedrooms  bathrooms  surface_total  surface_covered  price_usd_x_m2  \\\n",
       "0    7.0       7.0        2.0          140.0            140.0     1092.857143   \n",
       "1    2.0       1.0        2.0           70.0             58.0     2271.428571   \n",
       "2    2.0       1.0        1.0           45.0             45.0     2777.777778   \n",
       "3    2.0       1.0        1.0           85.0             50.0     3470.588235   \n",
       "5    2.0       1.0        1.0           56.0             56.0     2678.571429   \n",
       "\n",
       "   Property_type_0  Property_type_1  Property_type_2  \n",
       "0              0.0              1.0              0.0  \n",
       "1              0.0              0.0              1.0  \n",
       "2              0.0              0.0              1.0  \n",
       "3              0.0              0.0              1.0  \n",
       "5              0.0              0.0              1.0  "
      ]
     },
     "execution_count": 236,
     "metadata": {},
     "output_type": "execute_result"
    }
   ],
   "source": [
    "# Realizar un Train/Test split de los datos.\n",
    "X = dataML.drop(['price'], axis=1) # quitar la columna target\n",
    "y = dataML['price'] # columna target\n",
    "\n",
    "X_train, X_test, y_train, y_test = train_test_split (X,y, test_size=0.3, random_state = 2) #separar conjuntos \n",
    "\n",
    "print(\"Train test size: \", X_train.shape)\n",
    "print(\"Test train size: \", X_test.shape)\n",
    "X.head()"
   ]
  },
  {
   "cell_type": "code",
   "execution_count": 237,
   "metadata": {},
   "outputs": [
    {
     "data": {
      "text/plain": [
       "0    153000.0\n",
       "1    159000.0\n",
       "2    125000.0\n",
       "3    295000.0\n",
       "5    150000.0\n",
       "Name: price, dtype: float64"
      ]
     },
     "execution_count": 237,
     "metadata": {},
     "output_type": "execute_result"
    }
   ],
   "source": [
    "y.head()"
   ]
  },
  {
   "cell_type": "markdown",
   "metadata": {},
   "source": [
    "#### Árboles de decisión \n",
    "##### Entrenar un árbol de decisión y usar de métrica al RMSE.\n",
    "Se obtiene el RMSE, vamos a medir el mean_squared_error y obtener su raíz cuadrada."
   ]
  },
  {
   "cell_type": "code",
   "execution_count": 238,
   "metadata": {},
   "outputs": [
    {
     "data": {
      "text/plain": [
       "DecisionTreeRegressor(max_depth=15, random_state=2)"
      ]
     },
     "execution_count": 238,
     "metadata": {},
     "output_type": "execute_result"
    }
   ],
   "source": [
    "# Entrenar un modelo de árbol de decisión\n",
    "\n",
    "# tree_reg = DecisionTreeRegressor(random_state = 2) \n",
    "tree_reg = DecisionTreeRegressor(max_depth = 15, random_state = 2) \n",
    "#asignar el DTRegressor a tree_reg. Es regressor porque es una variable continua (PRECIOS).\n",
    "tree_reg.fit(X_train, y_train) #entrenar en los dos conjuntos\n"
   ]
  },
  {
   "cell_type": "code",
   "execution_count": 239,
   "metadata": {},
   "outputs": [
    {
     "name": "stdout",
     "output_type": "stream",
     "text": [
      "[231333.33333333 169948.53571429  53000.         ... 145000.\n",
      " 429000.         145000.        ]\n"
     ]
    }
   ],
   "source": [
    "# Realizar la predicción\n",
    "y_pred = tree_reg.predict(X_test)\n",
    "print(y_pred)"
   ]
  },
  {
   "cell_type": "code",
   "execution_count": 240,
   "metadata": {},
   "outputs": [
    {
     "name": "stdout",
     "output_type": "stream",
     "text": [
      "RMSE:  16307.94085783753\n"
     ]
    }
   ],
   "source": [
    "# Calcular el RMSE\n",
    "tree_mse = mean_squared_error(y_test, y_pred) #error cuadrático medio\n",
    "tree_rmse = np.sqrt(tree_mse) #sacar la raíz cuadrada\n",
    "print(\"RMSE: \", tree_rmse)"
   ]
  },
  {
   "cell_type": "code",
   "execution_count": 241,
   "metadata": {},
   "outputs": [],
   "source": [
    "# Analizar el cambio en el RMSE a medida que es más profundo el árbol de decisión\n",
    "# En training y testing.\n",
    "rmses_train = []\n",
    "rmses_test= []\n",
    "\n",
    "profundidad = [5, 10, 15, 20, 25, 30]\n",
    "for value in profundidad:\n",
    "    # asignar las profundidades del árbol mediante el loop\n",
    "    deep_reg_tree = DecisionTreeRegressor(max_depth=value, random_state = 2)\n",
    "    \n",
    "    # entrenar el modelo   \n",
    "    deep_reg_tree.fit(X_train, y_train) \n",
    "    \n",
    "    # predecir sobre X_test, sacando el MSE y RMSE sobre y_test e y_pred_test\n",
    "    y_pred_test = deep_reg_tree.predict(X_test) \n",
    "    tree_mse_test = mean_squared_error(y_test, y_pred_test)\n",
    "    tree_rmse_test = np.sqrt(tree_mse_test)\n",
    "    \n",
    "    # predecir sobre X_train, sacando el MSE y RMSE sobre y_test e y_pred_test\n",
    "    y_pred_train = deep_reg_tree.predict(X_train)\n",
    "    tree_mse_train = mean_squared_error(y_train, y_pred_train)\n",
    "    tree_rmse_train = np.sqrt(tree_mse_train)\n",
    "    \n",
    "    rmses_train.append(tree_rmse_train) #agregar la información a las listas de arriba\n",
    "    rmses_test.append(tree_rmse_test) #agregar la información a las listas de arriba"
   ]
  },
  {
   "cell_type": "code",
   "execution_count": 242,
   "metadata": {},
   "outputs": [
    {
     "name": "stdout",
     "output_type": "stream",
     "text": [
      "[42832.37478506131, 6520.26701801057, 456.61222578557505, 8.34319507582962, 0.0, 0.0]\n",
      "[47785.76615941252, 17739.806254169456, 16307.94085783753, 16125.1055402133, 16337.229590633266, 16337.229590633266]\n"
     ]
    }
   ],
   "source": [
    "print(rmses_train)\n",
    "print(rmses_test)"
   ]
  },
  {
   "cell_type": "code",
   "execution_count": 243,
   "metadata": {},
   "outputs": [
    {
     "data": {
      "image/png": "[encoded data removed]",
      "text/plain": [
       "<Figure size 432x288 with 1 Axes>"
      ]
     },
     "metadata": {
      "needs_background": "light"
     },
     "output_type": "display_data"
    }
   ],
   "source": [
    "import matplotlib.pyplot as plt\n",
    "%matplotlib inline \n",
    "\n",
    "plt.plot(range(1,30, 5), rmses_train, label='RMSE Training')\n",
    "plt.plot(range(1,30, 5), rmses_test, label='RMSE Testing')\n",
    "plt.title(\"RMSE Training vs RMSE Testing para árboles de decisión\")\n",
    "plt.legend(loc=\"best\")\n",
    "plt.show()"
   ]
  },
  {
   "cell_type": "markdown",
   "metadata": {},
   "source": [
    "*El modelo presenta sobreajuste dado que a mayor complejidad (en este caso, mayor profundidad del árbol) más diferencia entre los resultados de `training` y `testing`. También observamos como la curva de testing decrece y luego vuelvo a crecer.*"
   ]
  },
  {
   "cell_type": "markdown",
   "metadata": {},
   "source": [
    "##### En una variable llamada regressor guardamos el árbol de decisión."
   ]
  },
  {
   "cell_type": "code",
   "execution_count": 244,
   "metadata": {},
   "outputs": [
    {
     "name": "stdout",
     "output_type": "stream",
     "text": [
      "Root Mean Squared Error:  16676.23155352361\n"
     ]
    }
   ],
   "source": [
    "regressor = DecisionTreeRegressor(max_depth=15) #árbol con profundidad 16\n",
    "model = regressor.fit(X_train, y_train) #entrenamiento\n",
    "y_predict = model.predict(X_test) #predicción\n",
    "mse = mean_squared_error(y_test, y_predict)\n",
    "print('Root Mean Squared Error: ', format(np.sqrt(mse)))"
   ]
  },
  {
   "cell_type": "code",
   "execution_count": 245,
   "metadata": {},
   "outputs": [],
   "source": [
    "def nmsq2rmse(score):\n",
    "    return np.sqrt(-score)"
   ]
  },
  {
   "cell_type": "code",
   "execution_count": 246,
   "metadata": {},
   "outputs": [
    {
     "name": "stdout",
     "output_type": "stream",
     "text": [
      "Root Mean Squared Error:  47293.502995179886\n",
      "Root Mean Squared Error:  8173.354446896769\n",
      "Root Mean Squared Error:  6888.737288157973\n",
      "Root Mean Squared Error:  20356.077568213223\n",
      "Root Mean Squared Error:  7021.545043185444\n",
      "Root Mean Squared Error:  11341.516638133166\n",
      "Root Mean Squared Error:  8292.942349603309\n",
      "Root Mean Squared Error:  9999.397076474645\n",
      "Root Mean Squared Error:  5730.142687122174\n",
      "Root Mean Squared Error:  7253.876575666532\n"
     ]
    }
   ],
   "source": [
    "# Calcular los cross_val_score\n",
    "\n",
    "scores = cross_val_score(model, X_train, y_train, scoring='neg_mean_squared_error', cv=10)\n",
    "rmse_scores = []\n",
    "for score in scores:\n",
    "    rmse = nmsq2rmse(score)\n",
    "    rmse_scores.append(rmse)\n",
    "    print('Root Mean Squared Error: ', rmse)"
   ]
  },
  {
   "cell_type": "markdown",
   "metadata": {},
   "source": [
    "##### Reentrenamos al regresor y mostramos en un dataframe la comparación entre los valores reales, las predicciones y la diferencia entre ellos"
   ]
  },
  {
   "cell_type": "code",
   "execution_count": 247,
   "metadata": {},
   "outputs": [],
   "source": [
    "regressor.fit(X_train, y_train)\n",
    "y_pred = regressor.predict(X_test)\n",
    "val_real = pd.Series(y_test.values)\n",
    "val_pred = pd.Series(y_pred)"
   ]
  },
  {
   "cell_type": "code",
   "execution_count": 248,
   "metadata": {},
   "outputs": [],
   "source": [
    "# Datos para el gráfico\n",
    "preddf = pd.concat([val_real.rename('real'), val_pred.rename('pred')] ,  axis=1) # para el gráfico\n",
    "# Datos para la tabla de diferencia\n",
    "predicciones = pd.concat([val_real.rename('Valor Real'),val_pred.rename('Valor Pred') ,abs(val_real-val_pred).rename('Diferencia(+/-)')] ,  axis=1) # para mostrar en pantalla"
   ]
  },
  {
   "cell_type": "code",
   "execution_count": 249,
   "metadata": {},
   "outputs": [
    {
     "data": {
      "text/html": [
       "<div>\n",
       "<style scoped>\n",
       "    .dataframe tbody tr th:only-of-type {\n",
       "        vertical-align: middle;\n",
       "    }\n",
       "\n",
       "    .dataframe tbody tr th {\n",
       "        vertical-align: top;\n",
       "    }\n",
       "\n",
       "    .dataframe thead th {\n",
       "        text-align: right;\n",
       "    }\n",
       "</style>\n",
       "<table border=\"1\" class=\"dataframe\">\n",
       "  <thead>\n",
       "    <tr style=\"text-align: right;\">\n",
       "      <th></th>\n",
       "      <th>Valor Real</th>\n",
       "      <th>Valor Pred</th>\n",
       "      <th>Diferencia(+/-)</th>\n",
       "    </tr>\n",
       "  </thead>\n",
       "  <tbody>\n",
       "    <tr>\n",
       "      <th>0</th>\n",
       "      <td>230000.0</td>\n",
       "      <td>2.313333e+05</td>\n",
       "      <td>1333.333333</td>\n",
       "    </tr>\n",
       "    <tr>\n",
       "      <th>1</th>\n",
       "      <td>170000.0</td>\n",
       "      <td>1.699485e+05</td>\n",
       "      <td>51.464286</td>\n",
       "    </tr>\n",
       "    <tr>\n",
       "      <th>2</th>\n",
       "      <td>52000.0</td>\n",
       "      <td>5.300000e+04</td>\n",
       "      <td>1000.000000</td>\n",
       "    </tr>\n",
       "    <tr>\n",
       "      <th>3</th>\n",
       "      <td>420000.0</td>\n",
       "      <td>4.200000e+05</td>\n",
       "      <td>0.000000</td>\n",
       "    </tr>\n",
       "    <tr>\n",
       "      <th>4</th>\n",
       "      <td>1700000.0</td>\n",
       "      <td>1.700000e+06</td>\n",
       "      <td>0.000000</td>\n",
       "    </tr>\n",
       "    <tr>\n",
       "      <th>5</th>\n",
       "      <td>125000.0</td>\n",
       "      <td>1.250000e+05</td>\n",
       "      <td>0.000000</td>\n",
       "    </tr>\n",
       "    <tr>\n",
       "      <th>6</th>\n",
       "      <td>180000.0</td>\n",
       "      <td>1.800000e+05</td>\n",
       "      <td>0.000000</td>\n",
       "    </tr>\n",
       "    <tr>\n",
       "      <th>7</th>\n",
       "      <td>430000.0</td>\n",
       "      <td>4.416667e+05</td>\n",
       "      <td>11666.666667</td>\n",
       "    </tr>\n",
       "    <tr>\n",
       "      <th>8</th>\n",
       "      <td>159000.0</td>\n",
       "      <td>1.589800e+05</td>\n",
       "      <td>20.000000</td>\n",
       "    </tr>\n",
       "    <tr>\n",
       "      <th>9</th>\n",
       "      <td>139375.0</td>\n",
       "      <td>1.393750e+05</td>\n",
       "      <td>0.000000</td>\n",
       "    </tr>\n",
       "    <tr>\n",
       "      <th>10</th>\n",
       "      <td>245000.0</td>\n",
       "      <td>2.450000e+05</td>\n",
       "      <td>0.000000</td>\n",
       "    </tr>\n",
       "    <tr>\n",
       "      <th>11</th>\n",
       "      <td>80000.0</td>\n",
       "      <td>7.900000e+04</td>\n",
       "      <td>1000.000000</td>\n",
       "    </tr>\n",
       "    <tr>\n",
       "      <th>12</th>\n",
       "      <td>95000.0</td>\n",
       "      <td>9.500000e+04</td>\n",
       "      <td>0.000000</td>\n",
       "    </tr>\n",
       "    <tr>\n",
       "      <th>13</th>\n",
       "      <td>180000.0</td>\n",
       "      <td>1.800000e+05</td>\n",
       "      <td>0.000000</td>\n",
       "    </tr>\n",
       "    <tr>\n",
       "      <th>14</th>\n",
       "      <td>169000.0</td>\n",
       "      <td>1.690000e+05</td>\n",
       "      <td>0.000000</td>\n",
       "    </tr>\n",
       "    <tr>\n",
       "      <th>15</th>\n",
       "      <td>190000.0</td>\n",
       "      <td>1.899859e+05</td>\n",
       "      <td>14.084507</td>\n",
       "    </tr>\n",
       "    <tr>\n",
       "      <th>16</th>\n",
       "      <td>109000.0</td>\n",
       "      <td>1.090000e+05</td>\n",
       "      <td>0.000000</td>\n",
       "    </tr>\n",
       "    <tr>\n",
       "      <th>17</th>\n",
       "      <td>139000.0</td>\n",
       "      <td>1.390000e+05</td>\n",
       "      <td>0.000000</td>\n",
       "    </tr>\n",
       "    <tr>\n",
       "      <th>18</th>\n",
       "      <td>176400.0</td>\n",
       "      <td>1.749750e+05</td>\n",
       "      <td>1425.000000</td>\n",
       "    </tr>\n",
       "    <tr>\n",
       "      <th>19</th>\n",
       "      <td>115000.0</td>\n",
       "      <td>1.150000e+05</td>\n",
       "      <td>0.000000</td>\n",
       "    </tr>\n",
       "  </tbody>\n",
       "</table>\n",
       "</div>"
      ],
      "text/plain": [
       "    Valor Real    Valor Pred  Diferencia(+/-)\n",
       "0     230000.0  2.313333e+05      1333.333333\n",
       "1     170000.0  1.699485e+05        51.464286\n",
       "2      52000.0  5.300000e+04      1000.000000\n",
       "3     420000.0  4.200000e+05         0.000000\n",
       "4    1700000.0  1.700000e+06         0.000000\n",
       "5     125000.0  1.250000e+05         0.000000\n",
       "6     180000.0  1.800000e+05         0.000000\n",
       "7     430000.0  4.416667e+05     11666.666667\n",
       "8     159000.0  1.589800e+05        20.000000\n",
       "9     139375.0  1.393750e+05         0.000000\n",
       "10    245000.0  2.450000e+05         0.000000\n",
       "11     80000.0  7.900000e+04      1000.000000\n",
       "12     95000.0  9.500000e+04         0.000000\n",
       "13    180000.0  1.800000e+05         0.000000\n",
       "14    169000.0  1.690000e+05         0.000000\n",
       "15    190000.0  1.899859e+05        14.084507\n",
       "16    109000.0  1.090000e+05         0.000000\n",
       "17    139000.0  1.390000e+05         0.000000\n",
       "18    176400.0  1.749750e+05      1425.000000\n",
       "19    115000.0  1.150000e+05         0.000000"
      ]
     },
     "execution_count": 249,
     "metadata": {},
     "output_type": "execute_result"
    }
   ],
   "source": [
    "predicciones.head(20)"
   ]
  },
  {
   "cell_type": "code",
   "execution_count": 250,
   "metadata": {},
   "outputs": [
    {
     "data": {
      "image/png": "[encoded data removed]",
      "text/plain": [
       "<Figure size 720x720 with 1 Axes>"
      ]
     },
     "metadata": {
      "needs_background": "light"
     },
     "output_type": "display_data"
    }
   ],
   "source": [
    "import matplotlib.pyplot as plt\n",
    "%matplotlib inline \n",
    "plt.figure(figsize = (10,10))\n",
    "# plt.figure()\n",
    "\n",
    "plt.xlim((0, 100)) # Mostramos los primeros n registros\n",
    "plt.ylim((0, 650000)) # Limitamos la escala para mejorar visualización\n",
    "\n",
    "sns.scatterplot(x = range(0, len(preddf), 1), y = \"real\", data = preddf, label = \"Real\", alpha = 0.5)\n",
    "sns.scatterplot(x = range(0, len(preddf), 1), y = \"pred\", data = preddf, label = \"Predicho\", alpha = 0.9)\n",
    "\n",
    "plt.title(\"Valor Real vs Valor Predicho -Árboles de Decisión-\")\n",
    "plt.ylabel('Precio')\n",
    "plt.xlabel('# de registro')\n",
    "plt.show()"
   ]
  },
  {
   "cell_type": "markdown",
   "metadata": {},
   "source": [
    "##### Nótese que en el resultado de las predicciones ya en este punto no existen diferencias y/o para algunos solo diferencias mínimas en el precio, y es posible que obedezcan como excepción a propiedades sobreestimadas o subvaloradas como habitualmente se encuentran en el mercado inmobiliario."
   ]
  },
  {
   "cell_type": "markdown",
   "metadata": {},
   "source": [
    "##### El desempeño obtenido en comparación al inicial ha mejorado lo cuál obedece a la transformación de datos realizada sobre el dataset."
   ]
  },
  {
   "cell_type": "code",
   "execution_count": 251,
   "metadata": {},
   "outputs": [],
   "source": [
    "from sklearn.tree import DecisionTreeRegressor\n",
    "\n",
    "tree_regressor = DecisionTreeRegressor(max_depth=15, random_state=2)\n"
   ]
  },
  {
   "cell_type": "code",
   "execution_count": 252,
   "metadata": {},
   "outputs": [
    {
     "data": {
      "text/plain": [
       "DecisionTreeRegressor(max_depth=15, random_state=2)"
      ]
     },
     "execution_count": 252,
     "metadata": {},
     "output_type": "execute_result"
    }
   ],
   "source": [
    "tree_regressor.fit(X_train, y_train)"
   ]
  },
  {
   "cell_type": "code",
   "execution_count": 253,
   "metadata": {},
   "outputs": [
    {
     "name": "stdout",
     "output_type": "stream",
     "text": [
      "Modelo: Árbol de Decisión\n",
      "Raíz del error cuadrático medio en Train: 456.61222578557505\n",
      "Raíz del error cuadrático medio en Test: 16307.94085783753\n"
     ]
    },
    {
     "data": {
      "image/png": "[encoded data removed]",
      "text/plain": [
       "<Figure size 576x288 with 2 Axes>"
      ]
     },
     "metadata": {
      "needs_background": "light"
     },
     "output_type": "display_data"
    }
   ],
   "source": [
    "from sklearn.metrics import mean_squared_error\n",
    "import seaborn as sns\n",
    "modelos = ['Árbol de Decisión']\n",
    "\n",
    "for i, model in enumerate([tree_regressor]):\n",
    "    y_train_pred = model.predict(X_train)\n",
    "    y_test_pred = model.predict(X_test)\n",
    "    \n",
    "    \n",
    "    print(f'Modelo: {modelos[i]}')\n",
    "\n",
    "    rmse_train = np.sqrt(mean_squared_error(y_train, y_train_pred))\n",
    "    rmse_test = np.sqrt(mean_squared_error(y_test, y_test_pred))\n",
    "    print(f'Raíz del error cuadrático medio en Train: {rmse_train}')\n",
    "    print(f'Raíz del error cuadrático medio en Test: {rmse_test}')\n",
    "    \n",
    "    plt.figure(figsize = (8,4))\n",
    "\n",
    "    plt.subplot(1,2,1)\n",
    "    sns.distplot(y_train - y_train_pred, bins = 20, label = 'train')\n",
    "    sns.distplot(y_test - y_test_pred, bins = 20, label = 'test')\n",
    "    plt.xlabel('errores')\n",
    "    plt.legend()\n",
    "\n",
    "\n",
    "    ax = plt.subplot(1,2,2)\n",
    "    ax.scatter(y_test,y_test_pred, s =2)\n",
    "    \n",
    "    lims = [\n",
    "    np.min([ax.get_xlim(), ax.get_ylim()]),  # min of both axes\n",
    "    np.max([ax.get_xlim(), ax.get_ylim()]),  # max of both axes]\n",
    "    ]\n",
    "    \n",
    "    ax.plot(lims, lims, 'k-', alpha=0.75, zorder=0)\n",
    "    plt.xlabel('y (test)')\n",
    "    plt.ylabel('y_pred (test)')\n",
    "    \n",
    "    plt.tight_layout()\n",
    "    plt.show()"
   ]
  },
  {
   "cell_type": "markdown",
   "metadata": {},
   "source": [
    "### Importancia de cada Feature "
   ]
  },
  {
   "cell_type": "code",
   "execution_count": 254,
   "metadata": {},
   "outputs": [
    {
     "data": {
      "image/png": "[encoded data removed]",
      "text/plain": [
       "<Figure size 1008x1008 with 1 Axes>"
      ]
     },
     "metadata": {
      "needs_background": "light"
     },
     "output_type": "display_data"
    }
   ],
   "source": [
    "from sklearn.tree import DecisionTreeRegressor\n",
    "clf = DecisionTreeRegressor(max_depth=15, random_state = 2) # importante cambio para regresión\n",
    "clf.fit(X, y)\n",
    "y_pred = clf.predict(X)\n",
    "importances = clf.feature_importances_\n",
    "columns = X.columns\n",
    "plt.figure(figsize = (14,14))\n",
    "# plt.figure()\n",
    "sns.barplot(columns, importances)\n",
    "plt.title('Importancia de cada Feature')\n",
    "plt.show()"
   ]
  },
  {
   "cell_type": "markdown",
   "metadata": {},
   "source": [
    "### Regresión lineal con atributos polinómicos"
   ]
  },
  {
   "cell_type": "code",
   "execution_count": 255,
   "metadata": {},
   "outputs": [
    {
     "name": "stdout",
     "output_type": "stream",
     "text": [
      "Train test size:  (48386, 9)\n",
      "Test train size:  (20737, 9)\n"
     ]
    },
    {
     "data": {
      "text/html": [
       "<div>\n",
       "<style scoped>\n",
       "    .dataframe tbody tr th:only-of-type {\n",
       "        vertical-align: middle;\n",
       "    }\n",
       "\n",
       "    .dataframe tbody tr th {\n",
       "        vertical-align: top;\n",
       "    }\n",
       "\n",
       "    .dataframe thead th {\n",
       "        text-align: right;\n",
       "    }\n",
       "</style>\n",
       "<table border=\"1\" class=\"dataframe\">\n",
       "  <thead>\n",
       "    <tr style=\"text-align: right;\">\n",
       "      <th></th>\n",
       "      <th>rooms</th>\n",
       "      <th>bedrooms</th>\n",
       "      <th>bathrooms</th>\n",
       "      <th>surface_total</th>\n",
       "      <th>surface_covered</th>\n",
       "      <th>price_usd_x_m2</th>\n",
       "      <th>Property_type_0</th>\n",
       "      <th>Property_type_1</th>\n",
       "      <th>Property_type_2</th>\n",
       "    </tr>\n",
       "  </thead>\n",
       "  <tbody>\n",
       "    <tr>\n",
       "      <th>0</th>\n",
       "      <td>7.0</td>\n",
       "      <td>7.0</td>\n",
       "      <td>2.0</td>\n",
       "      <td>140.0</td>\n",
       "      <td>140.0</td>\n",
       "      <td>1092.857143</td>\n",
       "      <td>0.0</td>\n",
       "      <td>1.0</td>\n",
       "      <td>0.0</td>\n",
       "    </tr>\n",
       "    <tr>\n",
       "      <th>1</th>\n",
       "      <td>2.0</td>\n",
       "      <td>1.0</td>\n",
       "      <td>2.0</td>\n",
       "      <td>70.0</td>\n",
       "      <td>58.0</td>\n",
       "      <td>2271.428571</td>\n",
       "      <td>0.0</td>\n",
       "      <td>0.0</td>\n",
       "      <td>1.0</td>\n",
       "    </tr>\n",
       "    <tr>\n",
       "      <th>2</th>\n",
       "      <td>2.0</td>\n",
       "      <td>1.0</td>\n",
       "      <td>1.0</td>\n",
       "      <td>45.0</td>\n",
       "      <td>45.0</td>\n",
       "      <td>2777.777778</td>\n",
       "      <td>0.0</td>\n",
       "      <td>0.0</td>\n",
       "      <td>1.0</td>\n",
       "    </tr>\n",
       "    <tr>\n",
       "      <th>3</th>\n",
       "      <td>2.0</td>\n",
       "      <td>1.0</td>\n",
       "      <td>1.0</td>\n",
       "      <td>85.0</td>\n",
       "      <td>50.0</td>\n",
       "      <td>3470.588235</td>\n",
       "      <td>0.0</td>\n",
       "      <td>0.0</td>\n",
       "      <td>1.0</td>\n",
       "    </tr>\n",
       "    <tr>\n",
       "      <th>5</th>\n",
       "      <td>2.0</td>\n",
       "      <td>1.0</td>\n",
       "      <td>1.0</td>\n",
       "      <td>56.0</td>\n",
       "      <td>56.0</td>\n",
       "      <td>2678.571429</td>\n",
       "      <td>0.0</td>\n",
       "      <td>0.0</td>\n",
       "      <td>1.0</td>\n",
       "    </tr>\n",
       "  </tbody>\n",
       "</table>\n",
       "</div>"
      ],
      "text/plain": [
       "   rooms  bedrooms  bathrooms  surface_total  surface_covered  price_usd_x_m2  \\\n",
       "0    7.0       7.0        2.0          140.0            140.0     1092.857143   \n",
       "1    2.0       1.0        2.0           70.0             58.0     2271.428571   \n",
       "2    2.0       1.0        1.0           45.0             45.0     2777.777778   \n",
       "3    2.0       1.0        1.0           85.0             50.0     3470.588235   \n",
       "5    2.0       1.0        1.0           56.0             56.0     2678.571429   \n",
       "\n",
       "   Property_type_0  Property_type_1  Property_type_2  \n",
       "0              0.0              1.0              0.0  \n",
       "1              0.0              0.0              1.0  \n",
       "2              0.0              0.0              1.0  \n",
       "3              0.0              0.0              1.0  \n",
       "5              0.0              0.0              1.0  "
      ]
     },
     "execution_count": 255,
     "metadata": {},
     "output_type": "execute_result"
    }
   ],
   "source": [
    "# Realizar un Train/Test split de los datos.\n",
    "X_p = dataML.drop(['price'], axis=1) # quitar la columna target\n",
    "y_p = dataML['price'] # columna target\n",
    "\n",
    "from sklearn.model_selection import train_test_split\n",
    "\n",
    "#Separo los datos de \"train\" en entrenamiento y prueba para probar los algoritmos\n",
    "X_train_p, X_test_p, y_train_p, y_test_p = train_test_split(X_p, y_p, test_size=0.3, random_state = 2)\n",
    "\n",
    "print(\"Train test size: \", X_train_p.shape)\n",
    "print(\"Test train size: \", X_test_p.shape)\n",
    "X_p.head()\n"
   ]
  },
  {
   "cell_type": "code",
   "execution_count": 256,
   "metadata": {},
   "outputs": [],
   "source": [
    "from sklearn.preprocessing import PolynomialFeatures\n",
    "#Se define el grado del polinomio\n",
    "poli_reg = PolynomialFeatures(degree = 2)\n",
    "\n",
    "# Se transforma las características existentes en características de mayor grado\n",
    "X_train_poli = poli_reg.fit_transform(X_train_p)\n",
    "X_test_poli = poli_reg.fit_transform(X_test_p)"
   ]
  },
  {
   "cell_type": "code",
   "execution_count": 257,
   "metadata": {},
   "outputs": [],
   "source": [
    "#Defino el algoritmo a utilizar\n",
    "pr = LinearRegression()"
   ]
  },
  {
   "cell_type": "code",
   "execution_count": 258,
   "metadata": {},
   "outputs": [
    {
     "data": {
      "text/plain": [
       "LinearRegression()"
      ]
     },
     "execution_count": 258,
     "metadata": {},
     "output_type": "execute_result"
    }
   ],
   "source": [
    "#Entreno el modelo\n",
    "pr.fit(X_train_poli, y_train_p)"
   ]
  },
  {
   "cell_type": "code",
   "execution_count": 259,
   "metadata": {},
   "outputs": [],
   "source": [
    "\n",
    "#Realizo una predicción\n",
    "Y_pred_pr = pr.predict(X_test_poli)"
   ]
  },
  {
   "cell_type": "code",
   "execution_count": 260,
   "metadata": {},
   "outputs": [
    {
     "name": "stdout",
     "output_type": "stream",
     "text": [
      "Valor de la pendiente o coeficiente \"a\":\n",
      "[-6.48425867e-18 -2.83435247e-10  2.67386446e-10 -1.83518756e-10\n",
      "  4.73637796e-12 -1.68548508e-12  2.17936780e-13 -1.40933255e-11\n",
      "  2.74394613e-12  1.13493546e-11 -7.13517136e-13 -1.80662495e-12\n",
      "  5.71966563e-12  2.24662736e-13 -1.19739396e-13  1.39927674e-14\n",
      " -1.00745308e-10 -9.35028039e-11 -8.91896193e-11  9.23417267e-13\n",
      " -4.64966350e-12 -8.86101088e-14  7.94828613e-14  1.21079362e-14\n",
      "  9.49757339e-11  9.43617943e-11  7.80540442e-11 -2.58693763e-12\n",
      "  2.64633150e-13 -1.90055816e-13  4.46313993e-14 -5.66670879e-11\n",
      " -6.33595762e-11 -6.34903357e-11 -7.01587226e-16  3.50414142e-16\n",
      "  1.00000000e+00  1.50389406e-12  1.58454803e-12  1.64911682e-12\n",
      "  2.18575158e-16  1.51143204e-15 -4.98090664e-13 -6.08368363e-13\n",
      " -5.80467423e-13  8.40674271e-16  7.63620937e-14  7.36494199e-14\n",
      "  6.71546152e-14 -1.40932985e-11  0.00000000e+00  0.00000000e+00\n",
      "  2.74394635e-12  0.00000000e+00  1.13493521e-11]\n"
     ]
    }
   ],
   "source": [
    "print('Valor de la pendiente o coeficiente \"a\":')\n",
    "print(pr.coef_)"
   ]
  },
  {
   "cell_type": "code",
   "execution_count": 261,
   "metadata": {},
   "outputs": [
    {
     "name": "stdout",
     "output_type": "stream",
     "text": [
      "Valor de la intersección o coeficiente \"b\":\n",
      "-5.966285243630409e-09\n"
     ]
    }
   ],
   "source": [
    "print('Valor de la intersección o coeficiente \"b\":')\n",
    "print(pr.intercept_)"
   ]
  },
  {
   "cell_type": "code",
   "execution_count": 262,
   "metadata": {},
   "outputs": [
    {
     "name": "stdout",
     "output_type": "stream",
     "text": [
      "Precisión del modelo:\n",
      "1.0\n"
     ]
    }
   ],
   "source": [
    "print('Precisión del modelo:')\n",
    "print(pr.score(X_train_poli, y_train_p))"
   ]
  },
  {
   "cell_type": "code",
   "execution_count": 263,
   "metadata": {},
   "outputs": [
    {
     "name": "stdout",
     "output_type": "stream",
     "text": [
      "Modelo: Regresión lineal polinómica\n",
      "Raíz del error cuadrático medio en Train: 2.712457113678099e-09\n",
      "Raíz del error cuadrático medio en Test: 2.738194991092233e-09\n"
     ]
    },
    {
     "data": {
      "image/png": "[encoded data removed]",
      "text/plain": [
       "<Figure size 576x288 with 2 Axes>"
      ]
     },
     "metadata": {
      "needs_background": "light"
     },
     "output_type": "display_data"
    }
   ],
   "source": [
    "from sklearn.metrics import mean_squared_error\n",
    "import seaborn as sns\n",
    "modelos = ['Regresión lineal polinómica']\n",
    "\n",
    "for i, model in enumerate([pr]):\n",
    "    y_train_pred = model.predict(X_train_poli)\n",
    "    y_test_pred = model.predict(X_test_poli)\n",
    "    \n",
    "    \n",
    "    print(f'Modelo: {modelos[i]}')\n",
    "\n",
    "    rmse_train = np.sqrt(mean_squared_error(y_train_p, y_train_pred))\n",
    "    rmse_test = np.sqrt(mean_squared_error(y_test_p, y_test_pred))\n",
    "    print(f'Raíz del error cuadrático medio en Train: {rmse_train}')\n",
    "    print(f'Raíz del error cuadrático medio en Test: {rmse_test}')\n",
    "    \n",
    "    plt.figure(figsize = (8,4))\n",
    "\n",
    "    plt.subplot(1,2,1)\n",
    "    sns.distplot(y_train_p - y_train_pred, bins = 20, label = 'train')\n",
    "    sns.distplot(y_test_p - y_test_pred, bins = 20, label = 'test')\n",
    "    plt.xlabel('errores')\n",
    "    plt.legend()\n",
    "\n",
    "\n",
    "    ax = plt.subplot(1,2,2)\n",
    "    ax.scatter(y_test_p,y_test_pred, s =2)\n",
    "    \n",
    "    lims = [\n",
    "    np.min([ax.get_xlim(), ax.get_ylim()]),  # min of both axes\n",
    "    np.max([ax.get_xlim(), ax.get_ylim()]),  # max of both axes]\n",
    "    ]\n",
    "    \n",
    "    ax.plot(lims, lims, 'k-', alpha=0.75, zorder=0)\n",
    "    plt.xlabel('y (test)')\n",
    "    plt.ylabel('y_pred (test)')\n",
    "    \n",
    "    plt.tight_layout()\n",
    "    plt.show()"
   ]
  },
  {
   "cell_type": "code",
   "execution_count": 264,
   "metadata": {},
   "outputs": [],
   "source": [
    "regressor.fit(X_train_poli, y_train_p)\n",
    "y_pred = regressor.predict(X_test_poli)\n",
    "val_real = pd.Series(y_test_p.values)\n",
    "val_pred = pd.Series(y_pred)"
   ]
  },
  {
   "cell_type": "code",
   "execution_count": 265,
   "metadata": {},
   "outputs": [],
   "source": [
    "preddf = pd.concat([val_real.rename('real'), val_pred.rename('pred')] ,  axis=1)\n",
    "predicciones = pd.concat([val_real.rename('Valor Real'),val_pred.rename('Valor Pred') ,abs(val_real-val_pred).rename('Diferencia(+/-)')] ,  axis=1)"
   ]
  },
  {
   "cell_type": "code",
   "execution_count": 266,
   "metadata": {},
   "outputs": [
    {
     "data": {
      "text/html": [
       "<div>\n",
       "<style scoped>\n",
       "    .dataframe tbody tr th:only-of-type {\n",
       "        vertical-align: middle;\n",
       "    }\n",
       "\n",
       "    .dataframe tbody tr th {\n",
       "        vertical-align: top;\n",
       "    }\n",
       "\n",
       "    .dataframe thead th {\n",
       "        text-align: right;\n",
       "    }\n",
       "</style>\n",
       "<table border=\"1\" class=\"dataframe\">\n",
       "  <thead>\n",
       "    <tr style=\"text-align: right;\">\n",
       "      <th></th>\n",
       "      <th>Valor Real</th>\n",
       "      <th>Valor Pred</th>\n",
       "      <th>Diferencia(+/-)</th>\n",
       "    </tr>\n",
       "  </thead>\n",
       "  <tbody>\n",
       "    <tr>\n",
       "      <th>0</th>\n",
       "      <td>230000.0</td>\n",
       "      <td>230000.0</td>\n",
       "      <td>0.0</td>\n",
       "    </tr>\n",
       "    <tr>\n",
       "      <th>1</th>\n",
       "      <td>170000.0</td>\n",
       "      <td>170000.0</td>\n",
       "      <td>0.0</td>\n",
       "    </tr>\n",
       "    <tr>\n",
       "      <th>2</th>\n",
       "      <td>52000.0</td>\n",
       "      <td>52000.0</td>\n",
       "      <td>0.0</td>\n",
       "    </tr>\n",
       "    <tr>\n",
       "      <th>3</th>\n",
       "      <td>420000.0</td>\n",
       "      <td>420000.0</td>\n",
       "      <td>0.0</td>\n",
       "    </tr>\n",
       "    <tr>\n",
       "      <th>4</th>\n",
       "      <td>1700000.0</td>\n",
       "      <td>1700000.0</td>\n",
       "      <td>0.0</td>\n",
       "    </tr>\n",
       "    <tr>\n",
       "      <th>5</th>\n",
       "      <td>125000.0</td>\n",
       "      <td>125000.0</td>\n",
       "      <td>0.0</td>\n",
       "    </tr>\n",
       "    <tr>\n",
       "      <th>6</th>\n",
       "      <td>180000.0</td>\n",
       "      <td>180000.0</td>\n",
       "      <td>0.0</td>\n",
       "    </tr>\n",
       "    <tr>\n",
       "      <th>7</th>\n",
       "      <td>430000.0</td>\n",
       "      <td>430000.0</td>\n",
       "      <td>0.0</td>\n",
       "    </tr>\n",
       "    <tr>\n",
       "      <th>8</th>\n",
       "      <td>159000.0</td>\n",
       "      <td>159000.0</td>\n",
       "      <td>0.0</td>\n",
       "    </tr>\n",
       "    <tr>\n",
       "      <th>9</th>\n",
       "      <td>139375.0</td>\n",
       "      <td>139375.0</td>\n",
       "      <td>0.0</td>\n",
       "    </tr>\n",
       "    <tr>\n",
       "      <th>10</th>\n",
       "      <td>245000.0</td>\n",
       "      <td>245000.0</td>\n",
       "      <td>0.0</td>\n",
       "    </tr>\n",
       "    <tr>\n",
       "      <th>11</th>\n",
       "      <td>80000.0</td>\n",
       "      <td>80000.0</td>\n",
       "      <td>0.0</td>\n",
       "    </tr>\n",
       "    <tr>\n",
       "      <th>12</th>\n",
       "      <td>95000.0</td>\n",
       "      <td>95000.0</td>\n",
       "      <td>0.0</td>\n",
       "    </tr>\n",
       "    <tr>\n",
       "      <th>13</th>\n",
       "      <td>180000.0</td>\n",
       "      <td>180000.0</td>\n",
       "      <td>0.0</td>\n",
       "    </tr>\n",
       "    <tr>\n",
       "      <th>14</th>\n",
       "      <td>169000.0</td>\n",
       "      <td>169000.0</td>\n",
       "      <td>0.0</td>\n",
       "    </tr>\n",
       "    <tr>\n",
       "      <th>15</th>\n",
       "      <td>190000.0</td>\n",
       "      <td>190000.0</td>\n",
       "      <td>0.0</td>\n",
       "    </tr>\n",
       "    <tr>\n",
       "      <th>16</th>\n",
       "      <td>109000.0</td>\n",
       "      <td>109000.0</td>\n",
       "      <td>0.0</td>\n",
       "    </tr>\n",
       "    <tr>\n",
       "      <th>17</th>\n",
       "      <td>139000.0</td>\n",
       "      <td>139000.0</td>\n",
       "      <td>0.0</td>\n",
       "    </tr>\n",
       "    <tr>\n",
       "      <th>18</th>\n",
       "      <td>176400.0</td>\n",
       "      <td>176266.0</td>\n",
       "      <td>134.0</td>\n",
       "    </tr>\n",
       "    <tr>\n",
       "      <th>19</th>\n",
       "      <td>115000.0</td>\n",
       "      <td>115000.0</td>\n",
       "      <td>0.0</td>\n",
       "    </tr>\n",
       "    <tr>\n",
       "      <th>20</th>\n",
       "      <td>205000.0</td>\n",
       "      <td>205000.0</td>\n",
       "      <td>0.0</td>\n",
       "    </tr>\n",
       "    <tr>\n",
       "      <th>21</th>\n",
       "      <td>490000.0</td>\n",
       "      <td>490000.0</td>\n",
       "      <td>0.0</td>\n",
       "    </tr>\n",
       "    <tr>\n",
       "      <th>22</th>\n",
       "      <td>130700.0</td>\n",
       "      <td>130700.0</td>\n",
       "      <td>0.0</td>\n",
       "    </tr>\n",
       "    <tr>\n",
       "      <th>23</th>\n",
       "      <td>154000.0</td>\n",
       "      <td>154000.0</td>\n",
       "      <td>0.0</td>\n",
       "    </tr>\n",
       "    <tr>\n",
       "      <th>24</th>\n",
       "      <td>93000.0</td>\n",
       "      <td>93000.0</td>\n",
       "      <td>0.0</td>\n",
       "    </tr>\n",
       "    <tr>\n",
       "      <th>25</th>\n",
       "      <td>98000.0</td>\n",
       "      <td>98000.0</td>\n",
       "      <td>0.0</td>\n",
       "    </tr>\n",
       "    <tr>\n",
       "      <th>26</th>\n",
       "      <td>120000.0</td>\n",
       "      <td>120000.0</td>\n",
       "      <td>0.0</td>\n",
       "    </tr>\n",
       "    <tr>\n",
       "      <th>27</th>\n",
       "      <td>198000.0</td>\n",
       "      <td>198000.0</td>\n",
       "      <td>0.0</td>\n",
       "    </tr>\n",
       "    <tr>\n",
       "      <th>28</th>\n",
       "      <td>124000.0</td>\n",
       "      <td>124000.0</td>\n",
       "      <td>0.0</td>\n",
       "    </tr>\n",
       "    <tr>\n",
       "      <th>29</th>\n",
       "      <td>550000.0</td>\n",
       "      <td>550000.0</td>\n",
       "      <td>0.0</td>\n",
       "    </tr>\n",
       "  </tbody>\n",
       "</table>\n",
       "</div>"
      ],
      "text/plain": [
       "    Valor Real  Valor Pred  Diferencia(+/-)\n",
       "0     230000.0    230000.0              0.0\n",
       "1     170000.0    170000.0              0.0\n",
       "2      52000.0     52000.0              0.0\n",
       "3     420000.0    420000.0              0.0\n",
       "4    1700000.0   1700000.0              0.0\n",
       "5     125000.0    125000.0              0.0\n",
       "6     180000.0    180000.0              0.0\n",
       "7     430000.0    430000.0              0.0\n",
       "8     159000.0    159000.0              0.0\n",
       "9     139375.0    139375.0              0.0\n",
       "10    245000.0    245000.0              0.0\n",
       "11     80000.0     80000.0              0.0\n",
       "12     95000.0     95000.0              0.0\n",
       "13    180000.0    180000.0              0.0\n",
       "14    169000.0    169000.0              0.0\n",
       "15    190000.0    190000.0              0.0\n",
       "16    109000.0    109000.0              0.0\n",
       "17    139000.0    139000.0              0.0\n",
       "18    176400.0    176266.0            134.0\n",
       "19    115000.0    115000.0              0.0\n",
       "20    205000.0    205000.0              0.0\n",
       "21    490000.0    490000.0              0.0\n",
       "22    130700.0    130700.0              0.0\n",
       "23    154000.0    154000.0              0.0\n",
       "24     93000.0     93000.0              0.0\n",
       "25     98000.0     98000.0              0.0\n",
       "26    120000.0    120000.0              0.0\n",
       "27    198000.0    198000.0              0.0\n",
       "28    124000.0    124000.0              0.0\n",
       "29    550000.0    550000.0              0.0"
      ]
     },
     "execution_count": 266,
     "metadata": {},
     "output_type": "execute_result"
    }
   ],
   "source": [
    "predicciones.head(30)"
   ]
  },
  {
   "cell_type": "code",
   "execution_count": 267,
   "metadata": {},
   "outputs": [
    {
     "data": {
      "image/png": "[encoded data removed]",
      "text/plain": [
       "<Figure size 720x720 with 1 Axes>"
      ]
     },
     "metadata": {
      "needs_background": "light"
     },
     "output_type": "display_data"
    }
   ],
   "source": [
    "import matplotlib.pyplot as plt\n",
    "%matplotlib inline \n",
    "plt.figure(figsize = (10,10))\n",
    "\n",
    "plt.xlim((0, 100)) # Mostramos los primeros n registros\n",
    "plt.ylim((0, 650000)) # Limitamos la escala para mejorar visualización\n",
    "\n",
    "\n",
    "sns.scatterplot(x = range(0, len(preddf), 1), y = \"real\", data = preddf, label = \"Real\", alpha = 0.5)\n",
    "sns.scatterplot(x = range(0, len(preddf), 1), y = \"pred\", data = preddf, label = \"Predicho\", alpha = 0.9)\n",
    "\n",
    "plt.title(\"Valor Real vs Valor Predicho -Regresión lineal polinómica-\")\n",
    "plt.ylabel('Precio')\n",
    "plt.xlabel('# de registros')\n",
    "plt.show()"
   ]
  },
  {
   "cell_type": "markdown",
   "metadata": {},
   "source": [
    "### Regresión lineal con regularización"
   ]
  },
  {
   "cell_type": "code",
   "execution_count": 268,
   "metadata": {},
   "outputs": [
    {
     "name": "stdout",
     "output_type": "stream",
     "text": [
      "Train test size:  (48386, 9)\n",
      "Test train size:  (20737, 9)\n"
     ]
    },
    {
     "data": {
      "text/html": [
       "<div>\n",
       "<style scoped>\n",
       "    .dataframe tbody tr th:only-of-type {\n",
       "        vertical-align: middle;\n",
       "    }\n",
       "\n",
       "    .dataframe tbody tr th {\n",
       "        vertical-align: top;\n",
       "    }\n",
       "\n",
       "    .dataframe thead th {\n",
       "        text-align: right;\n",
       "    }\n",
       "</style>\n",
       "<table border=\"1\" class=\"dataframe\">\n",
       "  <thead>\n",
       "    <tr style=\"text-align: right;\">\n",
       "      <th></th>\n",
       "      <th>rooms</th>\n",
       "      <th>bedrooms</th>\n",
       "      <th>bathrooms</th>\n",
       "      <th>surface_total</th>\n",
       "      <th>surface_covered</th>\n",
       "      <th>price_usd_x_m2</th>\n",
       "      <th>Property_type_0</th>\n",
       "      <th>Property_type_1</th>\n",
       "      <th>Property_type_2</th>\n",
       "    </tr>\n",
       "  </thead>\n",
       "  <tbody>\n",
       "    <tr>\n",
       "      <th>0</th>\n",
       "      <td>7.0</td>\n",
       "      <td>7.0</td>\n",
       "      <td>2.0</td>\n",
       "      <td>140.0</td>\n",
       "      <td>140.0</td>\n",
       "      <td>1092.857143</td>\n",
       "      <td>0.0</td>\n",
       "      <td>1.0</td>\n",
       "      <td>0.0</td>\n",
       "    </tr>\n",
       "    <tr>\n",
       "      <th>1</th>\n",
       "      <td>2.0</td>\n",
       "      <td>1.0</td>\n",
       "      <td>2.0</td>\n",
       "      <td>70.0</td>\n",
       "      <td>58.0</td>\n",
       "      <td>2271.428571</td>\n",
       "      <td>0.0</td>\n",
       "      <td>0.0</td>\n",
       "      <td>1.0</td>\n",
       "    </tr>\n",
       "    <tr>\n",
       "      <th>2</th>\n",
       "      <td>2.0</td>\n",
       "      <td>1.0</td>\n",
       "      <td>1.0</td>\n",
       "      <td>45.0</td>\n",
       "      <td>45.0</td>\n",
       "      <td>2777.777778</td>\n",
       "      <td>0.0</td>\n",
       "      <td>0.0</td>\n",
       "      <td>1.0</td>\n",
       "    </tr>\n",
       "    <tr>\n",
       "      <th>3</th>\n",
       "      <td>2.0</td>\n",
       "      <td>1.0</td>\n",
       "      <td>1.0</td>\n",
       "      <td>85.0</td>\n",
       "      <td>50.0</td>\n",
       "      <td>3470.588235</td>\n",
       "      <td>0.0</td>\n",
       "      <td>0.0</td>\n",
       "      <td>1.0</td>\n",
       "    </tr>\n",
       "    <tr>\n",
       "      <th>5</th>\n",
       "      <td>2.0</td>\n",
       "      <td>1.0</td>\n",
       "      <td>1.0</td>\n",
       "      <td>56.0</td>\n",
       "      <td>56.0</td>\n",
       "      <td>2678.571429</td>\n",
       "      <td>0.0</td>\n",
       "      <td>0.0</td>\n",
       "      <td>1.0</td>\n",
       "    </tr>\n",
       "  </tbody>\n",
       "</table>\n",
       "</div>"
      ],
      "text/plain": [
       "   rooms  bedrooms  bathrooms  surface_total  surface_covered  price_usd_x_m2  \\\n",
       "0    7.0       7.0        2.0          140.0            140.0     1092.857143   \n",
       "1    2.0       1.0        2.0           70.0             58.0     2271.428571   \n",
       "2    2.0       1.0        1.0           45.0             45.0     2777.777778   \n",
       "3    2.0       1.0        1.0           85.0             50.0     3470.588235   \n",
       "5    2.0       1.0        1.0           56.0             56.0     2678.571429   \n",
       "\n",
       "   Property_type_0  Property_type_1  Property_type_2  \n",
       "0              0.0              1.0              0.0  \n",
       "1              0.0              0.0              1.0  \n",
       "2              0.0              0.0              1.0  \n",
       "3              0.0              0.0              1.0  \n",
       "5              0.0              0.0              1.0  "
      ]
     },
     "execution_count": 268,
     "metadata": {},
     "output_type": "execute_result"
    }
   ],
   "source": [
    "# Realizar un Train/Test split de los datos.\n",
    "X = dataML.drop(['price'], axis=1) # quitar la columna target\n",
    "y = dataML['price'] # columna target\n",
    "\n",
    "X_train, X_test, y_train, y_test = train_test_split (X,y, test_size=0.3, random_state = 2) #separar conjuntos \n",
    "\n",
    "print(\"Train test size: \", X_train.shape)\n",
    "print(\"Test train size: \", X_test.shape)\n",
    "X.head()"
   ]
  },
  {
   "cell_type": "code",
   "execution_count": 269,
   "metadata": {},
   "outputs": [
    {
     "name": "stdout",
     "output_type": "stream",
     "text": [
      "alpha :  0.5782073587689122\n"
     ]
    }
   ],
   "source": [
    "# Seleccionar el mejor alpha con LassoCV\n",
    "from sklearn.linear_model import LassoCV\n",
    "from sklearn.linear_model import Lasso\n",
    "lassoregcv = LassoCV(n_alphas=100, normalize=True, random_state=2)\n",
    "lassoregcv.fit(X_train, y_train)\n",
    "print('alpha : ',lassoregcv.alpha_)\n"
   ]
  },
  {
   "cell_type": "code",
   "execution_count": 270,
   "metadata": {},
   "outputs": [
    {
     "name": "stdout",
     "output_type": "stream",
     "text": [
      "[ 11753.94457677  -8543.11696677  13906.3799359    1380.37300114\n",
      "    725.47074867     93.41186317 -54805.80350176  12156.60857912\n",
      "     -0.        ]\n"
     ]
    }
   ],
   "source": [
    "lassoreg = Lasso(alpha=lassoregcv.alpha_, normalize=True)\n",
    "lassoreg.fit(X_train, y_train)\n",
    "print(lassoreg.coef_)"
   ]
  },
  {
   "cell_type": "code",
   "execution_count": 271,
   "metadata": {},
   "outputs": [
    {
     "name": "stdout",
     "output_type": "stream",
     "text": [
      "root_mean_squared_error :  51321.61996452555\n"
     ]
    }
   ],
   "source": [
    "# predict method uses the best alpha value\n",
    "y_pred = lassoregcv.predict(X_test)\n",
    "# calculamos RMSE\n",
    "\n",
    "from sklearn import metrics\n",
    "\n",
    "# print(\"R-Square Value\", r2_score(y_test,y_pred))\n",
    "print (\"root_mean_squared_error : \", np.sqrt(metrics.mean_squared_error(y_test, y_pred)))"
   ]
  },
  {
   "cell_type": "code",
   "execution_count": 272,
   "metadata": {},
   "outputs": [
    {
     "name": "stdout",
     "output_type": "stream",
     "text": [
      "Modelo: Regresión lineal con regularización\n",
      "Raíz del error cuadrático medio en Train: 49815.29684790248\n",
      "Raíz del error cuadrático medio en Test: 51321.61996452555\n"
     ]
    },
    {
     "data": {
      "image/png": "[encoded data removed]",
      "text/plain": [
       "<Figure size 576x288 with 2 Axes>"
      ]
     },
     "metadata": {
      "needs_background": "light"
     },
     "output_type": "display_data"
    }
   ],
   "source": [
    "from sklearn.metrics import mean_squared_error\n",
    "import seaborn as sns\n",
    "modelos = ['Regresión lineal con regularización']\n",
    "\n",
    "for i, model in enumerate([lassoreg]):\n",
    "    y_train_pred = model.predict(X_train)\n",
    "    y_test_pred = model.predict(X_test)\n",
    "    \n",
    "    \n",
    "    print(f'Modelo: {modelos[i]}')\n",
    "\n",
    "    rmse_train = np.sqrt(mean_squared_error(y_train, y_train_pred))\n",
    "    rmse_test = np.sqrt(mean_squared_error(y_test, y_test_pred))\n",
    "    print(f'Raíz del error cuadrático medio en Train: {rmse_train}')\n",
    "    print(f'Raíz del error cuadrático medio en Test: {rmse_test}')\n",
    "    \n",
    "    plt.figure(figsize = (8,4))\n",
    "\n",
    "    plt.subplot(1,2,1)\n",
    "    sns.distplot(y_train - y_train_pred, bins = 20, label = 'train')\n",
    "    sns.distplot(y_test - y_test_pred, bins = 20, label = 'test')\n",
    "    plt.xlabel('errores')\n",
    "    plt.legend()\n",
    "\n",
    "\n",
    "    ax = plt.subplot(1,2,2)\n",
    "    ax.scatter(y_test,y_test_pred, s =2)\n",
    "    \n",
    "    lims = [\n",
    "    np.min([ax.get_xlim(), ax.get_ylim()]),  # min of both axes\n",
    "    np.max([ax.get_xlim(), ax.get_ylim()]),  # max of both axes]\n",
    "    ]\n",
    "    \n",
    "    ax.plot(lims, lims, 'k-', alpha=lassoregcv.alpha_, zorder=0)\n",
    "    plt.xlabel('y (test)')\n",
    "    plt.ylabel('y_pred (test)')\n",
    "    \n",
    "    plt.tight_layout()\n",
    "    plt.show()"
   ]
  },
  {
   "cell_type": "code",
   "execution_count": 273,
   "metadata": {},
   "outputs": [],
   "source": [
    "regressor.fit(X_train, y_train)\n",
    "y_pred2 = regressor.predict(X_test)\n",
    "val_real2 = pd.Series(y_test.values)\n",
    "val_pred2 = pd.Series(y_pred2)"
   ]
  },
  {
   "cell_type": "code",
   "execution_count": 274,
   "metadata": {},
   "outputs": [],
   "source": [
    "preddf = pd.concat([val_real2.rename('real'), val_pred2.rename('pred')] ,  axis=1)\n",
    "predicciones2 = pd.concat([val_real2.rename('Valor Real'),val_pred2.rename('Valor Pred') ,abs(val_real2-val_pred2).rename('Diferencia(+/-)')] ,  axis=1)"
   ]
  },
  {
   "cell_type": "code",
   "execution_count": 275,
   "metadata": {},
   "outputs": [
    {
     "data": {
      "text/html": [
       "<div>\n",
       "<style scoped>\n",
       "    .dataframe tbody tr th:only-of-type {\n",
       "        vertical-align: middle;\n",
       "    }\n",
       "\n",
       "    .dataframe tbody tr th {\n",
       "        vertical-align: top;\n",
       "    }\n",
       "\n",
       "    .dataframe thead th {\n",
       "        text-align: right;\n",
       "    }\n",
       "</style>\n",
       "<table border=\"1\" class=\"dataframe\">\n",
       "  <thead>\n",
       "    <tr style=\"text-align: right;\">\n",
       "      <th></th>\n",
       "      <th>Valor Real</th>\n",
       "      <th>Valor Pred</th>\n",
       "      <th>Diferencia(+/-)</th>\n",
       "    </tr>\n",
       "  </thead>\n",
       "  <tbody>\n",
       "    <tr>\n",
       "      <th>0</th>\n",
       "      <td>230000.0</td>\n",
       "      <td>2.313333e+05</td>\n",
       "      <td>1333.333333</td>\n",
       "    </tr>\n",
       "    <tr>\n",
       "      <th>1</th>\n",
       "      <td>170000.0</td>\n",
       "      <td>1.699485e+05</td>\n",
       "      <td>51.464286</td>\n",
       "    </tr>\n",
       "    <tr>\n",
       "      <th>2</th>\n",
       "      <td>52000.0</td>\n",
       "      <td>5.230000e+04</td>\n",
       "      <td>300.000000</td>\n",
       "    </tr>\n",
       "    <tr>\n",
       "      <th>3</th>\n",
       "      <td>420000.0</td>\n",
       "      <td>4.200000e+05</td>\n",
       "      <td>0.000000</td>\n",
       "    </tr>\n",
       "    <tr>\n",
       "      <th>4</th>\n",
       "      <td>1700000.0</td>\n",
       "      <td>1.700000e+06</td>\n",
       "      <td>0.000000</td>\n",
       "    </tr>\n",
       "    <tr>\n",
       "      <th>5</th>\n",
       "      <td>125000.0</td>\n",
       "      <td>1.250000e+05</td>\n",
       "      <td>0.000000</td>\n",
       "    </tr>\n",
       "    <tr>\n",
       "      <th>6</th>\n",
       "      <td>180000.0</td>\n",
       "      <td>1.800000e+05</td>\n",
       "      <td>0.000000</td>\n",
       "    </tr>\n",
       "    <tr>\n",
       "      <th>7</th>\n",
       "      <td>430000.0</td>\n",
       "      <td>4.416667e+05</td>\n",
       "      <td>11666.666667</td>\n",
       "    </tr>\n",
       "    <tr>\n",
       "      <th>8</th>\n",
       "      <td>159000.0</td>\n",
       "      <td>1.589800e+05</td>\n",
       "      <td>20.000000</td>\n",
       "    </tr>\n",
       "    <tr>\n",
       "      <th>9</th>\n",
       "      <td>139375.0</td>\n",
       "      <td>1.393750e+05</td>\n",
       "      <td>0.000000</td>\n",
       "    </tr>\n",
       "    <tr>\n",
       "      <th>10</th>\n",
       "      <td>245000.0</td>\n",
       "      <td>2.450000e+05</td>\n",
       "      <td>0.000000</td>\n",
       "    </tr>\n",
       "    <tr>\n",
       "      <th>11</th>\n",
       "      <td>80000.0</td>\n",
       "      <td>7.900000e+04</td>\n",
       "      <td>1000.000000</td>\n",
       "    </tr>\n",
       "    <tr>\n",
       "      <th>12</th>\n",
       "      <td>95000.0</td>\n",
       "      <td>9.500000e+04</td>\n",
       "      <td>0.000000</td>\n",
       "    </tr>\n",
       "    <tr>\n",
       "      <th>13</th>\n",
       "      <td>180000.0</td>\n",
       "      <td>1.800000e+05</td>\n",
       "      <td>0.000000</td>\n",
       "    </tr>\n",
       "    <tr>\n",
       "      <th>14</th>\n",
       "      <td>169000.0</td>\n",
       "      <td>1.690000e+05</td>\n",
       "      <td>0.000000</td>\n",
       "    </tr>\n",
       "    <tr>\n",
       "      <th>15</th>\n",
       "      <td>190000.0</td>\n",
       "      <td>1.899859e+05</td>\n",
       "      <td>14.084507</td>\n",
       "    </tr>\n",
       "    <tr>\n",
       "      <th>16</th>\n",
       "      <td>109000.0</td>\n",
       "      <td>1.090000e+05</td>\n",
       "      <td>0.000000</td>\n",
       "    </tr>\n",
       "    <tr>\n",
       "      <th>17</th>\n",
       "      <td>139000.0</td>\n",
       "      <td>1.390000e+05</td>\n",
       "      <td>0.000000</td>\n",
       "    </tr>\n",
       "    <tr>\n",
       "      <th>18</th>\n",
       "      <td>176400.0</td>\n",
       "      <td>1.749750e+05</td>\n",
       "      <td>1425.000000</td>\n",
       "    </tr>\n",
       "    <tr>\n",
       "      <th>19</th>\n",
       "      <td>115000.0</td>\n",
       "      <td>1.150000e+05</td>\n",
       "      <td>0.000000</td>\n",
       "    </tr>\n",
       "  </tbody>\n",
       "</table>\n",
       "</div>"
      ],
      "text/plain": [
       "    Valor Real    Valor Pred  Diferencia(+/-)\n",
       "0     230000.0  2.313333e+05      1333.333333\n",
       "1     170000.0  1.699485e+05        51.464286\n",
       "2      52000.0  5.230000e+04       300.000000\n",
       "3     420000.0  4.200000e+05         0.000000\n",
       "4    1700000.0  1.700000e+06         0.000000\n",
       "5     125000.0  1.250000e+05         0.000000\n",
       "6     180000.0  1.800000e+05         0.000000\n",
       "7     430000.0  4.416667e+05     11666.666667\n",
       "8     159000.0  1.589800e+05        20.000000\n",
       "9     139375.0  1.393750e+05         0.000000\n",
       "10    245000.0  2.450000e+05         0.000000\n",
       "11     80000.0  7.900000e+04      1000.000000\n",
       "12     95000.0  9.500000e+04         0.000000\n",
       "13    180000.0  1.800000e+05         0.000000\n",
       "14    169000.0  1.690000e+05         0.000000\n",
       "15    190000.0  1.899859e+05        14.084507\n",
       "16    109000.0  1.090000e+05         0.000000\n",
       "17    139000.0  1.390000e+05         0.000000\n",
       "18    176400.0  1.749750e+05      1425.000000\n",
       "19    115000.0  1.150000e+05         0.000000"
      ]
     },
     "execution_count": 275,
     "metadata": {},
     "output_type": "execute_result"
    }
   ],
   "source": [
    "predicciones2.head(20)"
   ]
  },
  {
   "cell_type": "code",
   "execution_count": 276,
   "metadata": {},
   "outputs": [
    {
     "data": {
      "image/png": "[encoded data removed]",
      "text/plain": [
       "<Figure size 720x720 with 1 Axes>"
      ]
     },
     "metadata": {
      "needs_background": "light"
     },
     "output_type": "display_data"
    }
   ],
   "source": [
    "import matplotlib.pyplot as plt\n",
    "%matplotlib inline \n",
    "plt.figure(figsize = (10,10))\n",
    "\n",
    "plt.xlim((0, 100)) # Mostramos los primeros n registros\n",
    "plt.ylim((0, 650000)) # Limitamos la escala para mejorar visualización\n",
    "\n",
    "\n",
    "sns.scatterplot(x = range(0, len(preddf), 1), y = \"real\", data = preddf, label = \"Real\", alpha = lassoregcv.alpha_)\n",
    "sns.scatterplot(x = range(0, len(preddf), 1), y = \"pred\", data = preddf, label = \"Predicho\", alpha = lassoregcv.alpha_)\n",
    "\n",
    "plt.title(\"Valor Real vs Valor Predicho -Regresión lineal con regularización-\")\n",
    "plt.ylabel('Precio')\n",
    "plt.xlabel('# de registros')\n",
    "plt.show()"
   ]
  },
  {
   "cell_type": "markdown",
   "metadata": {},
   "source": [
    "## PARTE C - Interpretación de modelos"
   ]
  },
  {
   "cell_type": "markdown",
   "metadata": {},
   "source": [
    "* ¿Qué variables fueron relevantes para el modelo para hacer una predicción? ¿Cuáles no?"
   ]
  },
  {
   "cell_type": "markdown",
   "metadata": {},
   "source": [
    "###### Las variables relevantes para realizar las predicciones en el modelo fueron `surface_total`, `surface_covered`, y una de optimización agregada al dataset `price_usd_x_m2`.\n",
    "\n",
    "###### Es probable que algunas variables sean minimizadas a simple vista en establecer la predicción en uno u otro modelo pero son de gran importancia en la clasificación, por ejemplo el tipo de propiedad. por lo tanto podríamos concluir que el dataset final optimizado como \"un todo\" es lo que permite integralmente realizar las prediciones con un alto grado de certeza.\n",
    "\n",
    "###### Para los modelos entrenados (`árboles de decisión optimizado, regresión lineal con atributos polinómicos y regresión lineal con regularización`), teniendo en cuenta las instancias y columnas filtradas para la predicción del precio en regresión; seleccionaría el modelo de regresión lineal con atributos polinómicos ya que tanto los resultados de los valores de RMSE son menores y la diferencia en los valores del precio predicho con el precio real en las instancias son en su mayoría precisos en comparación con los del árbol de decisión tal cuál como lo muestran las tablas y gráficos comparativos.\n",
    "\n",
    "##### Se evidencia la importancia de realizar las optimizaciones y depuraciones sobre el dataset en momentos específicos para garantizar la integridad de los datos, por ejemplo la eliminación registros duplicados debe realizarse cuando no se hayan filtrado features para asegurarse que realmente se vean afectados los duplicados y lograr registros únicos."
   ]
  },
  {
   "cell_type": "markdown",
   "metadata": {},
   "source": [
    "* ¿Dónde es mayor el error? ¿dónde acierta?"
   ]
  },
  {
   "cell_type": "markdown",
   "metadata": {},
   "source": [
    "###### Teniendo en cuenta que la \"varianza alta\" es proporcional al overfitting y la \"bias alta\" es proporcional al underfitting, se prefieren los modelos con baja varianza y baja bias pero esto constituye un reto, podemos escoger modelos simples en su bias o su varianza; los modelos de regresión lineal y regresión logística por lo general tienen bias baja pero alta varianza.\n",
    "\n",
    "##### Bias alta o varianza alta no siempre es malo pero pueden conducir a resultados pobres.\n",
    "\n",
    "##### Bias y varianza tienen un papel importante en la decisión de cuál modelo usar.\n",
    "\n",
    "##### Para los cálculos realizados y las operaciones llevadas a cabo continuación seleccionaríamos el modelo Decisión Tree Regressor por tener Bias y varianza menor.\n",
    "\n",
    "##### Y entre los modelos líneales  de regresión seleccionaríamos el de atributos polinómicos que tiene mejores valores para loss=\"MSE\" que el de regularización, lo cuál ratifica también el modelo de benchmarking llevado a cabo previamente.\n",
    "\n",
    "###### Ver a continuación cálculo de los distintos tipos de errores:"
   ]
  },
  {
   "cell_type": "code",
   "execution_count": 277,
   "metadata": {},
   "outputs": [],
   "source": [
    "import pandas as pd\n",
    "import numpy as np \n",
    "import matplotlib.pyplot as plt \n",
    "import seaborn as sns \n",
    "from sklearn.model_selection import train_test_split\n",
    "from sklearn.datasets import make_classification\n",
    "from sklearn.tree import DecisionTreeClassifier\n",
    "import random; random.seed(1982)\n",
    "\n",
    "# graficos incrustados\n",
    "%matplotlib inline\n",
    "\n",
    "# parametros esteticos de seaborn\n",
    "sns.set_palette(\"deep\", desat=.6)\n",
    "sns.set_context(rc={\"figure.figsize\": (8, 4)})"
   ]
  },
  {
   "cell_type": "code",
   "execution_count": 278,
   "metadata": {},
   "outputs": [],
   "source": [
    "# Realizar un Train/Test split de los datos.\n",
    "X = dataML.drop(['price'], axis=1) # quitar la columna target\n",
    "y = dataML['price'] # columna target\n",
    "\n",
    "x_train, x_eval, y_train, y_eval = train_test_split(X, y, test_size=0.3, train_size=0.7, random_state=2)"
   ]
  },
  {
   "cell_type": "code",
   "execution_count": 279,
   "metadata": {},
   "outputs": [],
   "source": [
    "arbol = DecisionTreeClassifier(criterion='entropy')"
   ]
  },
  {
   "cell_type": "code",
   "execution_count": 280,
   "metadata": {},
   "outputs": [
    {
     "data": {
      "text/plain": [
       "DecisionTreeClassifier(criterion='entropy')"
      ]
     },
     "execution_count": 280,
     "metadata": {},
     "output_type": "execute_result"
    }
   ],
   "source": [
    "arbol.fit(x_train, y_train)"
   ]
  },
  {
   "cell_type": "code",
   "execution_count": 281,
   "metadata": {},
   "outputs": [
    {
     "name": "stdout",
     "output_type": "stream",
     "text": [
      "Precisión entrenamiento:  1.00\n"
     ]
    }
   ],
   "source": [
    "print(\"Precisión entrenamiento: {0: .2f}\".format(arbol.score(x_train, y_train)))"
   ]
  },
  {
   "cell_type": "code",
   "execution_count": 282,
   "metadata": {},
   "outputs": [
    {
     "name": "stdout",
     "output_type": "stream",
     "text": [
      "Precisión evaluación:  0.78\n"
     ]
    }
   ],
   "source": [
    "print(\"Precisión evaluación: {0: .2f}\".format(arbol.score(x_eval, y_eval)))"
   ]
  },
  {
   "cell_type": "code",
   "execution_count": 283,
   "metadata": {},
   "outputs": [
    {
     "data": {
      "text/plain": [
       "20"
      ]
     },
     "execution_count": 283,
     "metadata": {},
     "output_type": "execute_result"
    }
   ],
   "source": [
    "arbol.tree_.max_depth"
   ]
  },
  {
   "cell_type": "code",
   "execution_count": 284,
   "metadata": {},
   "outputs": [
    {
     "data": {
      "image/png": "[encoded data removed]",
      "text/plain": [
       "<Figure size 864x576 with 1 Axes>"
      ]
     },
     "metadata": {
      "needs_background": "light"
     },
     "output_type": "display_data"
    }
   ],
   "source": [
    "train_prec =  []\n",
    "eval_prec = []\n",
    "max_deep_list = list(range(3, 21))\n",
    "\n",
    "for deep in max_deep_list:\n",
    "    arbol3 = DecisionTreeClassifier(criterion='entropy', max_depth=deep)\n",
    "    arbol3.fit(x_train, y_train)\n",
    "    train_prec.append(arbol3.score(x_train, y_train))\n",
    "    eval_prec.append(arbol3.score(x_eval, y_eval))\n",
    "    \n",
    "plt.figure(figsize=(12,8))\n",
    "plt.plot(max_deep_list, train_prec, color='r', label='Entrenamiento')\n",
    "plt.plot(max_deep_list, eval_prec, color='b', label='Evaluacion')\n",
    "plt.title('Grafico de ajuste arbol de decision')\n",
    "plt.legend()\n",
    "plt.ylabel('Precisión')\n",
    "plt.xlabel('Cant. de nodos')\n",
    "plt.show()"
   ]
  },
  {
   "cell_type": "code",
   "execution_count": 285,
   "metadata": {},
   "outputs": [
    {
     "name": "stderr",
     "output_type": "stream",
     "text": [
      "C:\\Anaconda\\lib\\site-packages\\sklearn\\model_selection\\_split.py:670: UserWarning: The least populated class in y has only 1 members, which is less than n_splits=5.\n",
      "  warnings.warn((\"The least populated class in y has only %d\"\n"
     ]
    }
   ],
   "source": [
    "from sklearn.model_selection import validation_curve\n",
    "\n",
    "train_prec, eval_prec = validation_curve(estimator=arbol, X=x_train, y=y_train, param_name='max_depth', param_range=max_deep_list, cv=5)\n",
    "#validacion cruzada: arbol de decision, define x, define y, parametro elegido, rango del paramentro, cantidad de folders\n",
    "train_mean = np.mean(train_prec, axis=1) #media train\n",
    "train_std = np.std(train_prec, axis=1) #desviacion estandar\n",
    "test_mean = np.mean(eval_prec, axis=1) #media test\n",
    "test_std = np.std(eval_prec, axis=1) #desviacion estandar"
   ]
  },
  {
   "cell_type": "code",
   "execution_count": 286,
   "metadata": {},
   "outputs": [
    {
     "data": {
      "image/png": "[encoded data removed]",
      "text/plain": [
       "<Figure size 864x576 with 1 Axes>"
      ]
     },
     "metadata": {
      "needs_background": "light"
     },
     "output_type": "display_data"
    }
   ],
   "source": [
    "# graficando las curvas\n",
    "plt.figure(figsize=(12,8))\n",
    "plt.plot(max_deep_list, train_mean, color='r', marker='o', markersize=5, label='Entrenamiento')\n",
    "plt.fill_between(max_deep_list, train_mean + train_std, train_mean - train_std, alpha=0.15, color='r')\n",
    "plt.plot(max_deep_list, test_mean, color='b', linestyle='--', marker='s', markersize=5, label='Evaluacion')\n",
    "plt.fill_between(max_deep_list, test_mean + test_std, test_mean - test_std, alpha=0.15, color='b')\n",
    "plt.grid()\n",
    "plt.legend(loc='center right')\n",
    "plt.xlabel('Cant. de nodos')\n",
    "plt.ylabel('Precisión')\n",
    "plt.show()"
   ]
  },
  {
   "cell_type": "code",
   "execution_count": 287,
   "metadata": {},
   "outputs": [],
   "source": [
    "# Definimos un nuevo árbol con la profundidad calculada en los ajustes\n",
    "\n",
    "# Realizar un Train/Test split de los datos.\n",
    "X = dataML.drop(['price'], axis=1) # quitar la columna target\n",
    "y = dataML['price'] # columna target\n",
    "\n",
    "x_train, x_eval, y_train, y_eval = train_test_split(X, y, test_size=0.3, train_size=0.7, random_state=2)\n",
    "\n",
    "arbol2 = DecisionTreeClassifier(criterion='entropy', max_depth=15)"
   ]
  },
  {
   "cell_type": "code",
   "execution_count": 288,
   "metadata": {},
   "outputs": [
    {
     "data": {
      "text/plain": [
       "DecisionTreeClassifier(criterion='entropy', max_depth=15)"
      ]
     },
     "execution_count": 288,
     "metadata": {},
     "output_type": "execute_result"
    }
   ],
   "source": [
    "arbol2.fit(x_train, y_train)"
   ]
  },
  {
   "cell_type": "code",
   "execution_count": 289,
   "metadata": {},
   "outputs": [
    {
     "name": "stdout",
     "output_type": "stream",
     "text": [
      "Precisión entrenamiento:  0.96\n"
     ]
    }
   ],
   "source": [
    "print(\"Precisión entrenamiento: {0: .2f}\".format(arbol2.score(x_train, y_train)))"
   ]
  },
  {
   "cell_type": "code",
   "execution_count": 290,
   "metadata": {},
   "outputs": [
    {
     "name": "stderr",
     "output_type": "stream",
     "text": [
      "C:\\Anaconda\\lib\\site-packages\\sklearn\\model_selection\\_split.py:670: UserWarning: The least populated class in y has only 1 members, which is less than n_splits=10.\n",
      "  warnings.warn((\"The least populated class in y has only %d\"\n"
     ]
    }
   ],
   "source": [
    "from sklearn.model_selection import learning_curve\n",
    "\n",
    "train_sizes, train_scores, test_scores = learning_curve(estimator=arbol2, X=x_train, y=y_train, train_sizes=np.linspace(0.1, 1, 10), cv=10, n_jobs=-1)\n",
    "\n",
    "train_mean = np.mean(train_scores, axis=1)\n",
    "train_std = np.std(train_scores, axis=1)\n",
    "test_mean = np.mean(test_scores, axis=1)\n",
    "test_std = np.std(test_scores, axis=1)"
   ]
  },
  {
   "cell_type": "code",
   "execution_count": 291,
   "metadata": {},
   "outputs": [
    {
     "data": {
      "image/png": "[encoded data removed]",
      "text/plain": [
       "<Figure size 864x576 with 1 Axes>"
      ]
     },
     "metadata": {
      "needs_background": "light"
     },
     "output_type": "display_data"
    }
   ],
   "source": [
    "# graficando las curvas\n",
    "plt.figure(figsize=(12,8))\n",
    "plt.plot(train_sizes, train_mean, color='r', marker='o', markersize=5, label='Entrenamiento')\n",
    "plt.fill_between(train_sizes, train_mean + train_std, train_mean - train_std, alpha=0.15, color='r')\n",
    "plt.plot(train_sizes, test_mean, color='b', linestyle='--', marker='s', markersize=5, label='Evaluacion')\n",
    "plt.fill_between(train_sizes, test_mean + test_std, test_mean - test_std, alpha=0.15, color='b')\n",
    "plt.grid()\n",
    "plt.title('Curva de aprendizaje')\n",
    "plt.legend(loc='upper right')\n",
    "plt.xlabel('Cant. de ejemplos de entrenamiento')\n",
    "plt.ylabel('Precisión')\n",
    "plt.show()"
   ]
  },
  {
   "cell_type": "code",
   "execution_count": 292,
   "metadata": {},
   "outputs": [
    {
     "name": "stdout",
     "output_type": "stream",
     "text": [
      "Requirement already satisfied: mlxtend in c:\\anaconda\\lib\\site-packages (0.17.2)\n",
      "Requirement already satisfied: scipy>=1.2.1 in c:\\anaconda\\lib\\site-packages (from mlxtend) (1.5.2)\n",
      "Requirement already satisfied: setuptools in c:\\anaconda\\lib\\site-packages (from mlxtend) (50.3.1.post20201107)\n",
      "Requirement already satisfied: matplotlib>=3.0.0 in c:\\anaconda\\lib\\site-packages (from mlxtend) (3.3.2)\n",
      "Requirement already satisfied: joblib>=0.13.2 in c:\\anaconda\\lib\\site-packages (from mlxtend) (0.17.0)\n",
      "Requirement already satisfied: pandas>=0.24.2 in c:\\anaconda\\lib\\site-packages (from mlxtend) (1.1.3)\n",
      "Requirement already satisfied: scikit-learn>=0.20.3 in c:\\anaconda\\lib\\site-packages (from mlxtend) (0.23.2)\n",
      "Requirement already satisfied: numpy>=1.16.2 in c:\\anaconda\\lib\\site-packages (from mlxtend) (1.19.2)\n",
      "Requirement already satisfied: cycler>=0.10 in c:\\anaconda\\lib\\site-packages (from matplotlib>=3.0.0->mlxtend) (0.10.0)\n",
      "Requirement already satisfied: certifi>=2020.06.20 in c:\\anaconda\\lib\\site-packages (from matplotlib>=3.0.0->mlxtend) (2020.11.8)\n",
      "Requirement already satisfied: pyparsing!=2.0.4,!=2.1.2,!=2.1.6,>=2.0.3 in c:\\anaconda\\lib\\site-packages (from matplotlib>=3.0.0->mlxtend) (2.4.7)\n",
      "Requirement already satisfied: kiwisolver>=1.0.1 in c:\\anaconda\\lib\\site-packages (from matplotlib>=3.0.0->mlxtend) (1.3.0)\n",
      "Requirement already satisfied: pillow>=6.2.0 in c:\\anaconda\\lib\\site-packages (from matplotlib>=3.0.0->mlxtend) (8.0.1)\n",
      "Requirement already satisfied: python-dateutil>=2.1 in c:\\anaconda\\lib\\site-packages (from matplotlib>=3.0.0->mlxtend) (2.8.1)\n",
      "Requirement already satisfied: pytz>=2017.2 in c:\\anaconda\\lib\\site-packages (from pandas>=0.24.2->mlxtend) (2020.1)\n",
      "Requirement already satisfied: threadpoolctl>=2.0.0 in c:\\anaconda\\lib\\site-packages (from scikit-learn>=0.20.3->mlxtend) (2.1.0)\n",
      "Requirement already satisfied: six in c:\\anaconda\\lib\\site-packages (from cycler>=0.10->matplotlib>=3.0.0->mlxtend) (1.15.0)\n"
     ]
    }
   ],
   "source": [
    "!pip install mlxtend"
   ]
  },
  {
   "cell_type": "markdown",
   "metadata": {},
   "source": [
    "##### Bias Variance Decomposition of a Decision Tree Regressor"
   ]
  },
  {
   "cell_type": "code",
   "execution_count": 308,
   "metadata": {},
   "outputs": [
    {
     "name": "stdout",
     "output_type": "stream",
     "text": [
      "Average expected loss: 0.443\n",
      "Average bias: 0.301\n",
      "Average variance: 0.363\n"
     ]
    }
   ],
   "source": [
    "from sklearn.model_selection import train_test_split\n",
    "from mlxtend.evaluate import bias_variance_decomp\n",
    "\n",
    "# Cargar  dataset\n",
    "X = dataML.drop(['price'], axis=1) # quitar la columna target\n",
    "y = dataML['price'] # columna target\n",
    "\n",
    "X = X.values\n",
    "y = y.values\n",
    "\n",
    "X_train, X_test, y_train, y_test = train_test_split(X, y, test_size=0.3, random_state=2)\n",
    "\n",
    "model = DecisionTreeClassifier(random_state=2, max_depth=15)\n",
    "\n",
    "avg_expected_loss, avg_bias, avg_var = bias_variance_decomp(\n",
    "        model, X_train, y_train, X_test, y_test, \n",
    "        loss='0-1_loss',\n",
    "        random_seed=123)\n",
    "\n",
    "print('Average expected loss: %.3f' % avg_expected_loss)\n",
    "print('Average bias: %.3f' % avg_bias)\n",
    "print('Average variance: %.3f' % avg_var)\n"
   ]
  },
  {
   "cell_type": "markdown",
   "metadata": {},
   "source": [
    "##### Bias-variance decomposition of a bagging regressor"
   ]
  },
  {
   "cell_type": "code",
   "execution_count": 310,
   "metadata": {},
   "outputs": [
    {
     "name": "stdout",
     "output_type": "stream",
     "text": [
      "Average expected loss: 0.969\n",
      "Average bias: 0.873\n",
      "Average variance: 0.953\n"
     ]
    }
   ],
   "source": [
    "# Comparación con bagging regressor\n",
    "from sklearn.ensemble import BaggingRegressor\n",
    "\n",
    "# Cargar  dataset\n",
    "X = dataML.drop(['price'], axis=1) # quitar la columna target\n",
    "y = dataML['price'] # columna target\n",
    "\n",
    "X = X.values\n",
    "y = y.values\n",
    "\n",
    "tree = DecisionTreeRegressor(random_state=2, max_depth=15)\n",
    "bag = BaggingRegressor(base_estimator=tree,\n",
    "                       n_estimators=100,\n",
    "                       random_state=2)\n",
    "\n",
    "avg_expected_loss, avg_bias, avg_var = bias_variance_decomp(\n",
    "        bag, X_train, y_train, X_test, y_test, \n",
    "        loss='0-1_loss',\n",
    "        random_seed=123)\n",
    "\n",
    "print('Average expected loss: %.3f' % avg_expected_loss)\n",
    "print('Average bias: %.3f' % avg_bias)\n",
    "print('Average variance: %.3f' % avg_var)"
   ]
  },
  {
   "cell_type": "markdown",
   "metadata": {},
   "source": [
    "#### Bias Variance Decomposition of a Decision Tree Classifier"
   ]
  },
  {
   "cell_type": "code",
   "execution_count": 315,
   "metadata": {},
   "outputs": [
    {
     "name": "stdout",
     "output_type": "stream",
     "text": [
      "Average expected loss: 0.443\n",
      "Average bias: 0.301\n",
      "Average variance: 0.363\n"
     ]
    }
   ],
   "source": [
    "from mlxtend.evaluate import bias_variance_decomp\n",
    "\n",
    "# Cargar  dataset\n",
    "X = dataML.drop(['price'], axis=1) # quitar la columna target\n",
    "y = dataML['price'] # columna target\n",
    "\n",
    "X = X.values\n",
    "y = y.values\n",
    "\n",
    "X_train, X_test, y_train, y_test = train_test_split(X, y, test_size=0.3, random_state=2)\n",
    "\n",
    "model = DecisionTreeClassifier(random_state=2, max_depth=15)\n",
    "\n",
    "avg_expected_loss, avg_bias, avg_var = bias_variance_decomp(\n",
    "        model, X_train, y_train, X_test, y_test, \n",
    "        loss='0-1_loss',\n",
    "        random_seed=123)\n",
    "\n",
    "print('Average expected loss: %.3f' % avg_expected_loss)\n",
    "print('Average bias: %.3f' % avg_bias)\n",
    "print('Average variance: %.3f' % avg_var)\n"
   ]
  },
  {
   "cell_type": "markdown",
   "metadata": {},
   "source": [
    "#### Bias-variance MSE linear regressor (los modelos calculados con atributos polinómicos y con regularización)"
   ]
  },
  {
   "cell_type": "code",
   "execution_count": 312,
   "metadata": {},
   "outputs": [
    {
     "name": "stdout",
     "output_type": "stream",
     "text": [
      "Average expected loss: 2637346187.283\n",
      "Average bias: 2632395001.248\n",
      "Average variance: 4951186.035\n"
     ]
    }
   ],
   "source": [
    "from mlxtend.evaluate import bias_variance_decomp\n",
    "\n",
    "# Cargar  dataset\n",
    "X = dataML.drop(['price'], axis=1) # quitar la columna target\n",
    "y = dataML['price'] # columna target\n",
    "\n",
    "X = X.values\n",
    "y = y.values\n",
    "\n",
    "X_train, X_test, y_train, y_test = train_test_split(X, y, test_size=0.3, random_state=2)\n",
    "\n",
    "model = pr\n",
    "\n",
    "avg_expected_loss, avg_bias, avg_var = bias_variance_decomp(\n",
    "        model, X_train, y_train, X_test, y_test, \n",
    "        loss='mse',\n",
    "        random_seed=123)\n",
    "\n",
    "print('Average expected loss: %.3f' % avg_expected_loss)\n",
    "print('Average bias: %.3f' % avg_bias)\n",
    "print('Average variance: %.3f' % avg_var)"
   ]
  },
  {
   "cell_type": "code",
   "execution_count": 314,
   "metadata": {},
   "outputs": [
    {
     "name": "stdout",
     "output_type": "stream",
     "text": [
      "Average expected loss: 2638852516.415\n",
      "Average bias: 2633901689.125\n",
      "Average variance: 4950827.290\n"
     ]
    }
   ],
   "source": [
    "from mlxtend.evaluate import bias_variance_decomp\n",
    "\n",
    "# Cargar  dataset\n",
    "X = dataML.drop(['price'], axis=1) # quitar la columna target\n",
    "y = dataML['price'] # columna target\n",
    "\n",
    "X = X.values\n",
    "y = y.values\n",
    "\n",
    "X_train, X_test, y_train, y_test = train_test_split(X, y, test_size=0.3, random_state=2)\n",
    "\n",
    "model = lassoreg\n",
    "\n",
    "avg_expected_loss, avg_bias, avg_var = bias_variance_decomp(\n",
    "        model, X_train, y_train, X_test, y_test, \n",
    "        loss='mse',\n",
    "        random_seed=123)\n",
    "\n",
    "print('Average expected loss: %.3f' % avg_expected_loss)\n",
    "print('Average bias: %.3f' % avg_bias)\n",
    "print('Average variance: %.3f' % avg_var)"
   ]
  },
  {
   "cell_type": "markdown",
   "metadata": {},
   "source": [
    "* ¿Qué mejorarías? Ten en cuenta siempre terminar con una discusión sobre lo realizado y conclusiones obtenidas."
   ]
  },
  {
   "cell_type": "markdown",
   "metadata": {},
   "source": [
    "##### La aplicación de modelos más complejos sobre este dataset en particular requieren una gran capacidad de cómputo que muchas veces no están disponibles de forma abierta en las diferentes plataformas.\n",
    "\n",
    "##### El rendimiento de un modelo de aprendizaje automático se puede caracterizar en términos del sesgo y la varianza del modelo.\n",
    "\n",
    "##### Un modelo con un alto sesgo hace suposiciones sólidas sobre la forma de la función subyacente desconocida que asigna entradas a salidas en el conjunto de datos, como la regresión lineal. Un modelo con una alta varianza depende en gran medida de las características específicas del conjunto de datos de entrenamiento, como los árboles de decisión sin podar. Deseamos modelos con bajo sesgo y baja varianza, aunque a menudo existe una compensación entre estas dos."
   ]
  },
  {
   "cell_type": "markdown",
   "metadata": {},
   "source": [
    "* Finalmente, responde, ¿coincide con lo que esperabas a partir de tu experiencia con este dataset?"
   ]
  },
  {
   "cell_type": "markdown",
   "metadata": {},
   "source": [
    "#### Sí, coincide con lo esperaba después de realizar las optimizaciones.  Es de gran relevancia que el el dataset esté optimizado con las técnicas llevadas a cabo para realizar las predicciones más exactas. Así mismo se reitera que la información relacionada a la georeferenciación debe ser más precisa y mejorada al momento de su registro y/o digitación."
   ]
  }
 ],
 "metadata": {
  "kernelspec": {
   "display_name": "Python 3",
   "language": "python",
   "name": "python3"
  },
  "language_info": {
   "codemirror_mode": {
    "name": "ipython",
    "version": 3
   },
   "file_extension": ".py",
   "mimetype": "text/x-python",
   "name": "python",
   "nbconvert_exporter": "python",
   "pygments_lexer": "ipython3",
   "version": "3.8.3"
  }
 },
 "nbformat": 4,
 "nbformat_minor": 4
}
